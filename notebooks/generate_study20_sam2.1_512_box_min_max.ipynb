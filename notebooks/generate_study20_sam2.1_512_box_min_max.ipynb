{
 "cells": [
  {
   "cell_type": "code",
   "execution_count": 1,
   "metadata": {},
   "outputs": [],
   "source": [
    "%load_ext autoreload\n",
    "%autoreload 2"
   ]
  },
  {
   "cell_type": "code",
   "execution_count": 2,
   "metadata": {},
   "outputs": [],
   "source": [
    "from pathlib import Path\n",
    "import os\n",
    "\n",
    "_current_fname = Path(locals()[\"__vsc_ipynb_file__\"])\n",
    "os.chdir(_current_fname.parent)"
   ]
  },
  {
   "cell_type": "code",
   "execution_count": 3,
   "metadata": {},
   "outputs": [],
   "source": [
    "import copick\n",
    "import multiprocess as mp\n",
    "import numpy as np\n",
    "\n",
    "mp.set_start_method(\"spawn\")\n"
   ]
  },
  {
   "cell_type": "code",
   "execution_count": 8,
   "metadata": {},
   "outputs": [],
   "source": [
    "def run_in_separate_process(\n",
    "    run_id,\n",
    "    out_dir,\n",
    "    device=0,\n",
    "    min_mask_area=2000,\n",
    "):\n",
    "    def overlap(img1, img2):\n",
    "        ints = np.logical_and(img1, img2).sum()\n",
    "        return ints / min(img1.sum(), img2.sum())\n",
    "\n",
    "    print(\"Using device: \", device)\n",
    "    import os\n",
    "\n",
    "    os.environ[\"CUDA_VISIBLE_DEVICES\"] = str(device)\n",
    "    from pathlib import Path\n",
    "\n",
    "    import copick\n",
    "    import joblib\n",
    "    import my_sam2_utils as utils\n",
    "    import numpy as np\n",
    "    import skimage\n",
    "    import torch\n",
    "\n",
    "    # use bfloat16 for the entire notebook.\n",
    "    torch.autocast(device_type=\"cuda\", dtype=torch.bfloat16).__enter__()\n",
    "\n",
    "    if torch.cuda.get_device_properties(0).major >= 8:\n",
    "        # turn on tfloat32 for Ampere GPUs (https://pytorch.org/docs/stable/notes/cuda.html#tensorfloat-32-tf32-on-ampere-devices)\n",
    "        torch.backends.cuda.matmul.allow_tf32 = True\n",
    "        torch.backends.cudnn.allow_tf32 = True\n",
    "\n",
    "    # select the device for computation\n",
    "    if torch.cuda.is_available():\n",
    "        device = torch.device(\"cuda\")\n",
    "    elif torch.backends.mps.is_available():\n",
    "        device = torch.device(\"mps\")\n",
    "    else:\n",
    "        device = torch.device(\"cpu\")\n",
    "    print(f\"using device: {device}\")\n",
    "\n",
    "    # use bfloat16 for the entire notebook\n",
    "    torch.autocast(\"cuda\", dtype=torch.bfloat16).__enter__()\n",
    "    # turn on tfloat32 for Ampere GPUs (https://pytorch.org/docs/stable/notes/cuda.html#tensorfloat-32-tf32-on-ampere-devices)\n",
    "    if torch.cuda.get_device_properties(0).major >= 8:\n",
    "        torch.backends.cuda.matmul.allow_tf32 = True\n",
    "        torch.backends.cudnn.allow_tf32 = True\n",
    "\n",
    "    from sam2.automatic_mask_generator import SAM2AutomaticMaskGenerator\n",
    "    from sam2.build_sam import build_sam2, build_sam2_tomogram_predictor\n",
    "\n",
    "    copick_config = (\n",
    "        \"/hpc/projects/group.czii/krios1.processing/copick/24jul29c/run002/copick_config.json\"\n",
    "    )\n",
    "\n",
    "    # Open Copick Project and Query All Available Runs\n",
    "    root = copick.from_file(copick_config)\n",
    "    run = root.get_run(run_id)\n",
    "    vol = utils.get_tomogram(run)\n",
    "\n",
    "    print(f\"Preprocessing the volume for {run_id}\")\n",
    "\n",
    "    vol_mean = vol.mean()\n",
    "    vol_std = vol.std()\n",
    "    vol_normed = np.clip(vol, vol_mean - 5 * vol_std, vol_mean + 5 * vol_std)\n",
    "    vol_normed = (vol_normed - vol_normed.min()) / (vol_normed.max() - vol_normed.min())\n",
    "    vol_normed = vol_normed * 2 - 1\n",
    "\n",
    "    zSlice = vol.shape[0] // 2  # int(points.mean(axis=0)[0])\n",
    "    deltaZ = 50  # int((np.max(points[:, 0]) - np.min(points[:, 0]))) * 2\n",
    "\n",
    "    min_mask_area = 2000\n",
    "\n",
    "    #\n",
    "    image = utils.project_tomogram(vol_normed, zSlice, deltaZ)\n",
    "    image = (image - image.min()) / (image.max() - image.min()) * 2 - 1\n",
    "\n",
    "    # Extend From Grayscale to RGB\n",
    "    image = np.repeat(image[..., None], 3, axis=2)\n",
    "\n",
    "    sam2_checkpoint = (\n",
    "        \"/hpc/mydata/saugat.kandel/sam2_projects/segment-anything-2/checkpoints/sam2_hiera_large.pt\"\n",
    "    )\n",
    "    model_cfg = \"sam2_hiera_l.yaml\"\n",
    "\n",
    "    sam2 = build_sam2(model_cfg, sam2_checkpoint, device=device, apply_postprocessing=True)\n",
    "    # mask_generator = SAM2AutomaticMaskGenerator(sam2)\n",
    "    mask_generator = SAM2AutomaticMaskGenerator(\n",
    "        model=sam2,\n",
    "        points_per_side=32,\n",
    "        points_per_batch=64,\n",
    "        pred_iou_thresh=0.7,\n",
    "        stability_score_thresh=0.92,\n",
    "        stability_score_offset=0.7,\n",
    "        crop_n_layers=1,\n",
    "        box_nms_thresh=0.5,\n",
    "        crop_n_points_downscale_factor=2,\n",
    "        min_mask_region_area=2000,\n",
    "        use_m2m=True,\n",
    "        multimask_output=True,\n",
    "        max_rel_box_size=0.8,\n",
    "        min_rel_box_size=0.15,\n",
    "    )\n",
    "\n",
    "    print(\"Running automatic segmentation for projection\")\n",
    "    masks = mask_generator.generate(image)\n",
    "\n",
    "    # Filter masks based on the area key and on side length\n",
    "    masks_filtered = []\n",
    "    for mask in masks:\n",
    "        _x1, _y1, w, h = mask[\"bbox\"]\n",
    "        if (\n",
    "            (mask[\"area\"] < min_mask_area)\n",
    "            or (w > 0.8 * image.shape[1])\n",
    "            or (h > 0.8 * image.shape[0])\n",
    "        ):\n",
    "            continue\n",
    "        masks_filtered.append(mask)\n",
    "    masks = masks_filtered\n",
    "    flags = {\"overlap\": False}\n",
    "    # Filter based on oveerlap\n",
    "    masks_to_remove = []\n",
    "\n",
    "    # for _i1, _mask1 in enumerate(masks):\n",
    "    #    _x1, _y1, w, h = _mask1[\"bbox\"]\n",
    "    #    for _i2, _mask2 in enumerate(masks):\n",
    "    #        if _i1 >= _i2:\n",
    "    #            continue\n",
    "    #        overlap_score = overlap(_mask1[\"segmentation\"], _mask2[\"segmentation\"])\n",
    "    #\n",
    "    #        if overlap_score > 0.9:\n",
    "    #            flags[\"overlap\"] = True\n",
    "    #            if _mask1[\"area\"] > _mask2[\"area\"]:\n",
    "    #                masks_to_remove.append(_i1)\n",
    "    #            else:\n",
    "    #                masks_to_remove.append(_i2)\n",
    "    # masks_to_remove = np.unique(masks_to_remove)\n",
    "    # masks = [masks[i] for i in range(len(masks)) if i not in masks_to_remove]\n",
    "    masks = sorted(masks, key=lambda x: x[\"area\"])\n",
    "\n",
    "    mask_outputs = {\"masks\": masks, \"flags\": flags}\n",
    "    print(\"Saving the masks\")\n",
    "    # out_dir = Path(\"cryosam_outputs_no_overlap\")\n",
    "    Path(out_dir).mkdir(exist_ok=True)\n",
    "    joblib.dump(mask_outputs, out_dir / f\"auto_masks_{run_id}.pkl\")\n",
    "\n",
    "    print(\"Running automatic segmentation for volume\")\n",
    "    model_cfg_2 = \"sam2_hiera_l_custom.yaml\"\n",
    "    predictor = build_sam2_tomogram_predictor(model_cfg_2, sam2_checkpoint, device=device)\n",
    "\n",
    "    inference_state = predictor.init_state(vol_normed)\n",
    "    predictor.reset_state(inference_state)\n",
    "\n",
    "    ann_frame_idx = zSlice\n",
    "\n",
    "    for ii in range(len(masks)):\n",
    "        # sam_points = (auto_points[ii, :] * scale).reshape(1, 2)\n",
    "        ann_obj_id = ii + 1\n",
    "\n",
    "        _, out_obj_ids, out_mask_logits = predictor.add_new_mask(\n",
    "            inference_state=inference_state,\n",
    "            frame_idx=ann_frame_idx,\n",
    "            obj_id=ann_obj_id,\n",
    "            mask=masks[ii][\"segmentation\"],\n",
    "        )\n",
    "\n",
    "    video_segments = {}\n",
    "    for out_frame_idx, out_obj_ids, out_mask_logits in predictor.propagate_in_video(\n",
    "        inference_state, start_frame_idx=zSlice, reverse=False\n",
    "    ):\n",
    "        video_segments[out_frame_idx] = {\n",
    "            out_obj_id: (out_mask_logits[i] > 0.0).cpu().numpy()\n",
    "            for i, out_obj_id in enumerate(out_obj_ids)\n",
    "        }\n",
    "\n",
    "        # Pull out Masks for Multiple Classes\n",
    "    nMasks = len(video_segments[zSlice])\n",
    "    vol_mask = np.zeros([vol.shape[0], vol.shape[1], vol.shape[2]], dtype=np.uint8)\n",
    "    for out_frame_idx in list(video_segments):\n",
    "        for jj in range(nMasks):\n",
    "            resized_mask = skimage.transform.resize(\n",
    "                video_segments[out_frame_idx][jj + 1][0,],\n",
    "                (vol.shape[1], vol.shape[2]),\n",
    "                anti_aliasing=False,\n",
    "            )\n",
    "            mask_update = resized_mask > 0\n",
    "            vol_mask[out_frame_idx, :, :][mask_update] = jj + 1\n",
    "\n",
    "    # run propagation throughout the video and collect the results in a dict\n",
    "    video_segments = {}  # video_segments contains the per-frame segmentation results\n",
    "    for out_frame_idx, out_obj_ids, out_mask_logits in predictor.propagate_in_video(\n",
    "        inference_state, start_frame_idx=zSlice, reverse=True\n",
    "    ):\n",
    "        video_segments[out_frame_idx] = {\n",
    "            out_obj_id: (out_mask_logits[i] > 0.0).cpu().numpy()\n",
    "            for i, out_obj_id in enumerate(out_obj_ids)\n",
    "        }\n",
    "\n",
    "    # Pull out Masks for Multiple Classes\n",
    "    for out_frame_idx in list(video_segments):\n",
    "        for jj in range(nMasks):\n",
    "            resized_mask = skimage.transform.resize(\n",
    "                video_segments[out_frame_idx][jj + 1][0,],\n",
    "                (vol.shape[1], vol.shape[2]),\n",
    "                anti_aliasing=False,\n",
    "            )\n",
    "            mask_update = resized_mask > 0\n",
    "            vol_mask[out_frame_idx, :, :][mask_update] = jj + 1\n",
    "\n",
    "    # Save the mask and the volume\n",
    "    print(\"Saving the masks and the volume\")\n",
    "\n",
    "    joblib.dump(vol_mask, out_dir / f\"vol_mask_{run_id}.pkl\")\n",
    "    return masks, vol_mask"
   ]
  },
  {
   "cell_type": "code",
   "execution_count": 9,
   "metadata": {},
   "outputs": [],
   "source": [
    "copick_config = (\n",
    "    \"/hpc/projects/group.czii/krios1.processing/copick/24jul29c/run002/copick_config.json\"\n",
    ")\n",
    "\n",
    "# Open Copick Project and Query All Available Runs\n",
    "root = copick.from_file(copick_config)\n",
    "run_ids = [run.name for run in root.runs]"
   ]
  },
  {
   "cell_type": "code",
   "execution_count": null,
   "metadata": {},
   "outputs": [
    {
     "name": "stderr",
     "output_type": "stream",
     "text": [
      "Process Process-268:\n",
      "Traceback (most recent call last):\n",
      "  File \"/hpc/mydata/saugat.kandel/sam2_projects/.pixi/envs/default/lib/python3.12/site-packages/multiprocess/process.py\", line 314, in _bootstrap\n",
      "    self.run()\n",
      "  File \"/hpc/mydata/saugat.kandel/sam2_projects/.pixi/envs/default/lib/python3.12/site-packages/multiprocess/process.py\", line 108, in run\n",
      "    self._target(*self._args, **self._kwargs)\n",
      "  File \"/tmp/ipykernel_1701885/244904649.py\", line 105, in run_in_separate_process\n",
      "  File \"/hpc/mydata/saugat.kandel/sam2_projects/.pixi/envs/default/lib/python3.12/site-packages/torch/utils/_contextlib.py\", line 116, in decorate_context\n",
      "    return func(*args, **kwargs)\n",
      "           ^^^^^^^^^^^^^^^^^^^^^\n",
      "  File \"/hpc/mydata/saugat.kandel/sam2_projects/segment-anything-2/sam2/automatic_mask_generator.py\", line 202, in generate\n",
      "    mask_data = self._generate_masks(image)\n",
      "                ^^^^^^^^^^^^^^^^^^^^^^^^^^^\n",
      "  File \"/hpc/mydata/saugat.kandel/sam2_projects/segment-anything-2/sam2/automatic_mask_generator.py\", line 245, in _generate_masks\n",
      "    scores = 1 / box_area(data[\"crop_boxes\"])\n",
      "                 ^^^^^^^^^^^^^^^^^^^^^^^^^^^^\n",
      "  File \"/hpc/mydata/saugat.kandel/sam2_projects/.pixi/envs/default/lib/python3.12/site-packages/torchvision/ops/boxes.py\", line 251, in box_area\n",
      "    return (boxes[:, 2] - boxes[:, 0]) * (boxes[:, 3] - boxes[:, 1])\n",
      "            ~~~~~^^^^^^\n",
      "IndexError: too many indices for tensor of dimension 1\n",
      "Process Process-267:\n",
      "Traceback (most recent call last):\n",
      "  File \"/hpc/mydata/saugat.kandel/sam2_projects/.pixi/envs/default/lib/python3.12/site-packages/multiprocess/process.py\", line 314, in _bootstrap\n",
      "    self.run()\n",
      "  File \"/hpc/mydata/saugat.kandel/sam2_projects/.pixi/envs/default/lib/python3.12/site-packages/multiprocess/process.py\", line 108, in run\n",
      "    self._target(*self._args, **self._kwargs)\n",
      "  File \"/tmp/ipykernel_1701885/244904649.py\", line 105, in run_in_separate_process\n",
      "  File \"/hpc/mydata/saugat.kandel/sam2_projects/.pixi/envs/default/lib/python3.12/site-packages/torch/utils/_contextlib.py\", line 116, in decorate_context\n",
      "    return func(*args, **kwargs)\n",
      "           ^^^^^^^^^^^^^^^^^^^^^\n",
      "  File \"/hpc/mydata/saugat.kandel/sam2_projects/segment-anything-2/sam2/automatic_mask_generator.py\", line 202, in generate\n",
      "    mask_data = self._generate_masks(image)\n",
      "                ^^^^^^^^^^^^^^^^^^^^^^^^^^^\n",
      "  File \"/hpc/mydata/saugat.kandel/sam2_projects/segment-anything-2/sam2/automatic_mask_generator.py\", line 245, in _generate_masks\n",
      "    scores = 1 / box_area(data[\"crop_boxes\"])\n",
      "                 ^^^^^^^^^^^^^^^^^^^^^^^^^^^^\n",
      "  File \"/hpc/mydata/saugat.kandel/sam2_projects/.pixi/envs/default/lib/python3.12/site-packages/torchvision/ops/boxes.py\", line 251, in box_area\n",
      "    return (boxes[:, 2] - boxes[:, 0]) * (boxes[:, 3] - boxes[:, 1])\n",
      "            ~~~~~^^^^^^\n",
      "IndexError: too many indices for tensor of dimension 1\n"
     ]
    },
    {
     "name": "stdout",
     "output_type": "stream",
     "text": [
      "Using device:  1\n",
      "using device: cuda\n",
      "Getting denoised Tomogram with 10 A voxel size for the associated runID: Position_10_3_Vol\n",
      "Preprocessing the volume for Position_10_3_Vol\n",
      "Running automatic segmentation for projection\n",
      "Using device:  0\n",
      "using device: cuda\n",
      "Getting denoised Tomogram with 10 A voxel size for the associated runID: Position_10_2_Vol\n",
      "Preprocessing the volume for Position_10_2_Vol\n",
      "Running automatic segmentation for projection\n"
     ]
    },
    {
     "name": "stderr",
     "output_type": "stream",
     "text": [
      "Process Process-270:\n",
      "Traceback (most recent call last):\n",
      "  File \"/hpc/mydata/saugat.kandel/sam2_projects/.pixi/envs/default/lib/python3.12/site-packages/multiprocess/process.py\", line 314, in _bootstrap\n",
      "    self.run()\n",
      "  File \"/hpc/mydata/saugat.kandel/sam2_projects/.pixi/envs/default/lib/python3.12/site-packages/multiprocess/process.py\", line 108, in run\n",
      "    self._target(*self._args, **self._kwargs)\n",
      "  File \"/tmp/ipykernel_1701885/244904649.py\", line 105, in run_in_separate_process\n",
      "  File \"/hpc/mydata/saugat.kandel/sam2_projects/.pixi/envs/default/lib/python3.12/site-packages/torch/utils/_contextlib.py\", line 116, in decorate_context\n",
      "    return func(*args, **kwargs)\n",
      "           ^^^^^^^^^^^^^^^^^^^^^\n",
      "  File \"/hpc/mydata/saugat.kandel/sam2_projects/segment-anything-2/sam2/automatic_mask_generator.py\", line 202, in generate\n",
      "    mask_data = self._generate_masks(image)\n",
      "                ^^^^^^^^^^^^^^^^^^^^^^^^^^^\n",
      "  File \"/hpc/mydata/saugat.kandel/sam2_projects/segment-anything-2/sam2/automatic_mask_generator.py\", line 245, in _generate_masks\n",
      "    scores = 1 / box_area(data[\"crop_boxes\"])\n",
      "                 ^^^^^^^^^^^^^^^^^^^^^^^^^^^^\n",
      "  File \"/hpc/mydata/saugat.kandel/sam2_projects/.pixi/envs/default/lib/python3.12/site-packages/torchvision/ops/boxes.py\", line 251, in box_area\n",
      "    return (boxes[:, 2] - boxes[:, 0]) * (boxes[:, 3] - boxes[:, 1])\n",
      "            ~~~~~^^^^^^\n",
      "IndexError: too many indices for tensor of dimension 1\n"
     ]
    },
    {
     "name": "stdout",
     "output_type": "stream",
     "text": [
      "Using device:  3\n",
      "using device: cuda\n",
      "Getting denoised Tomogram with 10 A voxel size for the associated runID: Position_10_5_Vol\n",
      "Preprocessing the volume for Position_10_5_Vol\n",
      "Running automatic segmentation for projection\n",
      "Using device:  2\n",
      "using device: cuda\n",
      "Getting denoised Tomogram with 10 A voxel size for the associated runID: Position_10_4_Vol\n",
      "Preprocessing the volume for Position_10_4_Vol\n",
      "Running automatic segmentation for projection\n",
      "Saving the masks\n",
      "Running automatic segmentation for volume\n"
     ]
    },
    {
     "name": "stderr",
     "output_type": "stream",
     "text": [
      "100%|██████████| 186/186 [00:02<00:00, 63.14it/s]\n",
      "propagate in video: 100%|██████████| 93/93 [00:02<00:00, 31.63it/s]\n",
      "propagate in video: 100%|██████████| 94/94 [00:02<00:00, 31.59it/s]\n"
     ]
    },
    {
     "name": "stdout",
     "output_type": "stream",
     "text": [
      "Saving the masks and the volume\n",
      "Using device:  1\n",
      "using device: cuda\n",
      "Getting denoised Tomogram with 10 A voxel size for the associated runID: Position_11_2_Vol\n",
      "Preprocessing the volume for Position_11_2_Vol\n",
      "Running automatic segmentation for projection\n",
      "Saving the masks\n",
      "Running automatic segmentation for volume\n"
     ]
    },
    {
     "name": "stderr",
     "output_type": "stream",
     "text": [
      "  2%|▏         | 3/186 [00:00<00:08, 22.87it/s]]"
     ]
    },
    {
     "name": "stdout",
     "output_type": "stream",
     "text": [
      "Using device:  0\n",
      "using device: cuda\n",
      "Getting denoised Tomogram with 10 A voxel size for the associated runID: Position_10_Vol\n",
      "Preprocessing the volume for Position_10_Vol\n",
      "Running automatic segmentation for projection\n",
      "Saving the masks\n",
      "Running automatic segmentation for volume\n",
      "Using device:  3\n",
      "using device: cuda\n",
      "Getting denoised Tomogram with 10 A voxel size for the associated runID: Position_11_4_Vol\n",
      "Preprocessing the volume for Position_11_4_Vol\n",
      "Running automatic segmentation for projection\n",
      "Saving the masks\n",
      "Running automatic segmentation for volume\n"
     ]
    },
    {
     "name": "stderr",
     "output_type": "stream",
     "text": [
      "  0%|          | 0/186 [00:00<?, ?it/s]3.48it/s]"
     ]
    },
    {
     "name": "stdout",
     "output_type": "stream",
     "text": [
      "Using device:  2\n",
      "using device: cuda\n",
      "Getting denoised Tomogram with 10 A voxel size for the associated runID: Position_11_3_Vol\n",
      "Preprocessing the volume for Position_11_3_Vol\n",
      "Running automatic segmentation for projection\n",
      "Saving the masks\n",
      "Running automatic segmentation for volume\n"
     ]
    },
    {
     "name": "stderr",
     "output_type": "stream",
     "text": [
      "100%|██████████| 186/186 [00:09<00:00, 19.75it/s]\n",
      "100%|██████████| 186/186 [00:10<00:00, 18.02it/s]?, ?it/s]\n",
      "100%|██████████| 186/186 [00:12<00:00, 15.32it/s]<00:02, 22.64it/s]\n",
      "100%|██████████| 186/186 [00:12<00:00, 14.84it/s]<00:00, 40.33it/s]\n",
      "propagate in video: 100%|██████████| 93/93 [00:02<00:00, 36.91it/s]\n",
      "propagate in video: 100%|██████████| 93/93 [00:04<00:00, 22.13it/s]\n",
      "propagate in video: 100%|██████████| 93/93 [00:02<00:00, 35.58it/s]\n",
      "propagate in video: 100%|██████████| 94/94 [00:02<00:00, 43.22it/s]\n",
      "propagate in video:  84%|████████▍ | 78/93 [00:03<00:00, 25.07it/s]"
     ]
    },
    {
     "name": "stdout",
     "output_type": "stream",
     "text": [
      "Saving the masks and the volume\n"
     ]
    },
    {
     "name": "stderr",
     "output_type": "stream",
     "text": [
      "propagate in video: 100%|██████████| 93/93 [00:03<00:00, 25.41it/s]\n",
      "propagate in video: 100%|██████████| 94/94 [00:02<00:00, 36.01it/s]\n",
      "propagate in video:  98%|█████████▊| 92/94 [00:03<00:00, 24.77it/s]"
     ]
    },
    {
     "name": "stdout",
     "output_type": "stream",
     "text": [
      "Saving the masks and the volume\n"
     ]
    },
    {
     "name": "stderr",
     "output_type": "stream",
     "text": [
      "propagate in video: 100%|██████████| 94/94 [00:03<00:00, 25.26it/s]\n",
      "propagate in video:  63%|██████▎   | 59/94 [00:02<00:01, 25.04it/s]"
     ]
    },
    {
     "name": "stdout",
     "output_type": "stream",
     "text": [
      "Saving the masks and the volume\n"
     ]
    },
    {
     "name": "stderr",
     "output_type": "stream",
     "text": [
      "propagate in video: 100%|██████████| 94/94 [00:03<00:00, 25.41it/s]\n"
     ]
    },
    {
     "name": "stdout",
     "output_type": "stream",
     "text": [
      "Saving the masks and the volume\n"
     ]
    },
    {
     "name": "stderr",
     "output_type": "stream",
     "text": [
      "  2%|▏         | 4/186 [00:00<00:05, 32.92it/s]"
     ]
    },
    {
     "name": "stdout",
     "output_type": "stream",
     "text": [
      "Using device:  3\n",
      "using device: cuda\n",
      "Getting denoised Tomogram with 10 A voxel size for the associated runID: Position_12_3_Vol\n",
      "Preprocessing the volume for Position_12_3_Vol\n",
      "Running automatic segmentation for projection\n",
      "Saving the masks\n",
      "Running automatic segmentation for volume\n",
      "Using device:  0\n",
      "using device: cuda\n",
      "Getting denoised Tomogram with 10 A voxel size for the associated runID: Position_11_5_Vol\n",
      "Preprocessing the volume for Position_11_5_Vol\n",
      "Running automatic segmentation for projection\n",
      "Saving the masks\n",
      "Running automatic segmentation for volume\n"
     ]
    },
    {
     "name": "stderr",
     "output_type": "stream",
     "text": [
      "  6%|▌         | 11/186 [00:00<00:08, 21.81it/s]"
     ]
    },
    {
     "name": "stdout",
     "output_type": "stream",
     "text": [
      "Using device:  2\n",
      "using device: cuda\n",
      "Getting denoised Tomogram with 10 A voxel size for the associated runID: Position_12_2_Vol\n",
      "Preprocessing the volume for Position_12_2_Vol\n",
      "Running automatic segmentation for projection\n",
      "Saving the masks\n",
      "Running automatic segmentation for volume\n"
     ]
    },
    {
     "name": "stderr",
     "output_type": "stream",
     "text": [
      " 16%|█▌        | 29/186 [00:01<00:08, 19.46it/s]"
     ]
    },
    {
     "name": "stdout",
     "output_type": "stream",
     "text": [
      "Using device:  1\n",
      "using device: cuda\n",
      "Getting denoised Tomogram with 10 A voxel size for the associated runID: Position_11_Vol\n",
      "Preprocessing the volume for Position_11_Vol\n",
      "Running automatic segmentation for projection\n",
      "Saving the masks\n",
      "Running automatic segmentation for volume\n"
     ]
    },
    {
     "name": "stderr",
     "output_type": "stream",
     "text": [
      "100%|██████████| 186/186 [00:06<00:00, 30.02it/s]\n",
      "100%|██████████| 186/186 [00:08<00:00, 20.88it/s]00:05, 16.95it/s]\n",
      "100%|██████████| 186/186 [00:10<00:00, 18.34it/s]<00:01, 42.60it/s]\n",
      "100%|██████████| 186/186 [00:10<00:00, 17.16it/s]<00:01, 28.18it/s]\n",
      "propagate in video: 100%|██████████| 93/93 [00:02<00:00, 42.11it/s]\n",
      "propagate in video: 100%|██████████| 93/93 [00:03<00:00, 25.98it/s]\n",
      "propagate in video: 100%|██████████| 93/93 [00:02<00:00, 41.76it/s]\n",
      "propagate in video: 100%|██████████| 93/93 [00:03<00:00, 28.78it/s]\n",
      "propagate in video: 100%|██████████| 94/94 [00:02<00:00, 42.44it/s]\n",
      "propagate in video:  51%|█████     | 48/94 [00:01<00:01, 29.35it/s]"
     ]
    },
    {
     "name": "stdout",
     "output_type": "stream",
     "text": [
      "Saving the masks and the volume\n"
     ]
    },
    {
     "name": "stderr",
     "output_type": "stream",
     "text": [
      "propagate in video: 100%|██████████| 94/94 [00:02<00:00, 42.42it/s]\n",
      "propagate in video:  13%|█▎        | 12/94 [00:00<00:02, 30.04it/s]"
     ]
    },
    {
     "name": "stdout",
     "output_type": "stream",
     "text": [
      "Saving the masks and the volume\n"
     ]
    },
    {
     "name": "stderr",
     "output_type": "stream",
     "text": [
      "propagate in video: 100%|██████████| 94/94 [00:03<00:00, 29.04it/s]\n",
      "propagate in video:  68%|██████▊   | 64/94 [00:02<00:01, 29.08it/s]"
     ]
    },
    {
     "name": "stdout",
     "output_type": "stream",
     "text": [
      "Saving the masks and the volume\n"
     ]
    },
    {
     "name": "stderr",
     "output_type": "stream",
     "text": [
      "propagate in video: 100%|██████████| 94/94 [00:03<00:00, 28.26it/s]\n"
     ]
    },
    {
     "name": "stdout",
     "output_type": "stream",
     "text": [
      "Saving the masks and the volume\n"
     ]
    },
    {
     "name": "stderr",
     "output_type": "stream",
     "text": [
      "  3%|▎         | 5/186 [00:00<00:03, 48.96it/s]"
     ]
    },
    {
     "name": "stdout",
     "output_type": "stream",
     "text": [
      "Using device:  0\n",
      "using device: cuda\n",
      "Getting denoised Tomogram with 10 A voxel size for the associated runID: Position_12_4_Vol\n",
      "Preprocessing the volume for Position_12_4_Vol\n",
      "Running automatic segmentation for projection\n",
      "Saving the masks\n",
      "Running automatic segmentation for volume\n"
     ]
    },
    {
     "name": "stderr",
     "output_type": "stream",
     "text": [
      " 30%|██▉       | 55/186 [00:01<00:03, 40.57it/s]"
     ]
    },
    {
     "name": "stdout",
     "output_type": "stream",
     "text": [
      "Using device:  2\n",
      "using device: cuda\n",
      "Getting denoised Tomogram with 10 A voxel size for the associated runID: Position_12_Vol\n",
      "Preprocessing the volume for Position_12_Vol\n",
      "Running automatic segmentation for projection\n",
      "Saving the masks\n",
      "Running automatic segmentation for volume\n"
     ]
    },
    {
     "name": "stderr",
     "output_type": "stream",
     "text": [
      "  0%|          | 0/186 [00:00<?, ?it/s]6.22it/s]"
     ]
    },
    {
     "name": "stdout",
     "output_type": "stream",
     "text": [
      "Using device:  1\n",
      "using device: cuda\n",
      "Getting denoised Tomogram with 10 A voxel size for the associated runID: Position_12_5_Vol\n",
      "Preprocessing the volume for Position_12_5_Vol\n",
      "Running automatic segmentation for projection\n",
      "Saving the masks\n",
      "Running automatic segmentation for volume\n"
     ]
    },
    {
     "name": "stderr",
     "output_type": "stream",
     "text": [
      " 26%|██▋       | 49/186 [00:03<00:08, 16.25it/s]]"
     ]
    },
    {
     "name": "stdout",
     "output_type": "stream",
     "text": [
      "Using device:  3\n",
      "using device: cuda\n",
      "Getting denoised Tomogram with 10 A voxel size for the associated runID: Position_13_2_Vol\n",
      "Preprocessing the volume for Position_13_2_Vol\n",
      "Running automatic segmentation for projection\n",
      "Saving the masks\n",
      "Running automatic segmentation for volume\n"
     ]
    },
    {
     "name": "stderr",
     "output_type": "stream",
     "text": [
      "100%|██████████| 186/186 [00:06<00:00, 28.43it/s]\n",
      "100%|██████████| 186/186 [00:09<00:00, 19.21it/s]<00:02, 13.33it/s]\n",
      "propagate in video: 100%|██████████| 93/93 [00:04<00:00, 19.71it/s]\n",
      "100%|██████████| 186/186 [00:07<00:00, 23.55it/s]<00:01, 41.56it/s]\n",
      "100%|██████████| 186/186 [00:11<00:00, 16.42it/s]<00:00, 41.70it/s]\n",
      "propagate in video: 100%|██████████| 93/93 [00:02<00:00, 39.00it/s]\n",
      "propagate in video: 100%|██████████| 93/93 [00:02<00:00, 41.65it/s]\n",
      "propagate in video: 100%|██████████| 94/94 [00:02<00:00, 31.61it/s]\n",
      "propagate in video: 100%|██████████| 94/94 [00:02<00:00, 42.67it/s]\n",
      "propagate in video:  90%|█████████ | 84/93 [00:02<00:00, 30.67it/s]"
     ]
    },
    {
     "name": "stdout",
     "output_type": "stream",
     "text": [
      "Saving the masks and the volume\n"
     ]
    },
    {
     "name": "stderr",
     "output_type": "stream",
     "text": [
      "propagate in video: 100%|██████████| 93/93 [00:02<00:00, 31.08it/s]\n",
      "propagate in video:  61%|██████    | 57/94 [00:01<00:00, 41.92it/s]"
     ]
    },
    {
     "name": "stdout",
     "output_type": "stream",
     "text": [
      "Saving the masks and the volume\n"
     ]
    },
    {
     "name": "stderr",
     "output_type": "stream",
     "text": [
      "propagate in video: 100%|██████████| 94/94 [00:02<00:00, 41.21it/s]\n",
      "propagate in video:  22%|██▏       | 21/94 [00:00<00:02, 31.52it/s]"
     ]
    },
    {
     "name": "stdout",
     "output_type": "stream",
     "text": [
      "Saving the masks and the volume\n"
     ]
    },
    {
     "name": "stderr",
     "output_type": "stream",
     "text": [
      "propagate in video: 100%|██████████| 94/94 [00:03<00:00, 31.10it/s]\n"
     ]
    },
    {
     "name": "stdout",
     "output_type": "stream",
     "text": [
      "Saving the masks and the volume\n",
      "Using device:  2\n",
      "using device: cuda\n",
      "Getting denoised Tomogram with 10 A voxel size for the associated runID: Position_13_5_Vol\n",
      "Preprocessing the volume for Position_13_5_Vol\n",
      "Running automatic segmentation for projection\n",
      "Saving the masks\n",
      "Running automatic segmentation for volume\n"
     ]
    },
    {
     "name": "stderr",
     "output_type": "stream",
     "text": [
      " 12%|█▏        | 23/186 [00:01<00:06, 25.82it/s]"
     ]
    },
    {
     "name": "stdout",
     "output_type": "stream",
     "text": [
      "Using device:  3\n",
      "using device: cuda\n",
      "Getting denoised Tomogram with 10 A voxel size for the associated runID: Position_13_6_Vol\n",
      "Preprocessing the volume for Position_13_6_Vol\n",
      "Running automatic segmentation for projection\n",
      "Saving the masks\n",
      "Running automatic segmentation for volume\n",
      "Using device:  1\n",
      "using device: cuda\n",
      "Getting denoised Tomogram with 10 A voxel size for the associated runID: Position_13_4_Vol\n",
      "Preprocessing the volume for Position_13_4_Vol\n",
      "Running automatic segmentation for projection\n",
      "Saving the masks\n",
      "Running automatic segmentation for volume\n"
     ]
    },
    {
     "name": "stderr",
     "output_type": "stream",
     "text": [
      "  0%|          | 0/186 [00:00<?, ?it/s]5.38it/s]"
     ]
    },
    {
     "name": "stdout",
     "output_type": "stream",
     "text": [
      "Using device:  0\n",
      "using device: cuda\n",
      "Getting denoised Tomogram with 10 A voxel size for the associated runID: Position_13_3_Vol\n",
      "Preprocessing the volume for Position_13_3_Vol\n",
      "Running automatic segmentation for projection\n",
      "Saving the masks\n",
      "Running automatic segmentation for volume\n"
     ]
    },
    {
     "name": "stderr",
     "output_type": "stream",
     "text": [
      "100%|██████████| 186/186 [00:05<00:00, 32.20it/s]\n",
      "propagate in video: 100%|██████████| 93/93 [00:02<00:00, 33.74it/s]\n",
      "100%|██████████| 186/186 [00:08<00:00, 22.71it/s]<00:01, 37.60it/s]\n",
      "100%|██████████| 186/186 [00:09<00:00, 19.37it/s]<00:01, 37.05it/s]\n",
      "100%|██████████| 186/186 [00:10<00:00, 17.28it/s]<00:02, 28.39it/s]\n",
      "propagate in video: 100%|██████████| 94/94 [00:02<00:00, 37.29it/s]\n",
      "propagate in video:  28%|██▊       | 26/93 [00:00<00:01, 37.01it/s]"
     ]
    },
    {
     "name": "stdout",
     "output_type": "stream",
     "text": [
      "Saving the masks and the volume\n"
     ]
    },
    {
     "name": "stderr",
     "output_type": "stream",
     "text": [
      "propagate in video: 100%|██████████| 93/93 [00:03<00:00, 28.08it/s]\n",
      "propagate in video: 100%|██████████| 93/93 [00:03<00:00, 29.93it/s]\n",
      "propagate in video: 100%|██████████| 93/93 [00:02<00:00, 36.30it/s]\n",
      "propagate in video: 100%|██████████| 94/94 [00:02<00:00, 36.98it/s]\n",
      "propagate in video: 100%|██████████| 94/94 [00:02<00:00, 31.36it/s]\n",
      "propagate in video: 100%|██████████| 94/94 [00:03<00:00, 29.79it/s]\n"
     ]
    },
    {
     "name": "stdout",
     "output_type": "stream",
     "text": [
      "Saving the masks and the volume\n",
      "Saving the masks and the volume\n",
      "Saving the masks and the volume\n",
      "Using device:  3\n",
      "using device: cuda\n",
      "Getting denoised Tomogram with 10 A voxel size for the associated runID: Position_14_4_Vol\n",
      "Preprocessing the volume for Position_14_4_Vol\n",
      "Running automatic segmentation for projection\n",
      "Saving the masks\n",
      "Running automatic segmentation for volume\n",
      "Using device:  1\n",
      "using device: cuda\n",
      "Getting denoised Tomogram with 10 A voxel size for the associated runID: Position_14_2_Vol\n",
      "Preprocessing the volume for Position_14_2_Vol\n",
      "Running automatic segmentation for projection\n",
      "Saving the masks\n",
      "Running automatic segmentation for volume\n"
     ]
    },
    {
     "name": "stderr",
     "output_type": "stream",
     "text": [
      "  5%|▍         | 9/186 [00:00<00:08, 21.61it/s]]"
     ]
    },
    {
     "name": "stdout",
     "output_type": "stream",
     "text": [
      "Using device:  0\n",
      "using device: cuda\n",
      "Getting denoised Tomogram with 10 A voxel size for the associated runID: Position_13_Vol\n",
      "Preprocessing the volume for Position_13_Vol\n",
      "Running automatic segmentation for projection\n",
      "Saving the masks\n",
      "Running automatic segmentation for volume\n",
      "Using device:  2\n",
      "using device: cuda\n",
      "Getting denoised Tomogram with 10 A voxel size for the associated runID: Position_14_3_Vol\n",
      "Preprocessing the volume for Position_14_3_Vol\n",
      "Running automatic segmentation for projection\n",
      "Saving the masks\n",
      "Running automatic segmentation for volume\n"
     ]
    },
    {
     "name": "stderr",
     "output_type": "stream",
     "text": [
      "100%|██████████| 186/186 [00:06<00:00, 30.98it/s]\n",
      "100%|██████████| 186/186 [00:05<00:00, 31.39it/s]\n",
      "100%|██████████| 186/186 [00:06<00:00, 29.93it/s]\n",
      "100%|██████████| 186/186 [00:08<00:00, 20.76it/s]<00:00, 42.10it/s]\n",
      "propagate in video: 100%|██████████| 93/93 [00:02<00:00, 40.04it/s]\n",
      "propagate in video: 100%|██████████| 93/93 [00:02<00:00, 41.49it/s]\n",
      "propagate in video: 100%|██████████| 94/94 [00:02<00:00, 42.35it/s]\n",
      "propagate in video: 100%|██████████| 93/93 [00:04<00:00, 19.51it/s]\n",
      "propagate in video: 100%|██████████| 94/94 [00:02<00:00, 42.56it/s]\n",
      "propagate in video: 100%|██████████| 93/93 [00:02<00:00, 36.28it/s]\n"
     ]
    },
    {
     "name": "stdout",
     "output_type": "stream",
     "text": [
      "Saving the masks and the volume\n",
      "Saving the masks and the volume\n"
     ]
    },
    {
     "name": "stderr",
     "output_type": "stream",
     "text": [
      "propagate in video: 100%|██████████| 94/94 [00:02<00:00, 35.29it/s]\n",
      "propagate in video:  46%|████▌     | 43/94 [00:02<00:02, 20.28it/s]"
     ]
    },
    {
     "name": "stdout",
     "output_type": "stream",
     "text": [
      "Saving the masks and the volume\n"
     ]
    },
    {
     "name": "stderr",
     "output_type": "stream",
     "text": [
      "propagate in video: 100%|██████████| 94/94 [00:04<00:00, 20.57it/s]\n"
     ]
    },
    {
     "name": "stdout",
     "output_type": "stream",
     "text": [
      "Saving the masks and the volume\n",
      "Using device:  2\n",
      "using device: cuda\n",
      "Getting denoised Tomogram with 10 A voxel size for the associated runID: Position_15_2_Vol\n",
      "Preprocessing the volume for Position_15_2_Vol\n",
      "Running automatic segmentation for projection\n",
      "Saving the masks\n",
      "Running automatic segmentation for volume\n",
      "Using device:  0\n",
      "using device: cuda\n",
      "Getting denoised Tomogram with 10 A voxel size for the associated runID: Position_14_5_Vol\n",
      "Preprocessing the volume for Position_14_5_Vol\n",
      "Running automatic segmentation for projection\n",
      "Saving the masks\n",
      "Running automatic segmentation for volume\n"
     ]
    },
    {
     "name": "stderr",
     "output_type": "stream",
     "text": [
      "  2%|▏         | 4/186 [00:00<00:04, 36.43it/s]]"
     ]
    },
    {
     "name": "stdout",
     "output_type": "stream",
     "text": [
      "Using device:  3\n",
      "using device: cuda\n",
      "Getting denoised Tomogram with 10 A voxel size for the associated runID: Position_15_3_Vol\n",
      "Preprocessing the volume for Position_15_3_Vol\n",
      "Running automatic segmentation for projection\n",
      "Saving the masks\n",
      "Running automatic segmentation for volume\n"
     ]
    },
    {
     "name": "stderr",
     "output_type": "stream",
     "text": [
      "  2%|▏         | 3/186 [00:00<00:07, 24.05it/s]]"
     ]
    },
    {
     "name": "stdout",
     "output_type": "stream",
     "text": [
      "Using device:  1\n",
      "using device: cuda\n",
      "Getting denoised Tomogram with 10 A voxel size for the associated runID: Position_14_Vol\n",
      "Preprocessing the volume for Position_14_Vol\n",
      "Running automatic segmentation for projection\n",
      "Saving the masks\n",
      "Running automatic segmentation for volume\n"
     ]
    },
    {
     "name": "stderr",
     "output_type": "stream",
     "text": [
      "100%|██████████| 186/186 [00:03<00:00, 52.47it/s]\n",
      "100%|██████████| 186/186 [00:05<00:00, 34.62it/s]<00:00, 28.79it/s]\n",
      "propagate in video: 100%|██████████| 93/93 [00:03<00:00, 27.65it/s]\n",
      "100%|██████████| 186/186 [00:09<00:00, 20.65it/s]<00:02, 27.13it/s]\n",
      "100%|██████████| 186/186 [00:09<00:00, 18.75it/s]<00:01, 30.82it/s]\n",
      "propagate in video: 100%|██████████| 93/93 [00:03<00:00, 29.66it/s]\n",
      "propagate in video: 100%|██████████| 94/94 [00:03<00:00, 29.69it/s]\n",
      "propagate in video: 100%|██████████| 93/93 [00:02<00:00, 34.12it/s]\n",
      "propagate in video: 100%|██████████| 93/93 [00:02<00:00, 42.34it/s]\n",
      "propagate in video:  32%|███▏      | 30/94 [00:00<00:02, 31.36it/s]"
     ]
    },
    {
     "name": "stdout",
     "output_type": "stream",
     "text": [
      "Saving the masks and the volume\n"
     ]
    },
    {
     "name": "stderr",
     "output_type": "stream",
     "text": [
      "propagate in video: 100%|██████████| 94/94 [00:02<00:00, 42.48it/s]\n",
      "propagate in video: 100%|██████████| 94/94 [00:03<00:00, 31.17it/s]\n",
      "propagate in video: 100%|██████████| 94/94 [00:02<00:00, 36.38it/s]\n"
     ]
    },
    {
     "name": "stdout",
     "output_type": "stream",
     "text": [
      "Saving the masks and the volume\n",
      "Saving the masks and the volume\n",
      "Saving the masks and the volume\n",
      "Using device:  3\n",
      "using device: cuda\n",
      "Getting denoised Tomogram with 10 A voxel size for the associated runID: Position_16_Vol\n",
      "Preprocessing the volume for Position_16_Vol\n",
      "Running automatic segmentation for projection\n",
      "Saving the masks\n",
      "Running automatic segmentation for volume\n",
      "Using device:  2\n",
      "using device: cuda\n",
      "Getting denoised Tomogram with 10 A voxel size for the associated runID: Position_16_3_Vol\n",
      "Preprocessing the volume for Position_16_3_Vol\n",
      "Running automatic segmentation for projection\n",
      "Saving the masks\n",
      "Running automatic segmentation for volume\n"
     ]
    },
    {
     "name": "stderr",
     "output_type": "stream",
     "text": [
      "  8%|▊         | 14/186 [00:00<00:04, 36.25it/s]"
     ]
    },
    {
     "name": "stdout",
     "output_type": "stream",
     "text": [
      "Using device:  0\n",
      "using device: cuda\n",
      "Getting denoised Tomogram with 10 A voxel size for the associated runID: Position_15_Vol\n",
      "Preprocessing the volume for Position_15_Vol\n",
      "Running automatic segmentation for projection\n",
      "Saving the masks\n",
      "Running automatic segmentation for volume\n"
     ]
    },
    {
     "name": "stderr",
     "output_type": "stream",
     "text": [
      "  2%|▏         | 3/186 [00:00<00:07, 25.76it/s]]"
     ]
    },
    {
     "name": "stdout",
     "output_type": "stream",
     "text": [
      "Using device:  1\n",
      "using device: cuda\n",
      "Getting denoised Tomogram with 10 A voxel size for the associated runID: Position_16_2_Vol\n",
      "Preprocessing the volume for Position_16_2_Vol\n",
      "Running automatic segmentation for projection\n",
      "Saving the masks\n",
      "Running automatic segmentation for volume\n"
     ]
    },
    {
     "name": "stderr",
     "output_type": "stream",
     "text": [
      "100%|██████████| 186/186 [00:05<00:00, 31.81it/s]\n",
      "100%|██████████| 186/186 [00:05<00:00, 31.24it/s]\n",
      "100%|██████████| 186/186 [00:08<00:00, 22.81it/s]<00:06, 13.31it/s]\n",
      "100%|██████████| 186/186 [00:09<00:00, 19.69it/s]<00:01, 36.39it/s]\n",
      "propagate in video: 100%|██████████| 93/93 [00:02<00:00, 36.90it/s]\n",
      "propagate in video: 100%|██████████| 93/93 [00:03<00:00, 29.17it/s]\n",
      "propagate in video: 100%|██████████| 93/93 [00:02<00:00, 36.42it/s]\n",
      "propagate in video: 100%|██████████| 93/93 [00:02<00:00, 36.58it/s]\n",
      "propagate in video: 100%|██████████| 94/94 [00:02<00:00, 43.20it/s]\n",
      "propagate in video: 100%|██████████| 94/94 [00:02<00:00, 42.81it/s]\n",
      "propagate in video:  46%|████▌     | 43/94 [00:01<00:01, 36.79it/s]"
     ]
    },
    {
     "name": "stdout",
     "output_type": "stream",
     "text": [
      "Saving the masks and the volume\n",
      "Saving the masks and the volume\n"
     ]
    },
    {
     "name": "stderr",
     "output_type": "stream",
     "text": [
      "propagate in video: 100%|██████████| 94/94 [00:02<00:00, 35.21it/s]\n",
      "propagate in video:  71%|███████▏  | 67/94 [00:01<00:00, 36.00it/s]"
     ]
    },
    {
     "name": "stdout",
     "output_type": "stream",
     "text": [
      "Saving the masks and the volume\n"
     ]
    },
    {
     "name": "stderr",
     "output_type": "stream",
     "text": [
      "propagate in video: 100%|██████████| 94/94 [00:02<00:00, 34.21it/s]\n"
     ]
    },
    {
     "name": "stdout",
     "output_type": "stream",
     "text": [
      "Saving the masks and the volume\n"
     ]
    },
    {
     "name": "stderr",
     "output_type": "stream",
     "text": [
      "  4%|▍         | 7/186 [00:00<00:02, 60.68it/s]"
     ]
    },
    {
     "name": "stdout",
     "output_type": "stream",
     "text": [
      "Using device:  3\n",
      "using device: cuda\n",
      "Getting denoised Tomogram with 10 A voxel size for the associated runID: Position_17_Vol\n",
      "Preprocessing the volume for Position_17_Vol\n",
      "Running automatic segmentation for projection\n",
      "Saving the masks\n",
      "Running automatic segmentation for volume\n"
     ]
    },
    {
     "name": "stderr",
     "output_type": "stream",
     "text": [
      "  0%|          | 0/186 [00:00<?, ?it/s]2.32it/s]"
     ]
    },
    {
     "name": "stdout",
     "output_type": "stream",
     "text": [
      "Using device:  1\n",
      "using device: cuda\n",
      "Getting denoised Tomogram with 10 A voxel size for the associated runID: Position_17_3_Vol\n",
      "Preprocessing the volume for Position_17_3_Vol\n",
      "Running automatic segmentation for projection\n",
      "Saving the masks\n",
      "Running automatic segmentation for volume\n",
      "Using device:  2\n",
      "using device: cuda\n",
      "Getting denoised Tomogram with 10 A voxel size for the associated runID: Position_17_4_Vol\n",
      "Preprocessing the volume for Position_17_4_Vol\n",
      "Running automatic segmentation for projection\n",
      "Saving the masks\n",
      "Running automatic segmentation for volume\n",
      "Using device:  0\n",
      "using device: cuda\n",
      "Getting denoised Tomogram with 10 A voxel size for the associated runID: Position_17_2_Vol\n",
      "Preprocessing the volume for Position_17_2_Vol\n",
      "Running automatic segmentation for projection\n",
      "Saving the masks\n",
      "Running automatic segmentation for volume\n"
     ]
    },
    {
     "name": "stderr",
     "output_type": "stream",
     "text": [
      "100%|██████████| 186/186 [00:08<00:00, 22.57it/s]\n",
      "100%|██████████| 186/186 [00:08<00:00, 22.07it/s]\n",
      "100%|██████████| 186/186 [00:09<00:00, 19.31it/s]<00:02, 26.14it/s]\n",
      "100%|██████████| 186/186 [00:10<00:00, 18.02it/s]<00:01, 41.14it/s]\n",
      "propagate in video: 100%|██████████| 93/93 [00:02<00:00, 37.15it/s]\n",
      "propagate in video: 100%|██████████| 93/93 [00:02<00:00, 34.42it/s]\n",
      "propagate in video: 100%|██████████| 93/93 [00:02<00:00, 41.14it/s]\n",
      "propagate in video: 100%|██████████| 94/94 [00:02<00:00, 43.33it/s]\n",
      "propagate in video: 100%|██████████| 93/93 [00:03<00:00, 30.98it/s]\n",
      "propagate in video:  61%|██████    | 57/94 [00:01<00:00, 42.81it/s]"
     ]
    },
    {
     "name": "stdout",
     "output_type": "stream",
     "text": [
      "Saving the masks and the volume\n"
     ]
    },
    {
     "name": "stderr",
     "output_type": "stream",
     "text": [
      "propagate in video: 100%|██████████| 94/94 [00:02<00:00, 36.14it/s]\n",
      "propagate in video: 100%|██████████| 94/94 [00:02<00:00, 41.80it/s]\n",
      "propagate in video:  35%|███▌      | 33/94 [00:01<00:02, 30.42it/s]"
     ]
    },
    {
     "name": "stdout",
     "output_type": "stream",
     "text": [
      "Saving the masks and the volume\n",
      "Saving the masks and the volume\n"
     ]
    },
    {
     "name": "stderr",
     "output_type": "stream",
     "text": [
      "propagate in video: 100%|██████████| 94/94 [00:03<00:00, 29.81it/s]\n"
     ]
    },
    {
     "name": "stdout",
     "output_type": "stream",
     "text": [
      "Saving the masks and the volume\n"
     ]
    },
    {
     "name": "stderr",
     "output_type": "stream",
     "text": [
      "Process Process-303:\n",
      "Traceback (most recent call last):\n",
      "  File \"/hpc/mydata/saugat.kandel/sam2_projects/.pixi/envs/default/lib/python3.12/site-packages/multiprocess/process.py\", line 314, in _bootstrap\n",
      "    self.run()\n",
      "  File \"/hpc/mydata/saugat.kandel/sam2_projects/.pixi/envs/default/lib/python3.12/site-packages/multiprocess/process.py\", line 108, in run\n",
      "    self._target(*self._args, **self._kwargs)\n",
      "  File \"/tmp/ipykernel_1701885/244904649.py\", line 105, in run_in_separate_process\n",
      "  File \"/hpc/mydata/saugat.kandel/sam2_projects/.pixi/envs/default/lib/python3.12/site-packages/torch/utils/_contextlib.py\", line 116, in decorate_context\n",
      "    return func(*args, **kwargs)\n",
      "           ^^^^^^^^^^^^^^^^^^^^^\n",
      "  File \"/hpc/mydata/saugat.kandel/sam2_projects/segment-anything-2/sam2/automatic_mask_generator.py\", line 202, in generate\n",
      "    mask_data = self._generate_masks(image)\n",
      "                ^^^^^^^^^^^^^^^^^^^^^^^^^^^\n",
      "  File \"/hpc/mydata/saugat.kandel/sam2_projects/segment-anything-2/sam2/automatic_mask_generator.py\", line 245, in _generate_masks\n",
      "    scores = 1 / box_area(data[\"crop_boxes\"])\n",
      "                 ^^^^^^^^^^^^^^^^^^^^^^^^^^^^\n",
      "  File \"/hpc/mydata/saugat.kandel/sam2_projects/.pixi/envs/default/lib/python3.12/site-packages/torchvision/ops/boxes.py\", line 251, in box_area\n",
      "    return (boxes[:, 2] - boxes[:, 0]) * (boxes[:, 3] - boxes[:, 1])\n",
      "            ~~~~~^^^^^^\n",
      "IndexError: too many indices for tensor of dimension 1\n"
     ]
    },
    {
     "name": "stdout",
     "output_type": "stream",
     "text": [
      "Using device:  0\n",
      "using device: cuda\n",
      "Getting denoised Tomogram with 10 A voxel size for the associated runID: Position_18_2_Vol\n",
      "Preprocessing the volume for Position_18_2_Vol\n",
      "Running automatic segmentation for projection\n"
     ]
    },
    {
     "name": "stderr",
     "output_type": "stream",
     "text": [
      "  2%|▏         | 4/186 [00:00<00:04, 36.84it/s]"
     ]
    },
    {
     "name": "stdout",
     "output_type": "stream",
     "text": [
      "Using device:  1\n",
      "using device: cuda\n",
      "Getting denoised Tomogram with 10 A voxel size for the associated runID: Position_18_Vol\n",
      "Preprocessing the volume for Position_18_Vol\n",
      "Running automatic segmentation for projection\n",
      "Saving the masks\n",
      "Running automatic segmentation for volume\n"
     ]
    },
    {
     "name": "stderr",
     "output_type": "stream",
     "text": [
      "  0%|          | 0/186 [00:00<?, ?it/s]9.51it/s]"
     ]
    },
    {
     "name": "stdout",
     "output_type": "stream",
     "text": [
      "Using device:  3\n",
      "using device: cuda\n",
      "Getting denoised Tomogram with 10 A voxel size for the associated runID: Position_19_3_Vol\n",
      "Preprocessing the volume for Position_19_3_Vol\n",
      "Running automatic segmentation for projection\n",
      "Saving the masks\n",
      "Running automatic segmentation for volume\n"
     ]
    },
    {
     "name": "stderr",
     "output_type": "stream",
     "text": [
      " 12%|█▏        | 23/186 [00:00<00:02, 55.52it/s]"
     ]
    },
    {
     "name": "stdout",
     "output_type": "stream",
     "text": [
      "Using device:  2\n",
      "using device: cuda\n",
      "Getting denoised Tomogram with 10 A voxel size for the associated runID: Position_19_2_Vol\n",
      "Preprocessing the volume for Position_19_2_Vol\n",
      "Running automatic segmentation for projection\n",
      "Saving the masks\n",
      "Running automatic segmentation for volume\n"
     ]
    },
    {
     "name": "stderr",
     "output_type": "stream",
     "text": [
      "100%|██████████| 186/186 [00:03<00:00, 56.47it/s]\n",
      "propagate in video: 100%|██████████| 93/93 [00:02<00:00, 37.81it/s]\n",
      "100%|██████████| 186/186 [00:05<00:00, 34.60it/s]\n",
      "100%|██████████| 186/186 [00:05<00:00, 33.37it/s]<00:02, 34.10it/s]\n",
      "propagate in video: 100%|██████████| 94/94 [00:02<00:00, 40.43it/s]\n",
      "propagate in video:  56%|█████▌    | 52/93 [00:01<00:01, 31.06it/s]"
     ]
    },
    {
     "name": "stdout",
     "output_type": "stream",
     "text": [
      "Saving the masks and the volume\n"
     ]
    },
    {
     "name": "stderr",
     "output_type": "stream",
     "text": [
      "propagate in video: 100%|██████████| 93/93 [00:02<00:00, 31.10it/s]\n",
      "propagate in video: 100%|██████████| 93/93 [00:02<00:00, 31.12it/s]\n",
      "propagate in video: 100%|██████████| 94/94 [00:03<00:00, 30.88it/s]\n",
      "propagate in video: 100%|██████████| 94/94 [00:02<00:00, 31.49it/s]\n"
     ]
    },
    {
     "name": "stdout",
     "output_type": "stream",
     "text": [
      "Saving the masks and the volume\n",
      "Saving the masks and the volume\n"
     ]
    },
    {
     "name": "stderr",
     "output_type": "stream",
     "text": [
      "  2%|▏         | 3/186 [00:00<00:06, 28.43it/s]"
     ]
    },
    {
     "name": "stdout",
     "output_type": "stream",
     "text": [
      "Using device:  1\n",
      "using device: cuda\n",
      "Getting denoised Tomogram with 10 A voxel size for the associated runID: Position_19_5_Vol\n",
      "Preprocessing the volume for Position_19_5_Vol\n",
      "Running automatic segmentation for projection\n",
      "Saving the masks\n",
      "Running automatic segmentation for volume\n"
     ]
    },
    {
     "name": "stderr",
     "output_type": "stream",
     "text": [
      " 17%|█▋        | 31/186 [00:01<00:05, 28.13it/s]"
     ]
    },
    {
     "name": "stdout",
     "output_type": "stream",
     "text": [
      "Using device:  3\n",
      "using device: cuda\n",
      "Getting denoised Tomogram with 10 A voxel size for the associated runID: Position_1_2_Vol\n",
      "Preprocessing the volume for Position_1_2_Vol\n",
      "Running automatic segmentation for projection\n",
      "Saving the masks\n",
      "Running automatic segmentation for volume\n"
     ]
    },
    {
     "name": "stderr",
     "output_type": "stream",
     "text": [
      " 16%|█▌        | 29/186 [00:00<00:03, 39.84it/s]"
     ]
    },
    {
     "name": "stdout",
     "output_type": "stream",
     "text": [
      "Using device:  0\n",
      "using device: cuda\n",
      "Getting denoised Tomogram with 10 A voxel size for the associated runID: Position_19_4_Vol\n",
      "Preprocessing the volume for Position_19_4_Vol\n",
      "Running automatic segmentation for projection\n",
      "Saving the masks\n",
      "Running automatic segmentation for volume\n"
     ]
    },
    {
     "name": "stderr",
     "output_type": "stream",
     "text": [
      "  2%|▏         | 4/186 [00:00<00:05, 34.45it/s]]"
     ]
    },
    {
     "name": "stdout",
     "output_type": "stream",
     "text": [
      "Using device:  2\n",
      "using device: cuda\n",
      "Getting denoised Tomogram with 10 A voxel size for the associated runID: Position_19_Vol\n",
      "Preprocessing the volume for Position_19_Vol\n",
      "Running automatic segmentation for projection\n",
      "Saving the masks\n",
      "Running automatic segmentation for volume\n"
     ]
    },
    {
     "name": "stderr",
     "output_type": "stream",
     "text": [
      "100%|██████████| 186/186 [00:09<00:00, 20.64it/s]\n",
      "100%|██████████| 186/186 [00:09<00:00, 19.60it/s]\n",
      "100%|██████████| 186/186 [00:11<00:00, 16.01it/s]00:08, 10.17it/s]\n",
      "100%|██████████| 186/186 [00:09<00:00, 18.65it/s]<00:02, 32.48it/s]\n",
      "propagate in video: 100%|██████████| 93/93 [00:02<00:00, 36.97it/s]\n",
      "propagate in video: 100%|██████████| 93/93 [00:02<00:00, 35.07it/s]\n",
      "propagate in video: 100%|██████████| 93/93 [00:03<00:00, 24.24it/s]\n",
      "propagate in video: 100%|██████████| 93/93 [00:02<00:00, 36.77it/s]\n",
      "propagate in video: 100%|██████████| 94/94 [00:02<00:00, 42.53it/s]\n",
      "propagate in video:  16%|█▌        | 15/94 [00:00<00:02, 38.88it/s]"
     ]
    },
    {
     "name": "stdout",
     "output_type": "stream",
     "text": [
      "Saving the masks and the volume\n"
     ]
    },
    {
     "name": "stderr",
     "output_type": "stream",
     "text": [
      "propagate in video: 100%|██████████| 94/94 [00:02<00:00, 35.74it/s]\n",
      "propagate in video:  88%|████████▊ | 83/94 [00:02<00:00, 36.37it/s]"
     ]
    },
    {
     "name": "stdout",
     "output_type": "stream",
     "text": [
      "Saving the masks and the volume\n"
     ]
    },
    {
     "name": "stderr",
     "output_type": "stream",
     "text": [
      "propagate in video: 100%|██████████| 94/94 [00:02<00:00, 36.53it/s]\n",
      "propagate in video:  72%|███████▏  | 68/94 [00:02<00:01, 25.15it/s]"
     ]
    },
    {
     "name": "stdout",
     "output_type": "stream",
     "text": [
      "Saving the masks and the volume\n"
     ]
    },
    {
     "name": "stderr",
     "output_type": "stream",
     "text": [
      "propagate in video: 100%|██████████| 94/94 [00:03<00:00, 25.40it/s]\n"
     ]
    },
    {
     "name": "stdout",
     "output_type": "stream",
     "text": [
      "Saving the masks and the volume\n",
      "Using device:  3\n",
      "using device: cuda\n",
      "Getting denoised Tomogram with 10 A voxel size for the associated runID: Position_1_Vol\n",
      "Preprocessing the volume for Position_1_Vol\n",
      "Running automatic segmentation for projection\n",
      "Saving the masks\n",
      "Running automatic segmentation for volume\n"
     ]
    },
    {
     "name": "stderr",
     "output_type": "stream",
     "text": [
      " 14%|█▍        | 26/186 [00:01<00:08, 19.84it/s]"
     ]
    },
    {
     "name": "stdout",
     "output_type": "stream",
     "text": [
      "Using device:  1\n",
      "using device: cuda\n",
      "Getting denoised Tomogram with 10 A voxel size for the associated runID: Position_1_4_Vol\n",
      "Preprocessing the volume for Position_1_4_Vol\n",
      "Running automatic segmentation for projection\n",
      "Saving the masks\n",
      "Running automatic segmentation for volume\n"
     ]
    },
    {
     "name": "stderr",
     "output_type": "stream",
     "text": [
      "  2%|▏         | 3/186 [00:00<00:06, 26.99it/s]]"
     ]
    },
    {
     "name": "stdout",
     "output_type": "stream",
     "text": [
      "Using device:  2\n",
      "using device: cuda\n",
      "Getting denoised Tomogram with 10 A voxel size for the associated runID: Position_1_5_Vol\n",
      "Preprocessing the volume for Position_1_5_Vol\n",
      "Running automatic segmentation for projection\n",
      "Saving the masks\n",
      "Running automatic segmentation for volume\n"
     ]
    },
    {
     "name": "stderr",
     "output_type": "stream",
     "text": [
      "  1%|          | 2/186 [00:00<00:13, 13.49it/s]]"
     ]
    },
    {
     "name": "stdout",
     "output_type": "stream",
     "text": [
      "Using device:  0\n",
      "using device: cuda\n",
      "Getting denoised Tomogram with 10 A voxel size for the associated runID: Position_1_3_Vol\n",
      "Preprocessing the volume for Position_1_3_Vol\n",
      "Running automatic segmentation for projection\n",
      "Saving the masks\n",
      "Running automatic segmentation for volume\n"
     ]
    },
    {
     "name": "stderr",
     "output_type": "stream",
     "text": [
      "100%|██████████| 186/186 [00:10<00:00, 17.87it/s]\n",
      "100%|██████████| 186/186 [00:12<00:00, 15.12it/s]\n",
      "100%|██████████| 186/186 [00:09<00:00, 19.81it/s]\n",
      "100%|██████████| 186/186 [00:11<00:00, 15.53it/s]<00:01, 36.14it/s]\n",
      "propagate in video: 100%|██████████| 93/93 [00:02<00:00, 36.17it/s]\n",
      "propagate in video: 100%|██████████| 93/93 [00:03<00:00, 28.71it/s]\n",
      "propagate in video: 100%|██████████| 93/93 [00:02<00:00, 36.73it/s]\n",
      "propagate in video: 100%|██████████| 93/93 [00:03<00:00, 24.32it/s]\n",
      "propagate in video: 100%|██████████| 94/94 [00:02<00:00, 36.87it/s]\n",
      "propagate in video:  28%|██▊       | 26/94 [00:00<00:02, 25.57it/s]"
     ]
    },
    {
     "name": "stdout",
     "output_type": "stream",
     "text": [
      "Saving the masks and the volume\n"
     ]
    },
    {
     "name": "stderr",
     "output_type": "stream",
     "text": [
      "propagate in video: 100%|██████████| 94/94 [00:02<00:00, 37.20it/s]\n",
      "propagate in video: 100%|██████████| 94/94 [00:03<00:00, 29.84it/s]\n",
      "propagate in video:  63%|██████▎   | 59/94 [00:02<00:01, 25.06it/s]"
     ]
    },
    {
     "name": "stdout",
     "output_type": "stream",
     "text": [
      "Saving the masks and the volume\n"
     ]
    },
    {
     "name": "stderr",
     "output_type": "stream",
     "text": [
      "propagate in video:  76%|███████▌  | 71/94 [00:02<00:00, 24.99it/s]"
     ]
    },
    {
     "name": "stdout",
     "output_type": "stream",
     "text": [
      "Saving the masks and the volume\n"
     ]
    },
    {
     "name": "stderr",
     "output_type": "stream",
     "text": [
      "propagate in video: 100%|██████████| 94/94 [00:03<00:00, 25.47it/s]\n"
     ]
    },
    {
     "name": "stdout",
     "output_type": "stream",
     "text": [
      "Saving the masks and the volume\n",
      "Using device:  2\n",
      "using device: cuda\n",
      "Getting denoised Tomogram with 10 A voxel size for the associated runID: Position_20_4_Vol\n",
      "Preprocessing the volume for Position_20_4_Vol\n",
      "Running automatic segmentation for projection\n",
      "Saving the masks\n",
      "Running automatic segmentation for volume\n"
     ]
    },
    {
     "name": "stderr",
     "output_type": "stream",
     "text": [
      "  3%|▎         | 6/186 [00:00<00:03, 50.11it/s]]"
     ]
    },
    {
     "name": "stdout",
     "output_type": "stream",
     "text": [
      "Using device:  3\n",
      "using device: cuda\n",
      "Getting denoised Tomogram with 10 A voxel size for the associated runID: Position_20_5_Vol\n",
      "Preprocessing the volume for Position_20_5_Vol\n",
      "Running automatic segmentation for projection\n",
      "Saving the masks\n",
      "Running automatic segmentation for volume\n"
     ]
    },
    {
     "name": "stderr",
     "output_type": "stream",
     "text": [
      " 10%|█         | 19/186 [00:00<00:05, 30.37it/s]"
     ]
    },
    {
     "name": "stdout",
     "output_type": "stream",
     "text": [
      "Using device:  0\n",
      "using device: cuda\n",
      "Getting denoised Tomogram with 10 A voxel size for the associated runID: Position_20_2_Vol\n",
      "Preprocessing the volume for Position_20_2_Vol\n",
      "Running automatic segmentation for projection\n",
      "Saving the masks\n",
      "Running automatic segmentation for volume\n"
     ]
    },
    {
     "name": "stderr",
     "output_type": "stream",
     "text": [
      " 16%|█▌        | 30/186 [00:00<00:05, 29.57it/s]"
     ]
    },
    {
     "name": "stdout",
     "output_type": "stream",
     "text": [
      "Using device:  1\n",
      "using device: cuda\n",
      "Getting denoised Tomogram with 10 A voxel size for the associated runID: Position_20_3_Vol\n",
      "Preprocessing the volume for Position_20_3_Vol\n",
      "Running automatic segmentation for projection\n",
      "Saving the masks\n",
      "Running automatic segmentation for volume\n"
     ]
    },
    {
     "name": "stderr",
     "output_type": "stream",
     "text": [
      "100%|██████████| 186/186 [00:05<00:00, 31.38it/s]\n",
      "100%|██████████| 186/186 [00:05<00:00, 31.57it/s]\n",
      "propagate in video: 100%|██████████| 93/93 [00:03<00:00, 29.00it/s]\n",
      "100%|██████████| 186/186 [00:08<00:00, 20.86it/s]<00:01, 24.82it/s]\n",
      "propagate in video: 100%|██████████| 93/93 [00:03<00:00, 25.09it/s]\n",
      "100%|██████████| 186/186 [00:10<00:00, 17.94it/s]\n",
      "propagate in video: 100%|██████████| 93/93 [00:02<00:00, 39.64it/s]\n",
      "propagate in video: 100%|██████████| 94/94 [00:03<00:00, 31.30it/s]\n",
      "propagate in video: 100%|██████████| 93/93 [00:02<00:00, 42.73it/s]\n",
      "propagate in video: 100%|██████████| 94/94 [00:02<00:00, 37.35it/s]\n",
      "propagate in video:  29%|██▊       | 27/94 [00:00<00:01, 43.40it/s]"
     ]
    },
    {
     "name": "stdout",
     "output_type": "stream",
     "text": [
      "Saving the masks and the volume\n"
     ]
    },
    {
     "name": "stderr",
     "output_type": "stream",
     "text": [
      "propagate in video:  39%|███▉      | 37/94 [00:00<00:01, 42.95it/s]"
     ]
    },
    {
     "name": "stdout",
     "output_type": "stream",
     "text": [
      "Saving the masks and the volume\n"
     ]
    },
    {
     "name": "stderr",
     "output_type": "stream",
     "text": [
      "propagate in video: 100%|██████████| 94/94 [00:02<00:00, 41.66it/s]\n",
      "propagate in video: 100%|██████████| 94/94 [00:02<00:00, 41.20it/s]\n"
     ]
    },
    {
     "name": "stdout",
     "output_type": "stream",
     "text": [
      "Saving the masks and the volume\n",
      "Saving the masks and the volume\n",
      "Using device:  3\n",
      "using device: cuda\n",
      "Getting denoised Tomogram with 10 A voxel size for the associated runID: Position_21_4_Vol\n",
      "Preprocessing the volume for Position_21_4_Vol\n",
      "Running automatic segmentation for projection\n",
      "Saving the masks\n",
      "Running automatic segmentation for volume\n"
     ]
    },
    {
     "name": "stderr",
     "output_type": "stream",
     "text": [
      "  2%|▏         | 3/186 [00:00<00:08, 20.83it/s]]"
     ]
    },
    {
     "name": "stdout",
     "output_type": "stream",
     "text": [
      "Using device:  0\n",
      "using device: cuda\n",
      "Getting denoised Tomogram with 10 A voxel size for the associated runID: Position_20_Vol\n",
      "Preprocessing the volume for Position_20_Vol\n",
      "Running automatic segmentation for projection\n",
      "Saving the masks\n",
      "Running automatic segmentation for volume\n",
      "Using device:  1\n",
      "using device: cuda\n",
      "Getting denoised Tomogram with 10 A voxel size for the associated runID: Position_21_2_Vol\n",
      "Preprocessing the volume for Position_21_2_Vol\n",
      "Running automatic segmentation for projection\n",
      "Saving the masks\n",
      "Running automatic segmentation for volume\n"
     ]
    },
    {
     "name": "stderr",
     "output_type": "stream",
     "text": [
      "  0%|          | 0/186 [00:00<?, ?it/s]8.48it/s]"
     ]
    },
    {
     "name": "stdout",
     "output_type": "stream",
     "text": [
      "Using device:  2\n",
      "using device: cuda\n",
      "Getting denoised Tomogram with 10 A voxel size for the associated runID: Position_21_3_Vol\n",
      "Preprocessing the volume for Position_21_3_Vol\n",
      "Running automatic segmentation for projection\n",
      "Saving the masks\n",
      "Running automatic segmentation for volume\n"
     ]
    },
    {
     "name": "stderr",
     "output_type": "stream",
     "text": [
      "100%|██████████| 186/186 [00:04<00:00, 37.95it/s]\n",
      "100%|██████████| 186/186 [00:05<00:00, 35.91it/s]<00:03, 20.86it/s]\n",
      "100%|██████████| 186/186 [00:07<00:00, 24.39it/s]<00:01, 25.30it/s]\n",
      "propagate in video: 100%|██████████| 93/93 [00:02<00:00, 36.41it/s]\n",
      "propagate in video: 100%|██████████| 93/93 [00:03<00:00, 23.86it/s]\n",
      "100%|██████████| 186/186 [00:09<00:00, 18.96it/s]00:01, 46.17it/s]]\n",
      "propagate in video: 100%|██████████| 93/93 [00:03<00:00, 29.72it/s]\n",
      "propagate in video: 100%|██████████| 94/94 [00:02<00:00, 36.86it/s]\n",
      "propagate in video: 100%|██████████| 93/93 [00:02<00:00, 36.75it/s]\n",
      "propagate in video:  37%|███▋      | 35/94 [00:00<00:01, 36.60it/s]"
     ]
    },
    {
     "name": "stdout",
     "output_type": "stream",
     "text": [
      "Saving the masks and the volume\n"
     ]
    },
    {
     "name": "stderr",
     "output_type": "stream",
     "text": [
      "propagate in video: 100%|██████████| 94/94 [00:03<00:00, 25.48it/s]\n",
      "propagate in video: 100%|██████████| 94/94 [00:02<00:00, 36.11it/s]\n",
      "propagate in video:  67%|██████▋   | 63/94 [00:01<00:00, 36.49it/s]"
     ]
    },
    {
     "name": "stdout",
     "output_type": "stream",
     "text": [
      "Saving the masks and the volume\n"
     ]
    },
    {
     "name": "stderr",
     "output_type": "stream",
     "text": [
      "propagate in video:  84%|████████▍ | 79/94 [00:02<00:00, 36.54it/s]"
     ]
    },
    {
     "name": "stdout",
     "output_type": "stream",
     "text": [
      "Saving the masks and the volume\n"
     ]
    },
    {
     "name": "stderr",
     "output_type": "stream",
     "text": [
      "propagate in video: 100%|██████████| 94/94 [00:02<00:00, 35.15it/s]\n"
     ]
    },
    {
     "name": "stdout",
     "output_type": "stream",
     "text": [
      "Saving the masks and the volume\n",
      "Using device:  3\n",
      "using device: cuda\n",
      "Getting denoised Tomogram with 10 A voxel size for the associated runID: Position_22_3_Vol\n",
      "Preprocessing the volume for Position_22_3_Vol\n",
      "Running automatic segmentation for projection\n",
      "Saving the masks\n",
      "Running automatic segmentation for volume\n",
      "Using device:  2\n",
      "using device: cuda\n",
      "Getting denoised Tomogram with 10 A voxel size for the associated runID: Position_22_2_Vol\n",
      "Preprocessing the volume for Position_22_2_Vol\n",
      "Running automatic segmentation for projection\n",
      "Saving the masks\n",
      "Running automatic segmentation for volume\n",
      "Using device:  0\n",
      "using device: cuda\n",
      "Getting denoised Tomogram with 10 A voxel size for the associated runID: Position_21_5_Vol\n",
      "Preprocessing the volume for Position_21_5_Vol\n",
      "Running automatic segmentation for projection\n",
      "Saving the masks\n",
      "Running automatic segmentation for volume\n"
     ]
    },
    {
     "name": "stderr",
     "output_type": "stream",
     "text": [
      " 13%|█▎        | 25/186 [00:00<00:04, 38.63it/s]"
     ]
    },
    {
     "name": "stdout",
     "output_type": "stream",
     "text": [
      "Using device:  1\n",
      "using device: cuda\n",
      "Getting denoised Tomogram with 10 A voxel size for the associated runID: Position_21_Vol\n",
      "Preprocessing the volume for Position_21_Vol\n",
      "Running automatic segmentation for projection\n",
      "Saving the masks\n",
      "Running automatic segmentation for volume\n"
     ]
    },
    {
     "name": "stderr",
     "output_type": "stream",
     "text": [
      "100%|██████████| 186/186 [00:11<00:00, 15.92it/s]\n",
      "100%|██████████| 186/186 [00:12<00:00, 14.56it/s]\n",
      "100%|██████████| 186/186 [00:12<00:00, 14.76it/s]00:03, 23.39it/s]\n",
      "100%|██████████| 186/186 [00:13<00:00, 14.00it/s]00:03, 24.70it/s]\n",
      "propagate in video: 100%|██████████| 93/93 [00:02<00:00, 39.70it/s]\n",
      "propagate in video: 100%|██████████| 93/93 [00:03<00:00, 29.99it/s]\n",
      "propagate in video: 100%|██████████| 93/93 [00:02<00:00, 40.24it/s]\n",
      "propagate in video: 100%|██████████| 93/93 [00:02<00:00, 34.64it/s]\n",
      "propagate in video: 100%|██████████| 94/94 [00:02<00:00, 42.30it/s]\n",
      "propagate in video: 100%|██████████| 94/94 [00:02<00:00, 42.83it/s]\n",
      "propagate in video:  63%|██████▎   | 59/94 [00:01<00:00, 36.35it/s]"
     ]
    },
    {
     "name": "stdout",
     "output_type": "stream",
     "text": [
      "Saving the masks and the volume\n",
      "Saving the masks and the volume\n"
     ]
    },
    {
     "name": "stderr",
     "output_type": "stream",
     "text": [
      "propagate in video: 100%|██████████| 94/94 [00:02<00:00, 36.43it/s]\n",
      "propagate in video:  97%|█████████▋| 91/94 [00:02<00:00, 30.35it/s]"
     ]
    },
    {
     "name": "stdout",
     "output_type": "stream",
     "text": [
      "Saving the masks and the volume\n"
     ]
    },
    {
     "name": "stderr",
     "output_type": "stream",
     "text": [
      "propagate in video: 100%|██████████| 94/94 [00:02<00:00, 35.71it/s]\n"
     ]
    },
    {
     "name": "stdout",
     "output_type": "stream",
     "text": [
      "Saving the masks and the volume\n"
     ]
    },
    {
     "name": "stderr",
     "output_type": "stream",
     "text": [
      "Process Process-329:\n",
      "Traceback (most recent call last):\n",
      "  File \"/hpc/mydata/saugat.kandel/sam2_projects/.pixi/envs/default/lib/python3.12/site-packages/multiprocess/process.py\", line 314, in _bootstrap\n",
      "    self.run()\n",
      "  File \"/hpc/mydata/saugat.kandel/sam2_projects/.pixi/envs/default/lib/python3.12/site-packages/multiprocess/process.py\", line 108, in run\n",
      "    self._target(*self._args, **self._kwargs)\n",
      "  File \"/tmp/ipykernel_1701885/244904649.py\", line 105, in run_in_separate_process\n",
      "  File \"/hpc/mydata/saugat.kandel/sam2_projects/.pixi/envs/default/lib/python3.12/site-packages/torch/utils/_contextlib.py\", line 116, in decorate_context\n",
      "    return func(*args, **kwargs)\n",
      "           ^^^^^^^^^^^^^^^^^^^^^\n",
      "  File \"/hpc/mydata/saugat.kandel/sam2_projects/segment-anything-2/sam2/automatic_mask_generator.py\", line 202, in generate\n",
      "    mask_data = self._generate_masks(image)\n",
      "                ^^^^^^^^^^^^^^^^^^^^^^^^^^^\n",
      "  File \"/hpc/mydata/saugat.kandel/sam2_projects/segment-anything-2/sam2/automatic_mask_generator.py\", line 245, in _generate_masks\n",
      "    scores = 1 / box_area(data[\"crop_boxes\"])\n",
      "                 ^^^^^^^^^^^^^^^^^^^^^^^^^^^^\n",
      "  File \"/hpc/mydata/saugat.kandel/sam2_projects/.pixi/envs/default/lib/python3.12/site-packages/torchvision/ops/boxes.py\", line 251, in box_area\n",
      "    return (boxes[:, 2] - boxes[:, 0]) * (boxes[:, 3] - boxes[:, 1])\n",
      "            ~~~~~^^^^^^\n",
      "IndexError: too many indices for tensor of dimension 1\n"
     ]
    },
    {
     "name": "stdout",
     "output_type": "stream",
     "text": [
      "Using device:  2\n",
      "using device: cuda\n",
      "Getting denoised Tomogram with 10 A voxel size for the associated runID: Position_23_3_Vol\n",
      "Preprocessing the volume for Position_23_3_Vol\n",
      "Running automatic segmentation for projection\n",
      "Using device:  1\n",
      "using device: cuda\n",
      "Getting denoised Tomogram with 10 A voxel size for the associated runID: Position_23_2_Vol\n",
      "Preprocessing the volume for Position_23_2_Vol\n",
      "Running automatic segmentation for projection\n",
      "Saving the masks\n",
      "Running automatic segmentation for volume\n",
      "Using device:  0\n",
      "using device: cuda\n",
      "Getting denoised Tomogram with 10 A voxel size for the associated runID: Position_22_Vol\n",
      "Preprocessing the volume for Position_22_Vol\n",
      "Running automatic segmentation for projection\n",
      "Saving the masks\n",
      "Running automatic segmentation for volume\n"
     ]
    },
    {
     "name": "stderr",
     "output_type": "stream",
     "text": [
      "  3%|▎         | 5/186 [00:00<00:09, 19.62it/s]]"
     ]
    },
    {
     "name": "stdout",
     "output_type": "stream",
     "text": [
      "Using device:  3\n",
      "using device: cuda\n",
      "Getting denoised Tomogram with 10 A voxel size for the associated runID: Position_23_4_Vol\n",
      "Preprocessing the volume for Position_23_4_Vol\n",
      "Running automatic segmentation for projection\n",
      "Saving the masks\n",
      "Running automatic segmentation for volume\n"
     ]
    },
    {
     "name": "stderr",
     "output_type": "stream",
     "text": [
      "100%|██████████| 186/186 [00:03<00:00, 55.98it/s]\n",
      "100%|██████████| 186/186 [00:04<00:00, 46.28it/s]00:13,  6.98it/s]\n",
      "100%|██████████| 186/186 [00:05<00:00, 33.34it/s]<00:03, 23.30it/s]\n",
      "propagate in video: 100%|██████████| 93/93 [00:02<00:00, 32.55it/s]\n",
      "propagate in video: 100%|██████████| 93/93 [00:02<00:00, 36.32it/s]\n",
      "propagate in video: 100%|██████████| 93/93 [00:03<00:00, 23.58it/s]\n",
      "propagate in video: 100%|██████████| 94/94 [00:02<00:00, 36.46it/s]\n",
      "propagate in video:   4%|▍         | 4/94 [00:00<00:02, 32.84it/s]]"
     ]
    },
    {
     "name": "stdout",
     "output_type": "stream",
     "text": [
      "Saving the masks and the volume\n"
     ]
    },
    {
     "name": "stderr",
     "output_type": "stream",
     "text": [
      "propagate in video: 100%|██████████| 94/94 [00:02<00:00, 36.03it/s]\n",
      "propagate in video:  53%|█████▎    | 50/94 [00:02<00:01, 24.08it/s]"
     ]
    },
    {
     "name": "stdout",
     "output_type": "stream",
     "text": [
      "Saving the masks and the volume\n"
     ]
    },
    {
     "name": "stderr",
     "output_type": "stream",
     "text": [
      "propagate in video: 100%|██████████| 94/94 [00:03<00:00, 24.32it/s]\n"
     ]
    },
    {
     "name": "stdout",
     "output_type": "stream",
     "text": [
      "Saving the masks and the volume\n"
     ]
    },
    {
     "name": "stderr",
     "output_type": "stream",
     "text": [
      "  1%|          | 2/186 [00:00<00:09, 18.93it/s]"
     ]
    },
    {
     "name": "stdout",
     "output_type": "stream",
     "text": [
      "Using device:  1\n",
      "using device: cuda\n",
      "Getting denoised Tomogram with 10 A voxel size for the associated runID: Position_23_6_Vol\n",
      "Preprocessing the volume for Position_23_6_Vol\n",
      "Running automatic segmentation for projection\n",
      "Saving the masks\n",
      "Running automatic segmentation for volume\n"
     ]
    },
    {
     "name": "stderr",
     "output_type": "stream",
     "text": [
      "  0%|          | 0/186 [00:00<?, ?it/s]1.13it/s]"
     ]
    },
    {
     "name": "stdout",
     "output_type": "stream",
     "text": [
      "Using device:  0\n",
      "using device: cuda\n",
      "Getting denoised Tomogram with 10 A voxel size for the associated runID: Position_23_5_Vol\n",
      "Preprocessing the volume for Position_23_5_Vol\n",
      "Running automatic segmentation for projection\n",
      "Saving the masks\n",
      "Running automatic segmentation for volume\n",
      "Using device:  2\n",
      "using device: cuda\n",
      "Getting denoised Tomogram with 10 A voxel size for the associated runID: Position_23_Vol\n",
      "Preprocessing the volume for Position_23_Vol\n",
      "Running automatic segmentation for projection\n",
      "Saving the masks\n",
      "Running automatic segmentation for volume\n"
     ]
    },
    {
     "name": "stderr",
     "output_type": "stream",
     "text": [
      "  8%|▊         | 14/186 [00:00<00:05, 29.76it/s]"
     ]
    },
    {
     "name": "stdout",
     "output_type": "stream",
     "text": [
      "Using device:  3\n",
      "using device: cuda\n",
      "Getting denoised Tomogram with 10 A voxel size for the associated runID: Position_24_2_Vol\n",
      "Preprocessing the volume for Position_24_2_Vol\n",
      "Running automatic segmentation for projection\n",
      "Saving the masks\n",
      "Running automatic segmentation for volume\n"
     ]
    },
    {
     "name": "stderr",
     "output_type": "stream",
     "text": [
      "100%|██████████| 186/186 [00:07<00:00, 23.63it/s]\n",
      "propagate in video: 100%|██████████| 93/93 [00:02<00:00, 38.99it/s]\n",
      "100%|██████████| 186/186 [00:09<00:00, 18.76it/s]<00:01, 46.12it/s]\n",
      "100%|██████████| 186/186 [00:09<00:00, 18.87it/s]<00:01, 44.14it/s]\n",
      "100%|██████████| 186/186 [00:10<00:00, 17.23it/s]<00:00, 43.09it/s]\n",
      "propagate in video: 100%|██████████| 94/94 [00:02<00:00, 43.51it/s]\n",
      "propagate in video:  27%|██▋       | 25/93 [00:00<00:01, 42.23it/s]"
     ]
    },
    {
     "name": "stdout",
     "output_type": "stream",
     "text": [
      "Saving the masks and the volume\n"
     ]
    },
    {
     "name": "stderr",
     "output_type": "stream",
     "text": [
      "propagate in video: 100%|██████████| 93/93 [00:02<00:00, 41.51it/s]\n",
      "propagate in video: 100%|██████████| 93/93 [00:03<00:00, 27.54it/s]\n",
      "propagate in video: 100%|██████████| 93/93 [00:03<00:00, 30.70it/s]\n",
      "propagate in video: 100%|██████████| 94/94 [00:02<00:00, 42.46it/s]\n",
      "propagate in video:  61%|██████    | 57/94 [00:01<00:01, 31.01it/s]"
     ]
    },
    {
     "name": "stdout",
     "output_type": "stream",
     "text": [
      "Saving the masks and the volume\n"
     ]
    },
    {
     "name": "stderr",
     "output_type": "stream",
     "text": [
      "propagate in video: 100%|██████████| 94/94 [00:03<00:00, 31.19it/s]\n",
      "propagate in video: 100%|██████████| 94/94 [00:03<00:00, 31.31it/s]\n"
     ]
    },
    {
     "name": "stdout",
     "output_type": "stream",
     "text": [
      "Saving the masks and the volume\n",
      "Saving the masks and the volume\n"
     ]
    },
    {
     "name": "stderr",
     "output_type": "stream",
     "text": [
      "Process Process-336:\n",
      "Traceback (most recent call last):\n",
      "  File \"/hpc/mydata/saugat.kandel/sam2_projects/.pixi/envs/default/lib/python3.12/site-packages/multiprocess/process.py\", line 314, in _bootstrap\n",
      "    self.run()\n",
      "  File \"/hpc/mydata/saugat.kandel/sam2_projects/.pixi/envs/default/lib/python3.12/site-packages/multiprocess/process.py\", line 108, in run\n",
      "    self._target(*self._args, **self._kwargs)\n",
      "  File \"/tmp/ipykernel_1701885/244904649.py\", line 105, in run_in_separate_process\n",
      "  File \"/hpc/mydata/saugat.kandel/sam2_projects/.pixi/envs/default/lib/python3.12/site-packages/torch/utils/_contextlib.py\", line 116, in decorate_context\n",
      "    return func(*args, **kwargs)\n",
      "           ^^^^^^^^^^^^^^^^^^^^^\n",
      "  File \"/hpc/mydata/saugat.kandel/sam2_projects/segment-anything-2/sam2/automatic_mask_generator.py\", line 202, in generate\n",
      "    mask_data = self._generate_masks(image)\n",
      "                ^^^^^^^^^^^^^^^^^^^^^^^^^^^\n",
      "  File \"/hpc/mydata/saugat.kandel/sam2_projects/segment-anything-2/sam2/automatic_mask_generator.py\", line 245, in _generate_masks\n",
      "    scores = 1 / box_area(data[\"crop_boxes\"])\n",
      "                 ^^^^^^^^^^^^^^^^^^^^^^^^^^^^\n",
      "  File \"/hpc/mydata/saugat.kandel/sam2_projects/.pixi/envs/default/lib/python3.12/site-packages/torchvision/ops/boxes.py\", line 251, in box_area\n",
      "    return (boxes[:, 2] - boxes[:, 0]) * (boxes[:, 3] - boxes[:, 1])\n",
      "            ~~~~~^^^^^^\n",
      "IndexError: too many indices for tensor of dimension 1\n"
     ]
    },
    {
     "name": "stdout",
     "output_type": "stream",
     "text": [
      "Using device:  1\n",
      "using device: cuda\n",
      "Getting denoised Tomogram with 10 A voxel size for the associated runID: Position_24_4_Vol\n",
      "Preprocessing the volume for Position_24_4_Vol\n",
      "Running automatic segmentation for projection\n",
      "Using device:  0\n",
      "using device: cuda\n",
      "Getting denoised Tomogram with 10 A voxel size for the associated runID: Position_24_3_Vol\n",
      "Preprocessing the volume for Position_24_3_Vol\n",
      "Running automatic segmentation for projection\n",
      "Saving the masks\n",
      "Running automatic segmentation for volume\n"
     ]
    },
    {
     "name": "stderr",
     "output_type": "stream",
     "text": [
      "  3%|▎         | 6/186 [00:00<00:03, 55.31it/s]"
     ]
    },
    {
     "name": "stdout",
     "output_type": "stream",
     "text": [
      "Using device:  2\n",
      "using device: cuda\n",
      "Getting denoised Tomogram with 10 A voxel size for the associated runID: Position_24_Vol\n",
      "Preprocessing the volume for Position_24_Vol\n",
      "Running automatic segmentation for projection\n",
      "Saving the masks\n",
      "Running automatic segmentation for volume\n"
     ]
    },
    {
     "name": "stderr",
     "output_type": "stream",
     "text": [
      " 22%|██▏       | 40/186 [00:01<00:06, 22.17it/s]"
     ]
    },
    {
     "name": "stdout",
     "output_type": "stream",
     "text": [
      "Using device:  3\n",
      "using device: cuda\n",
      "Getting denoised Tomogram with 10 A voxel size for the associated runID: Position_25_2_Vol\n",
      "Preprocessing the volume for Position_25_2_Vol\n",
      "Running automatic segmentation for projection\n",
      "Saving the masks\n",
      "Running automatic segmentation for volume\n"
     ]
    },
    {
     "name": "stderr",
     "output_type": "stream",
     "text": [
      "100%|██████████| 186/186 [00:06<00:00, 28.31it/s]\n",
      "100%|██████████| 186/186 [00:05<00:00, 34.55it/s]\n",
      "100%|██████████| 186/186 [00:08<00:00, 23.17it/s]<00:02, 30.11it/s]\n",
      "propagate in video: 100%|██████████| 93/93 [00:02<00:00, 39.69it/s]\n",
      "propagate in video: 100%|██████████| 93/93 [00:02<00:00, 35.06it/s]\n",
      "propagate in video: 100%|██████████| 93/93 [00:02<00:00, 41.86it/s]\n",
      "propagate in video: 100%|██████████| 94/94 [00:02<00:00, 43.49it/s]\n",
      "propagate in video:  76%|███████▌  | 71/94 [00:01<00:00, 36.03it/s]"
     ]
    },
    {
     "name": "stdout",
     "output_type": "stream",
     "text": [
      "Saving the masks and the volume\n"
     ]
    },
    {
     "name": "stderr",
     "output_type": "stream",
     "text": [
      "propagate in video: 100%|██████████| 94/94 [00:02<00:00, 42.34it/s]\n",
      "propagate in video: 100%|██████████| 94/94 [00:02<00:00, 35.87it/s]\n"
     ]
    },
    {
     "name": "stdout",
     "output_type": "stream",
     "text": [
      "Saving the masks and the volume\n",
      "Saving the masks and the volume\n",
      "Using device:  3\n",
      "using device: cuda\n",
      "Getting denoised Tomogram with 10 A voxel size for the associated runID: Position_26_4_Vol\n",
      "Preprocessing the volume for Position_26_4_Vol\n",
      "Running automatic segmentation for projection\n",
      "Saving the masks\n",
      "Running automatic segmentation for volume\n",
      "Using device:  2\n",
      "using device: cuda\n",
      "Getting denoised Tomogram with 10 A voxel size for the associated runID: Position_26_3_Vol\n",
      "Preprocessing the volume for Position_26_3_Vol\n",
      "Running automatic segmentation for projection\n",
      "Saving the masks\n",
      "Running automatic segmentation for volume\n"
     ]
    },
    {
     "name": "stderr",
     "output_type": "stream",
     "text": [
      " 10%|█         | 19/186 [00:00<00:02, 57.57it/s]"
     ]
    },
    {
     "name": "stdout",
     "output_type": "stream",
     "text": [
      "Using device:  1\n",
      "using device: cuda\n",
      "Getting denoised Tomogram with 10 A voxel size for the associated runID: Position_26_2_Vol\n",
      "Preprocessing the volume for Position_26_2_Vol\n",
      "Running automatic segmentation for projection\n",
      "Saving the masks\n",
      "Running automatic segmentation for volume\n",
      "Using device:  0\n",
      "using device: cuda\n",
      "Getting denoised Tomogram with 10 A voxel size for the associated runID: Position_25_Vol\n",
      "Preprocessing the volume for Position_25_Vol\n",
      "Running automatic segmentation for projection\n",
      "Saving the masks\n",
      "Running automatic segmentation for volume\n"
     ]
    },
    {
     "name": "stderr",
     "output_type": "stream",
     "text": [
      "100%|██████████| 186/186 [00:06<00:00, 30.88it/s]\n",
      "100%|██████████| 186/186 [00:07<00:00, 26.17it/s]00:13,  6.67it/s]\n",
      "100%|██████████| 186/186 [00:08<00:00, 21.09it/s]<00:03, 23.28it/s]\n",
      "propagate in video: 100%|██████████| 93/93 [00:02<00:00, 35.36it/s]\n",
      "100%|██████████| 186/186 [00:10<00:00, 18.36it/s]00:01, 51.14it/s]]\n",
      "propagate in video: 100%|██████████| 93/93 [00:02<00:00, 32.33it/s]\n",
      "propagate in video: 100%|██████████| 93/93 [00:02<00:00, 40.35it/s]\n",
      "propagate in video: 100%|██████████| 94/94 [00:02<00:00, 42.62it/s]\n",
      "propagate in video:  29%|██▊       | 27/94 [00:00<00:01, 43.27it/s]"
     ]
    },
    {
     "name": "stdout",
     "output_type": "stream",
     "text": [
      "Saving the masks and the volume\n"
     ]
    },
    {
     "name": "stderr",
     "output_type": "stream",
     "text": [
      "propagate in video: 100%|██████████| 94/94 [00:02<00:00, 41.96it/s]\n",
      "propagate in video: 100%|██████████| 93/93 [00:03<00:00, 30.80it/s]\n",
      "propagate in video:  82%|████████▏ | 77/94 [00:01<00:00, 41.10it/s]"
     ]
    },
    {
     "name": "stdout",
     "output_type": "stream",
     "text": [
      "Saving the masks and the volume\n"
     ]
    },
    {
     "name": "stderr",
     "output_type": "stream",
     "text": [
      "propagate in video: 100%|██████████| 94/94 [00:02<00:00, 42.17it/s]\n",
      "propagate in video:  10%|▉         | 9/94 [00:00<00:02, 34.77it/s]"
     ]
    },
    {
     "name": "stdout",
     "output_type": "stream",
     "text": [
      "Saving the masks and the volume\n"
     ]
    },
    {
     "name": "stderr",
     "output_type": "stream",
     "text": [
      "propagate in video: 100%|██████████| 94/94 [00:03<00:00, 30.79it/s]\n"
     ]
    },
    {
     "name": "stdout",
     "output_type": "stream",
     "text": [
      "Saving the masks and the volume\n"
     ]
    },
    {
     "name": "stderr",
     "output_type": "stream",
     "text": [
      "Process Process-346:\n",
      "Traceback (most recent call last):\n",
      "  File \"/hpc/mydata/saugat.kandel/sam2_projects/.pixi/envs/default/lib/python3.12/site-packages/multiprocess/process.py\", line 314, in _bootstrap\n",
      "    self.run()\n",
      "  File \"/hpc/mydata/saugat.kandel/sam2_projects/.pixi/envs/default/lib/python3.12/site-packages/multiprocess/process.py\", line 108, in run\n",
      "    self._target(*self._args, **self._kwargs)\n",
      "  File \"/tmp/ipykernel_1701885/244904649.py\", line 105, in run_in_separate_process\n",
      "  File \"/hpc/mydata/saugat.kandel/sam2_projects/.pixi/envs/default/lib/python3.12/site-packages/torch/utils/_contextlib.py\", line 116, in decorate_context\n",
      "    return func(*args, **kwargs)\n",
      "           ^^^^^^^^^^^^^^^^^^^^^\n",
      "  File \"/hpc/mydata/saugat.kandel/sam2_projects/segment-anything-2/sam2/automatic_mask_generator.py\", line 202, in generate\n",
      "    mask_data = self._generate_masks(image)\n",
      "                ^^^^^^^^^^^^^^^^^^^^^^^^^^^\n",
      "  File \"/hpc/mydata/saugat.kandel/sam2_projects/segment-anything-2/sam2/automatic_mask_generator.py\", line 245, in _generate_masks\n",
      "    scores = 1 / box_area(data[\"crop_boxes\"])\n",
      "                 ^^^^^^^^^^^^^^^^^^^^^^^^^^^^\n",
      "  File \"/hpc/mydata/saugat.kandel/sam2_projects/.pixi/envs/default/lib/python3.12/site-packages/torchvision/ops/boxes.py\", line 251, in box_area\n",
      "    return (boxes[:, 2] - boxes[:, 0]) * (boxes[:, 3] - boxes[:, 1])\n",
      "            ~~~~~^^^^^^\n",
      "IndexError: too many indices for tensor of dimension 1\n"
     ]
    },
    {
     "name": "stdout",
     "output_type": "stream",
     "text": [
      "Using device:  3\n",
      "using device: cuda\n",
      "Getting denoised Tomogram with 10 A voxel size for the associated runID: Position_27_2_Vol\n",
      "Preprocessing the volume for Position_27_2_Vol\n",
      "Running automatic segmentation for projection\n",
      "Using device:  0\n",
      "using device: cuda\n",
      "Getting denoised Tomogram with 10 A voxel size for the associated runID: Position_26_5_Vol\n",
      "Preprocessing the volume for Position_26_5_Vol\n",
      "Running automatic segmentation for projection\n",
      "Saving the masks\n",
      "Running automatic segmentation for volume\n"
     ]
    },
    {
     "name": "stderr",
     "output_type": "stream",
     "text": [
      "  0%|          | 0/186 [00:00<?, ?it/s]7.86it/s]"
     ]
    },
    {
     "name": "stdout",
     "output_type": "stream",
     "text": [
      "Using device:  1\n",
      "using device: cuda\n",
      "Getting denoised Tomogram with 10 A voxel size for the associated runID: Position_26_6_Vol\n",
      "Preprocessing the volume for Position_26_6_Vol\n",
      "Running automatic segmentation for projection\n",
      "Saving the masks\n",
      "Running automatic segmentation for volume\n",
      "Using device:  2\n",
      "using device: cuda\n",
      "Getting denoised Tomogram with 10 A voxel size for the associated runID: Position_26_Vol\n",
      "Preprocessing the volume for Position_26_Vol\n",
      "Running automatic segmentation for projection\n",
      "Saving the masks\n",
      "Running automatic segmentation for volume\n"
     ]
    },
    {
     "name": "stderr",
     "output_type": "stream",
     "text": [
      "100%|██████████| 186/186 [00:05<00:00, 31.34it/s]\n",
      "100%|██████████| 186/186 [00:06<00:00, 29.30it/s]00:06, 14.47it/s]\n",
      "100%|██████████| 186/186 [00:07<00:00, 24.42it/s]<00:01, 29.16it/s]\n",
      "propagate in video: 100%|██████████| 93/93 [00:03<00:00, 28.10it/s]\n",
      "propagate in video: 100%|██████████| 93/93 [00:03<00:00, 29.52it/s]\n",
      "propagate in video: 100%|██████████| 93/93 [00:02<00:00, 42.01it/s]\n",
      "propagate in video: 100%|██████████| 94/94 [00:02<00:00, 43.33it/s]\n",
      "propagate in video:  62%|██████▏   | 58/94 [00:01<00:01, 29.33it/s]"
     ]
    },
    {
     "name": "stdout",
     "output_type": "stream",
     "text": [
      "Saving the masks and the volume\n"
     ]
    },
    {
     "name": "stderr",
     "output_type": "stream",
     "text": [
      "propagate in video: 100%|██████████| 94/94 [00:03<00:00, 29.74it/s]\n",
      "propagate in video: 100%|██████████| 94/94 [00:03<00:00, 29.41it/s]\n"
     ]
    },
    {
     "name": "stdout",
     "output_type": "stream",
     "text": [
      "Saving the masks and the volume\n",
      "Saving the masks and the volume\n"
     ]
    },
    {
     "name": "stderr",
     "output_type": "stream",
     "text": [
      "Process Process-347:\n",
      "Traceback (most recent call last):\n",
      "  File \"/hpc/mydata/saugat.kandel/sam2_projects/.pixi/envs/default/lib/python3.12/site-packages/multiprocess/process.py\", line 314, in _bootstrap\n",
      "    self.run()\n",
      "  File \"/hpc/mydata/saugat.kandel/sam2_projects/.pixi/envs/default/lib/python3.12/site-packages/multiprocess/process.py\", line 108, in run\n",
      "    self._target(*self._args, **self._kwargs)\n",
      "  File \"/tmp/ipykernel_1701885/244904649.py\", line 105, in run_in_separate_process\n",
      "  File \"/hpc/mydata/saugat.kandel/sam2_projects/.pixi/envs/default/lib/python3.12/site-packages/torch/utils/_contextlib.py\", line 116, in decorate_context\n",
      "    return func(*args, **kwargs)\n",
      "           ^^^^^^^^^^^^^^^^^^^^^\n",
      "  File \"/hpc/mydata/saugat.kandel/sam2_projects/segment-anything-2/sam2/automatic_mask_generator.py\", line 202, in generate\n",
      "    mask_data = self._generate_masks(image)\n",
      "                ^^^^^^^^^^^^^^^^^^^^^^^^^^^\n",
      "  File \"/hpc/mydata/saugat.kandel/sam2_projects/segment-anything-2/sam2/automatic_mask_generator.py\", line 245, in _generate_masks\n",
      "    scores = 1 / box_area(data[\"crop_boxes\"])\n",
      "                 ^^^^^^^^^^^^^^^^^^^^^^^^^^^^\n",
      "  File \"/hpc/mydata/saugat.kandel/sam2_projects/.pixi/envs/default/lib/python3.12/site-packages/torchvision/ops/boxes.py\", line 251, in box_area\n",
      "    return (boxes[:, 2] - boxes[:, 0]) * (boxes[:, 3] - boxes[:, 1])\n",
      "            ~~~~~^^^^^^\n",
      "IndexError: too many indices for tensor of dimension 1\n"
     ]
    },
    {
     "name": "stdout",
     "output_type": "stream",
     "text": [
      "Using device:  0\n",
      "using device: cuda\n",
      "Getting denoised Tomogram with 10 A voxel size for the associated runID: Position_27_3_Vol\n",
      "Preprocessing the volume for Position_27_3_Vol\n",
      "Running automatic segmentation for projection\n"
     ]
    },
    {
     "name": "stderr",
     "output_type": "stream",
     "text": [
      "Process Process-348:\n",
      "Traceback (most recent call last):\n",
      "  File \"/hpc/mydata/saugat.kandel/sam2_projects/.pixi/envs/default/lib/python3.12/site-packages/multiprocess/process.py\", line 314, in _bootstrap\n",
      "    self.run()\n",
      "  File \"/hpc/mydata/saugat.kandel/sam2_projects/.pixi/envs/default/lib/python3.12/site-packages/multiprocess/process.py\", line 108, in run\n",
      "    self._target(*self._args, **self._kwargs)\n",
      "  File \"/tmp/ipykernel_1701885/244904649.py\", line 105, in run_in_separate_process\n",
      "  File \"/hpc/mydata/saugat.kandel/sam2_projects/.pixi/envs/default/lib/python3.12/site-packages/torch/utils/_contextlib.py\", line 116, in decorate_context\n",
      "    return func(*args, **kwargs)\n",
      "           ^^^^^^^^^^^^^^^^^^^^^\n",
      "  File \"/hpc/mydata/saugat.kandel/sam2_projects/segment-anything-2/sam2/automatic_mask_generator.py\", line 202, in generate\n",
      "    mask_data = self._generate_masks(image)\n",
      "                ^^^^^^^^^^^^^^^^^^^^^^^^^^^\n",
      "  File \"/hpc/mydata/saugat.kandel/sam2_projects/segment-anything-2/sam2/automatic_mask_generator.py\", line 245, in _generate_masks\n",
      "    scores = 1 / box_area(data[\"crop_boxes\"])\n",
      "                 ^^^^^^^^^^^^^^^^^^^^^^^^^^^^\n",
      "  File \"/hpc/mydata/saugat.kandel/sam2_projects/.pixi/envs/default/lib/python3.12/site-packages/torchvision/ops/boxes.py\", line 251, in box_area\n",
      "    return (boxes[:, 2] - boxes[:, 0]) * (boxes[:, 3] - boxes[:, 1])\n",
      "            ~~~~~^^^^^^\n",
      "IndexError: too many indices for tensor of dimension 1\n"
     ]
    },
    {
     "name": "stdout",
     "output_type": "stream",
     "text": [
      "Using device:  1\n",
      "using device: cuda\n",
      "Getting denoised Tomogram with 10 A voxel size for the associated runID: Position_27_Vol\n",
      "Preprocessing the volume for Position_27_Vol\n",
      "Running automatic segmentation for projection\n",
      "Using device:  3\n",
      "using device: cuda\n",
      "Getting denoised Tomogram with 10 A voxel size for the associated runID: Position_28_3_Vol\n",
      "Preprocessing the volume for Position_28_3_Vol\n",
      "Running automatic segmentation for projection\n",
      "Saving the masks\n",
      "Running automatic segmentation for volume\n"
     ]
    },
    {
     "name": "stderr",
     "output_type": "stream",
     "text": [
      "  2%|▏         | 3/186 [00:00<00:06, 28.53it/s]]"
     ]
    },
    {
     "name": "stdout",
     "output_type": "stream",
     "text": [
      "Using device:  2\n",
      "using device: cuda\n",
      "Getting denoised Tomogram with 10 A voxel size for the associated runID: Position_28_2_Vol\n",
      "Preprocessing the volume for Position_28_2_Vol\n",
      "Running automatic segmentation for projection\n",
      "Saving the masks\n",
      "Running automatic segmentation for volume\n"
     ]
    },
    {
     "name": "stderr",
     "output_type": "stream",
     "text": [
      "100%|██████████| 186/186 [00:05<00:00, 32.87it/s]\n",
      "100%|██████████| 186/186 [00:07<00:00, 26.54it/s]\n",
      "propagate in video: 100%|██████████| 93/93 [00:02<00:00, 41.68it/s]\n",
      "propagate in video: 100%|██████████| 93/93 [00:02<00:00, 34.03it/s]\n",
      "propagate in video: 100%|██████████| 94/94 [00:02<00:00, 42.69it/s]\n",
      "propagate in video:  79%|███████▊  | 74/94 [00:02<00:00, 36.25it/s]"
     ]
    },
    {
     "name": "stdout",
     "output_type": "stream",
     "text": [
      "Saving the masks and the volume\n"
     ]
    },
    {
     "name": "stderr",
     "output_type": "stream",
     "text": [
      "propagate in video: 100%|██████████| 94/94 [00:02<00:00, 36.64it/s]\n"
     ]
    },
    {
     "name": "stdout",
     "output_type": "stream",
     "text": [
      "Saving the masks and the volume\n",
      "Using device:  1\n",
      "using device: cuda\n",
      "Getting denoised Tomogram with 10 A voxel size for the associated runID: Position_28_Vol\n",
      "Preprocessing the volume for Position_28_Vol\n",
      "Running automatic segmentation for projection\n",
      "Saving the masks\n",
      "Running automatic segmentation for volume\n"
     ]
    },
    {
     "name": "stderr",
     "output_type": "stream",
     "text": [
      " 47%|████▋     | 87/186 [00:01<00:02, 47.45it/s]"
     ]
    },
    {
     "name": "stdout",
     "output_type": "stream",
     "text": [
      "Using device:  0\n",
      "using device: cuda\n",
      "Getting denoised Tomogram with 10 A voxel size for the associated runID: Position_28_4_Vol\n",
      "Preprocessing the volume for Position_28_4_Vol\n",
      "Running automatic segmentation for projection\n",
      "Saving the masks\n",
      "Running automatic segmentation for volume\n"
     ]
    },
    {
     "name": "stderr",
     "output_type": "stream",
     "text": [
      "  1%|          | 2/186 [00:00<00:11, 16.19it/s]]"
     ]
    },
    {
     "name": "stdout",
     "output_type": "stream",
     "text": [
      "Using device:  3\n",
      "using device: cuda\n",
      "Getting denoised Tomogram with 10 A voxel size for the associated runID: Position_29_3_Vol\n",
      "Preprocessing the volume for Position_29_3_Vol\n",
      "Running automatic segmentation for projection\n",
      "Saving the masks\n",
      "Running automatic segmentation for volume\n",
      "Using device:  2\n",
      "using device: cuda\n",
      "Getting denoised Tomogram with 10 A voxel size for the associated runID: Position_29_2_Vol\n",
      "Preprocessing the volume for Position_29_2_Vol\n",
      "Running automatic segmentation for projection\n",
      "Saving the masks\n",
      "Running automatic segmentation for volume\n"
     ]
    },
    {
     "name": "stderr",
     "output_type": "stream",
     "text": [
      "100%|██████████| 186/186 [00:03<00:00, 47.54it/s]\n",
      "propagate in video: 100%|██████████| 93/93 [00:02<00:00, 37.30it/s]\n",
      "100%|██████████| 186/186 [00:06<00:00, 27.33it/s]<00:00, 42.66it/s]\n",
      "propagate in video: 100%|██████████| 94/94 [00:02<00:00, 42.99it/s]\n",
      "propagate in video:   0%|          | 0/93 [00:00<?, ?it/s]"
     ]
    },
    {
     "name": "stdout",
     "output_type": "stream",
     "text": [
      "Saving the masks and the volume\n"
     ]
    },
    {
     "name": "stderr",
     "output_type": "stream",
     "text": [
      "100%|██████████| 186/186 [00:08<00:00, 20.73it/s]<00:02, 31.58it/s]\n",
      "100%|██████████| 186/186 [00:09<00:00, 19.93it/s]?, ?it/s]9.92it/s]\n",
      "propagate in video: 100%|██████████| 93/93 [00:02<00:00, 34.35it/s]\n",
      "propagate in video: 100%|██████████| 93/93 [00:02<00:00, 35.29it/s]\n",
      "propagate in video: 100%|██████████| 93/93 [00:02<00:00, 35.02it/s]\n",
      "propagate in video: 100%|██████████| 94/94 [00:02<00:00, 42.65it/s]\n",
      "propagate in video:  33%|███▎      | 31/94 [00:00<00:01, 37.01it/s]"
     ]
    },
    {
     "name": "stdout",
     "output_type": "stream",
     "text": [
      "Saving the masks and the volume\n"
     ]
    },
    {
     "name": "stderr",
     "output_type": "stream",
     "text": [
      "propagate in video: 100%|██████████| 94/94 [00:02<00:00, 36.03it/s]\n",
      "propagate in video:  93%|█████████▎| 87/94 [00:02<00:00, 36.03it/s]"
     ]
    },
    {
     "name": "stdout",
     "output_type": "stream",
     "text": [
      "Saving the masks and the volume\n"
     ]
    },
    {
     "name": "stderr",
     "output_type": "stream",
     "text": [
      "propagate in video: 100%|██████████| 94/94 [00:02<00:00, 35.71it/s]\n"
     ]
    },
    {
     "name": "stdout",
     "output_type": "stream",
     "text": [
      "Saving the masks and the volume\n"
     ]
    },
    {
     "name": "stderr",
     "output_type": "stream",
     "text": [
      "Process Process-358:\n",
      "Traceback (most recent call last):\n",
      "  File \"/hpc/mydata/saugat.kandel/sam2_projects/.pixi/envs/default/lib/python3.12/site-packages/multiprocess/process.py\", line 314, in _bootstrap\n",
      "    self.run()\n",
      "  File \"/hpc/mydata/saugat.kandel/sam2_projects/.pixi/envs/default/lib/python3.12/site-packages/multiprocess/process.py\", line 108, in run\n",
      "    self._target(*self._args, **self._kwargs)\n",
      "  File \"/tmp/ipykernel_1701885/244904649.py\", line 105, in run_in_separate_process\n",
      "  File \"/hpc/mydata/saugat.kandel/sam2_projects/.pixi/envs/default/lib/python3.12/site-packages/torch/utils/_contextlib.py\", line 116, in decorate_context\n",
      "    return func(*args, **kwargs)\n",
      "           ^^^^^^^^^^^^^^^^^^^^^\n",
      "  File \"/hpc/mydata/saugat.kandel/sam2_projects/segment-anything-2/sam2/automatic_mask_generator.py\", line 202, in generate\n",
      "    mask_data = self._generate_masks(image)\n",
      "                ^^^^^^^^^^^^^^^^^^^^^^^^^^^\n",
      "  File \"/hpc/mydata/saugat.kandel/sam2_projects/segment-anything-2/sam2/automatic_mask_generator.py\", line 245, in _generate_masks\n",
      "    scores = 1 / box_area(data[\"crop_boxes\"])\n",
      "                 ^^^^^^^^^^^^^^^^^^^^^^^^^^^^\n",
      "  File \"/hpc/mydata/saugat.kandel/sam2_projects/.pixi/envs/default/lib/python3.12/site-packages/torchvision/ops/boxes.py\", line 251, in box_area\n",
      "    return (boxes[:, 2] - boxes[:, 0]) * (boxes[:, 3] - boxes[:, 1])\n",
      "            ~~~~~^^^^^^\n",
      "IndexError: too many indices for tensor of dimension 1\n"
     ]
    },
    {
     "name": "stdout",
     "output_type": "stream",
     "text": [
      "Using device:  3\n",
      "using device: cuda\n",
      "Getting denoised Tomogram with 10 A voxel size for the associated runID: Position_2_4_Vol\n",
      "Preprocessing the volume for Position_2_4_Vol\n",
      "Running automatic segmentation for projection\n"
     ]
    },
    {
     "name": "stderr",
     "output_type": "stream",
     "text": [
      "  3%|▎         | 6/186 [00:00<00:03, 53.35it/s]"
     ]
    },
    {
     "name": "stdout",
     "output_type": "stream",
     "text": [
      "Using device:  2\n",
      "using device: cuda\n",
      "Getting denoised Tomogram with 10 A voxel size for the associated runID: Position_2_3_Vol\n",
      "Preprocessing the volume for Position_2_3_Vol\n",
      "Running automatic segmentation for projection\n",
      "Saving the masks\n",
      "Running automatic segmentation for volume\n"
     ]
    },
    {
     "name": "stderr",
     "output_type": "stream",
     "text": [
      " 10%|█         | 19/186 [00:00<00:03, 45.52it/s]"
     ]
    },
    {
     "name": "stdout",
     "output_type": "stream",
     "text": [
      "Using device:  0\n",
      "using device: cuda\n",
      "Getting denoised Tomogram with 10 A voxel size for the associated runID: Position_29_Vol\n",
      "Preprocessing the volume for Position_29_Vol\n",
      "Running automatic segmentation for projection\n",
      "Saving the masks\n",
      "Running automatic segmentation for volume\n"
     ]
    },
    {
     "name": "stderr",
     "output_type": "stream",
     "text": [
      "  2%|▏         | 4/186 [00:00<00:05, 32.68it/s]]"
     ]
    },
    {
     "name": "stdout",
     "output_type": "stream",
     "text": [
      "Using device:  1\n",
      "using device: cuda\n",
      "Getting denoised Tomogram with 10 A voxel size for the associated runID: Position_2_2_Vol\n",
      "Preprocessing the volume for Position_2_2_Vol\n",
      "Running automatic segmentation for projection\n",
      "Saving the masks\n",
      "Running automatic segmentation for volume\n"
     ]
    },
    {
     "name": "stderr",
     "output_type": "stream",
     "text": [
      "100%|██████████| 186/186 [00:05<00:00, 31.16it/s]\n",
      "100%|██████████| 186/186 [00:06<00:00, 30.96it/s]\n",
      "100%|██████████| 186/186 [00:05<00:00, 31.52it/s]?, ?it/s]\n",
      "propagate in video: 100%|██████████| 93/93 [00:02<00:00, 42.36it/s]\n",
      "propagate in video: 100%|██████████| 93/93 [00:02<00:00, 40.92it/s]\n",
      "propagate in video: 100%|██████████| 93/93 [00:02<00:00, 42.16it/s]\n",
      "propagate in video: 100%|██████████| 94/94 [00:02<00:00, 42.93it/s]\n",
      "propagate in video: 100%|██████████| 94/94 [00:02<00:00, 43.06it/s]\n"
     ]
    },
    {
     "name": "stdout",
     "output_type": "stream",
     "text": [
      "Saving the masks and the volume\n"
     ]
    },
    {
     "name": "stderr",
     "output_type": "stream",
     "text": [
      "propagate in video: 100%|██████████| 94/94 [00:02<00:00, 42.66it/s]\n"
     ]
    },
    {
     "name": "stdout",
     "output_type": "stream",
     "text": [
      "Saving the masks and the volume\n",
      "Saving the masks and the volume\n",
      "Using device:  0\n",
      "using device: cuda\n",
      "Getting denoised Tomogram with 10 A voxel size for the associated runID: Position_2_5_Vol\n",
      "Preprocessing the volume for Position_2_5_Vol\n",
      "Running automatic segmentation for projection\n",
      "Saving the masks\n",
      "Running automatic segmentation for volume\n"
     ]
    },
    {
     "name": "stderr",
     "output_type": "stream",
     "text": [
      "  2%|▏         | 4/186 [00:00<00:05, 31.56it/s]"
     ]
    },
    {
     "name": "stdout",
     "output_type": "stream",
     "text": [
      "Using device:  1\n",
      "using device: cuda\n",
      "Getting denoised Tomogram with 10 A voxel size for the associated runID: Position_2_Vol\n",
      "Preprocessing the volume for Position_2_Vol\n",
      "Running automatic segmentation for projection\n",
      "Saving the masks\n",
      "Running automatic segmentation for volume\n"
     ]
    },
    {
     "name": "stderr",
     "output_type": "stream",
     "text": [
      " 23%|██▎       | 43/186 [00:01<00:05, 25.86it/s]"
     ]
    },
    {
     "name": "stdout",
     "output_type": "stream",
     "text": [
      "Using device:  2\n",
      "using device: cuda\n",
      "Getting denoised Tomogram with 10 A voxel size for the associated runID: Position_30_2_Vol\n",
      "Preprocessing the volume for Position_30_2_Vol\n",
      "Running automatic segmentation for projection\n",
      "Saving the masks\n",
      "Running automatic segmentation for volume\n"
     ]
    },
    {
     "name": "stderr",
     "output_type": "stream",
     "text": [
      "  3%|▎         | 6/186 [00:00<00:13, 13.46it/s]]"
     ]
    },
    {
     "name": "stdout",
     "output_type": "stream",
     "text": [
      "Using device:  3\n",
      "using device: cuda\n",
      "Getting denoised Tomogram with 10 A voxel size for the associated runID: Position_30_3_Vol\n",
      "Preprocessing the volume for Position_30_3_Vol\n",
      "Running automatic segmentation for projection\n",
      "Saving the masks\n",
      "Running automatic segmentation for volume\n"
     ]
    },
    {
     "name": "stderr",
     "output_type": "stream",
     "text": [
      "100%|██████████| 186/186 [00:03<00:00, 53.92it/s]\n",
      "propagate in video: 100%|██████████| 93/93 [00:03<00:00, 23.59it/s]\n",
      "100%|██████████| 186/186 [00:08<00:00, 21.94it/s]\n",
      "100%|██████████| 186/186 [00:08<00:00, 22.69it/s]<00:02, 25.92it/s]\n",
      "100%|██████████| 186/186 [00:08<00:00, 21.22it/s]<00:02, 25.38it/s]\n",
      "propagate in video: 100%|██████████| 93/93 [00:02<00:00, 34.06it/s]\n",
      "propagate in video: 100%|██████████| 94/94 [00:03<00:00, 25.44it/s]\n",
      "propagate in video: 100%|██████████| 93/93 [00:02<00:00, 36.83it/s]\n",
      "propagate in video: 100%|██████████| 93/93 [00:03<00:00, 25.21it/s]\n",
      "propagate in video:  16%|█▌        | 15/94 [00:00<00:02, 38.19it/s]"
     ]
    },
    {
     "name": "stdout",
     "output_type": "stream",
     "text": [
      "Saving the masks and the volume\n"
     ]
    },
    {
     "name": "stderr",
     "output_type": "stream",
     "text": [
      "propagate in video: 100%|██████████| 94/94 [00:02<00:00, 37.32it/s]\n",
      "propagate in video:   4%|▍         | 4/94 [00:00<00:02, 34.79it/s]]"
     ]
    },
    {
     "name": "stdout",
     "output_type": "stream",
     "text": [
      "Saving the masks and the volume\n"
     ]
    },
    {
     "name": "stderr",
     "output_type": "stream",
     "text": [
      "propagate in video: 100%|██████████| 94/94 [00:02<00:00, 35.52it/s]\n",
      "propagate in video:  47%|████▋     | 44/94 [00:01<00:01, 25.40it/s]"
     ]
    },
    {
     "name": "stdout",
     "output_type": "stream",
     "text": [
      "Saving the masks and the volume\n"
     ]
    },
    {
     "name": "stderr",
     "output_type": "stream",
     "text": [
      "propagate in video: 100%|██████████| 94/94 [00:03<00:00, 25.58it/s]\n"
     ]
    },
    {
     "name": "stdout",
     "output_type": "stream",
     "text": [
      "Saving the masks and the volume\n",
      "Using device:  2\n",
      "using device: cuda\n",
      "Getting denoised Tomogram with 10 A voxel size for the associated runID: Position_31_2_Vol\n",
      "Preprocessing the volume for Position_31_2_Vol\n",
      "Running automatic segmentation for projection\n",
      "Saving the masks\n",
      "Running automatic segmentation for volume\n"
     ]
    },
    {
     "name": "stderr",
     "output_type": "stream",
     "text": [
      "  5%|▌         | 10/186 [00:00<00:06, 29.21it/s]"
     ]
    },
    {
     "name": "stdout",
     "output_type": "stream",
     "text": [
      "Using device:  3\n",
      "using device: cuda\n",
      "Getting denoised Tomogram with 10 A voxel size for the associated runID: Position_31_3_Vol\n",
      "Preprocessing the volume for Position_31_3_Vol\n",
      "Running automatic segmentation for projection\n",
      "Saving the masks\n",
      "Running automatic segmentation for volume\n"
     ]
    },
    {
     "name": "stderr",
     "output_type": "stream",
     "text": [
      " 12%|█▏        | 22/186 [00:00<00:07, 20.79it/s]"
     ]
    },
    {
     "name": "stdout",
     "output_type": "stream",
     "text": [
      "Using device:  1\n",
      "using device: cuda\n",
      "Getting denoised Tomogram with 10 A voxel size for the associated runID: Position_30_Vol\n",
      "Preprocessing the volume for Position_30_Vol\n",
      "Running automatic segmentation for projection\n",
      "Saving the masks\n",
      "Running automatic segmentation for volume\n"
     ]
    },
    {
     "name": "stderr",
     "output_type": "stream",
     "text": [
      " 27%|██▋       | 51/186 [00:01<00:05, 23.73it/s]"
     ]
    },
    {
     "name": "stdout",
     "output_type": "stream",
     "text": [
      "Using device:  0\n",
      "using device: cuda\n",
      "Getting denoised Tomogram with 10 A voxel size for the associated runID: Position_30_4_Vol\n",
      "Preprocessing the volume for Position_30_4_Vol\n",
      "Running automatic segmentation for projection\n",
      "Saving the masks\n",
      "Running automatic segmentation for volume\n"
     ]
    },
    {
     "name": "stderr",
     "output_type": "stream",
     "text": [
      "100%|██████████| 186/186 [00:07<00:00, 24.32it/s]\n",
      "100%|██████████| 186/186 [00:10<00:00, 17.16it/s]<00:01, 27.87it/s]\n",
      "100%|██████████| 186/186 [00:10<00:00, 17.80it/s]<00:01, 27.84it/s]\n",
      "100%|██████████| 186/186 [00:10<00:00, 18.32it/s]<00:00, 27.84it/s]\n",
      "propagate in video: 100%|██████████| 93/93 [00:03<00:00, 26.05it/s]\n",
      "propagate in video: 100%|██████████| 93/93 [00:02<00:00, 34.76it/s]\n",
      "propagate in video: 100%|██████████| 93/93 [00:02<00:00, 36.18it/s]\n",
      "propagate in video: 100%|██████████| 93/93 [00:02<00:00, 42.31it/s]\n",
      "propagate in video: 100%|██████████| 94/94 [00:03<00:00, 29.65it/s]\n",
      "propagate in video: 100%|██████████| 94/94 [00:02<00:00, 43.19it/s]\n",
      "propagate in video: 100%|██████████| 94/94 [00:02<00:00, 36.78it/s]\n",
      "propagate in video: 100%|██████████| 94/94 [00:02<00:00, 36.98it/s]\n"
     ]
    },
    {
     "name": "stdout",
     "output_type": "stream",
     "text": [
      "Saving the masks and the volume\n",
      "Saving the masks and the volume\n",
      "Saving the masks and the volume\n",
      "Saving the masks and the volume\n"
     ]
    },
    {
     "name": "stderr",
     "output_type": "stream",
     "text": [
      "Process Process-367:\n",
      "Traceback (most recent call last):\n",
      "  File \"/hpc/mydata/saugat.kandel/sam2_projects/.pixi/envs/default/lib/python3.12/site-packages/multiprocess/process.py\", line 314, in _bootstrap\n",
      "    self.run()\n",
      "  File \"/hpc/mydata/saugat.kandel/sam2_projects/.pixi/envs/default/lib/python3.12/site-packages/multiprocess/process.py\", line 108, in run\n",
      "    self._target(*self._args, **self._kwargs)\n",
      "  File \"/tmp/ipykernel_1701885/244904649.py\", line 105, in run_in_separate_process\n",
      "  File \"/hpc/mydata/saugat.kandel/sam2_projects/.pixi/envs/default/lib/python3.12/site-packages/torch/utils/_contextlib.py\", line 116, in decorate_context\n",
      "    return func(*args, **kwargs)\n",
      "           ^^^^^^^^^^^^^^^^^^^^^\n",
      "  File \"/hpc/mydata/saugat.kandel/sam2_projects/segment-anything-2/sam2/automatic_mask_generator.py\", line 202, in generate\n",
      "    mask_data = self._generate_masks(image)\n",
      "                ^^^^^^^^^^^^^^^^^^^^^^^^^^^\n",
      "  File \"/hpc/mydata/saugat.kandel/sam2_projects/segment-anything-2/sam2/automatic_mask_generator.py\", line 245, in _generate_masks\n",
      "    scores = 1 / box_area(data[\"crop_boxes\"])\n",
      "                 ^^^^^^^^^^^^^^^^^^^^^^^^^^^^\n",
      "  File \"/hpc/mydata/saugat.kandel/sam2_projects/.pixi/envs/default/lib/python3.12/site-packages/torchvision/ops/boxes.py\", line 251, in box_area\n",
      "    return (boxes[:, 2] - boxes[:, 0]) * (boxes[:, 3] - boxes[:, 1])\n",
      "            ~~~~~^^^^^^\n",
      "IndexError: too many indices for tensor of dimension 1\n"
     ]
    },
    {
     "name": "stdout",
     "output_type": "stream",
     "text": [
      "Using device:  0\n",
      "using device: cuda\n",
      "Getting denoised Tomogram with 10 A voxel size for the associated runID: Position_31_4_Vol\n",
      "Preprocessing the volume for Position_31_4_Vol\n",
      "Running automatic segmentation for projection\n",
      "Using device:  2\n",
      "using device: cuda\n",
      "Getting denoised Tomogram with 10 A voxel size for the associated runID: Position_32_2_Vol\n",
      "Preprocessing the volume for Position_32_2_Vol\n",
      "Running automatic segmentation for projection\n",
      "Saving the masks\n",
      "Running automatic segmentation for volume\n"
     ]
    },
    {
     "name": "stderr",
     "output_type": "stream",
     "text": [
      " 41%|████▏     | 77/186 [00:01<00:01, 60.12it/s]"
     ]
    },
    {
     "name": "stdout",
     "output_type": "stream",
     "text": [
      "Using device:  3\n",
      "using device: cuda\n",
      "Getting denoised Tomogram with 10 A voxel size for the associated runID: Position_32_3_Vol\n",
      "Preprocessing the volume for Position_32_3_Vol\n",
      "Running automatic segmentation for projection\n",
      "Saving the masks\n",
      "Running automatic segmentation for volume\n"
     ]
    },
    {
     "name": "stderr",
     "output_type": "stream",
     "text": [
      " 19%|█▉        | 35/186 [00:00<00:03, 48.49it/s]]"
     ]
    },
    {
     "name": "stdout",
     "output_type": "stream",
     "text": [
      "Using device:  1\n",
      "using device: cuda\n",
      "Getting denoised Tomogram with 10 A voxel size for the associated runID: Position_31_Vol\n",
      "Preprocessing the volume for Position_31_Vol\n",
      "Running automatic segmentation for projection\n",
      "Saving the masks\n",
      "Running automatic segmentation for volume\n"
     ]
    },
    {
     "name": "stderr",
     "output_type": "stream",
     "text": [
      "100%|██████████| 186/186 [00:04<00:00, 43.36it/s]\n",
      "propagate in video: 100%|██████████| 93/93 [00:02<00:00, 41.26it/s]\n",
      "100%|██████████| 186/186 [00:05<00:00, 31.95it/s]00:01, 51.84it/s]\n",
      "100%|██████████| 186/186 [00:07<00:00, 25.46it/s]<00:01, 42.83it/s]\n",
      "propagate in video: 100%|██████████| 94/94 [00:02<00:00, 43.24it/s]\n",
      "propagate in video:  48%|████▊     | 45/93 [00:01<00:01, 42.32it/s]"
     ]
    },
    {
     "name": "stdout",
     "output_type": "stream",
     "text": [
      "Saving the masks and the volume\n"
     ]
    },
    {
     "name": "stderr",
     "output_type": "stream",
     "text": [
      "propagate in video: 100%|██████████| 93/93 [00:02<00:00, 33.71it/s]\n",
      "propagate in video: 100%|██████████| 93/93 [00:02<00:00, 42.29it/s]\n",
      "propagate in video: 100%|██████████| 94/94 [00:02<00:00, 42.65it/s]\n",
      "propagate in video: 100%|██████████| 94/94 [00:02<00:00, 36.20it/s]\n"
     ]
    },
    {
     "name": "stdout",
     "output_type": "stream",
     "text": [
      "Saving the masks and the volume\n",
      "Saving the masks and the volume\n",
      "Using device:  3\n",
      "using device: cuda\n",
      "Getting denoised Tomogram with 10 A voxel size for the associated runID: Position_33_3_Vol\n",
      "Preprocessing the volume for Position_33_3_Vol\n",
      "Running automatic segmentation for projection\n",
      "Saving the masks\n",
      "Running automatic segmentation for volume\n"
     ]
    },
    {
     "name": "stderr",
     "output_type": "stream",
     "text": [
      "  6%|▋         | 12/186 [00:00<00:05, 30.36it/s]"
     ]
    },
    {
     "name": "stdout",
     "output_type": "stream",
     "text": [
      "Using device:  2\n",
      "using device: cuda\n",
      "Getting denoised Tomogram with 10 A voxel size for the associated runID: Position_33_2_Vol\n",
      "Preprocessing the volume for Position_33_2_Vol\n",
      "Running automatic segmentation for projection\n",
      "Saving the masks\n",
      "Running automatic segmentation for volume\n"
     ]
    },
    {
     "name": "stderr",
     "output_type": "stream",
     "text": [
      " 26%|██▌       | 48/186 [00:01<00:04, 30.07it/s]"
     ]
    },
    {
     "name": "stdout",
     "output_type": "stream",
     "text": [
      "Using device:  1\n",
      "using device: cuda\n",
      "Getting denoised Tomogram with 10 A voxel size for the associated runID: Position_32_Vol\n",
      "Preprocessing the volume for Position_32_Vol\n",
      "Running automatic segmentation for projection\n",
      "Saving the masks\n",
      "Running automatic segmentation for volume\n",
      "Using device:  0\n",
      "using device: cuda\n",
      "Getting denoised Tomogram with 10 A voxel size for the associated runID: Position_32_4_Vol\n",
      "Preprocessing the volume for Position_32_4_Vol\n",
      "Running automatic segmentation for projection\n",
      "Saving the masks\n",
      "Running automatic segmentation for volume\n"
     ]
    },
    {
     "name": "stderr",
     "output_type": "stream",
     "text": [
      "100%|██████████| 186/186 [00:08<00:00, 21.10it/s]\n",
      "100%|██████████| 186/186 [00:08<00:00, 21.91it/s]\n",
      "100%|██████████| 186/186 [00:07<00:00, 24.13it/s]\n",
      "100%|██████████| 186/186 [00:08<00:00, 22.43it/s]00:04, 20.70it/s]\n",
      "propagate in video: 100%|██████████| 93/93 [00:02<00:00, 34.52it/s]\n",
      "propagate in video: 100%|██████████| 93/93 [00:02<00:00, 36.05it/s]\n",
      "propagate in video: 100%|██████████| 93/93 [00:02<00:00, 34.73it/s]\n",
      "propagate in video: 100%|██████████| 93/93 [00:02<00:00, 31.47it/s]\n",
      "propagate in video: 100%|██████████| 94/94 [00:02<00:00, 42.49it/s]\n",
      "propagate in video:  31%|███       | 29/94 [00:00<00:02, 31.16it/s]"
     ]
    },
    {
     "name": "stdout",
     "output_type": "stream",
     "text": [
      "Saving the masks and the volume\n"
     ]
    },
    {
     "name": "stderr",
     "output_type": "stream",
     "text": [
      "propagate in video: 100%|██████████| 94/94 [00:02<00:00, 36.72it/s]\n",
      "propagate in video: 100%|██████████| 94/94 [00:02<00:00, 35.81it/s]\n",
      "propagate in video:  69%|██████▉   | 65/94 [00:02<00:00, 29.16it/s]"
     ]
    },
    {
     "name": "stdout",
     "output_type": "stream",
     "text": [
      "Saving the masks and the volume\n"
     ]
    },
    {
     "name": "stderr",
     "output_type": "stream",
     "text": [
      "propagate in video:  77%|███████▋  | 72/94 [00:02<00:00, 29.57it/s]"
     ]
    },
    {
     "name": "stdout",
     "output_type": "stream",
     "text": [
      "Saving the masks and the volume\n"
     ]
    },
    {
     "name": "stderr",
     "output_type": "stream",
     "text": [
      "propagate in video: 100%|██████████| 94/94 [00:03<00:00, 29.83it/s]\n"
     ]
    },
    {
     "name": "stdout",
     "output_type": "stream",
     "text": [
      "Saving the masks and the volume\n",
      "Using device:  3\n",
      "using device: cuda\n",
      "Getting denoised Tomogram with 10 A voxel size for the associated runID: Position_34_3_Vol\n",
      "Preprocessing the volume for Position_34_3_Vol\n",
      "Running automatic segmentation for projection\n",
      "Saving the masks\n",
      "Running automatic segmentation for volume\n"
     ]
    },
    {
     "name": "stderr",
     "output_type": "stream",
     "text": [
      " 10%|█         | 19/186 [00:00<00:05, 30.37it/s]"
     ]
    },
    {
     "name": "stdout",
     "output_type": "stream",
     "text": [
      "Using device:  0\n",
      "using device: cuda\n",
      "Getting denoised Tomogram with 10 A voxel size for the associated runID: Position_33_4_Vol\n",
      "Preprocessing the volume for Position_33_4_Vol\n",
      "Running automatic segmentation for projection\n",
      "Saving the masks\n",
      "Running automatic segmentation for volume\n"
     ]
    },
    {
     "name": "stderr",
     "output_type": "stream",
     "text": [
      "  2%|▏         | 3/186 [00:00<00:06, 28.86it/s]]"
     ]
    },
    {
     "name": "stdout",
     "output_type": "stream",
     "text": [
      "Using device:  1\n",
      "using device: cuda\n",
      "Getting denoised Tomogram with 10 A voxel size for the associated runID: Position_33_Vol\n",
      "Preprocessing the volume for Position_33_Vol\n",
      "Running automatic segmentation for projection\n",
      "Saving the masks\n",
      "Running automatic segmentation for volume\n"
     ]
    },
    {
     "name": "stderr",
     "output_type": "stream",
     "text": [
      "  0%|          | 0/186 [00:00<?, ?it/s]0.23it/s]"
     ]
    },
    {
     "name": "stdout",
     "output_type": "stream",
     "text": [
      "Using device:  2\n",
      "using device: cuda\n",
      "Getting denoised Tomogram with 10 A voxel size for the associated runID: Position_34_2_Vol\n",
      "Preprocessing the volume for Position_34_2_Vol\n",
      "Running automatic segmentation for projection\n",
      "Saving the masks\n",
      "Running automatic segmentation for volume\n"
     ]
    },
    {
     "name": "stderr",
     "output_type": "stream",
     "text": [
      "100%|██████████| 186/186 [00:05<00:00, 32.80it/s]\n",
      "100%|██████████| 186/186 [00:08<00:00, 21.55it/s]<00:02, 28.90it/s]\n",
      "100%|██████████| 186/186 [00:11<00:00, 16.23it/s]<00:01, 30.48it/s]\n",
      "100%|██████████| 186/186 [00:11<00:00, 16.10it/s]00:02, 34.33it/s]]\n",
      "propagate in video: 100%|██████████| 93/93 [00:03<00:00, 28.18it/s]\n",
      "propagate in video: 100%|██████████| 93/93 [00:02<00:00, 41.64it/s]\n",
      "propagate in video: 100%|██████████| 93/93 [00:02<00:00, 33.70it/s]\n",
      "propagate in video: 100%|██████████| 93/93 [00:02<00:00, 43.01it/s]\n",
      "propagate in video: 100%|██████████| 94/94 [00:02<00:00, 31.45it/s]\n",
      "propagate in video: 100%|██████████| 94/94 [00:02<00:00, 42.56it/s]\n",
      "propagate in video:  87%|████████▋ | 82/94 [00:01<00:00, 42.78it/s]"
     ]
    },
    {
     "name": "stdout",
     "output_type": "stream",
     "text": [
      "Saving the masks and the volume\n",
      "Saving the masks and the volume\n"
     ]
    },
    {
     "name": "stderr",
     "output_type": "stream",
     "text": [
      "propagate in video: 100%|██████████| 94/94 [00:02<00:00, 43.29it/s]\n",
      "propagate in video: 100%|██████████| 94/94 [00:02<00:00, 36.68it/s]\n"
     ]
    },
    {
     "name": "stdout",
     "output_type": "stream",
     "text": [
      "Saving the masks and the volume\n",
      "Saving the masks and the volume\n"
     ]
    },
    {
     "name": "stderr",
     "output_type": "stream",
     "text": [
      "Process Process-380:\n",
      "Traceback (most recent call last):\n",
      "  File \"/hpc/mydata/saugat.kandel/sam2_projects/.pixi/envs/default/lib/python3.12/site-packages/multiprocess/process.py\", line 314, in _bootstrap\n",
      "    self.run()\n",
      "  File \"/hpc/mydata/saugat.kandel/sam2_projects/.pixi/envs/default/lib/python3.12/site-packages/multiprocess/process.py\", line 108, in run\n",
      "    self._target(*self._args, **self._kwargs)\n",
      "  File \"/tmp/ipykernel_1701885/244904649.py\", line 105, in run_in_separate_process\n",
      "  File \"/hpc/mydata/saugat.kandel/sam2_projects/.pixi/envs/default/lib/python3.12/site-packages/torch/utils/_contextlib.py\", line 116, in decorate_context\n",
      "    return func(*args, **kwargs)\n",
      "           ^^^^^^^^^^^^^^^^^^^^^\n",
      "  File \"/hpc/mydata/saugat.kandel/sam2_projects/segment-anything-2/sam2/automatic_mask_generator.py\", line 202, in generate\n",
      "    mask_data = self._generate_masks(image)\n",
      "                ^^^^^^^^^^^^^^^^^^^^^^^^^^^\n",
      "  File \"/hpc/mydata/saugat.kandel/sam2_projects/segment-anything-2/sam2/automatic_mask_generator.py\", line 245, in _generate_masks\n",
      "    scores = 1 / box_area(data[\"crop_boxes\"])\n",
      "                 ^^^^^^^^^^^^^^^^^^^^^^^^^^^^\n",
      "  File \"/hpc/mydata/saugat.kandel/sam2_projects/.pixi/envs/default/lib/python3.12/site-packages/torchvision/ops/boxes.py\", line 251, in box_area\n",
      "    return (boxes[:, 2] - boxes[:, 0]) * (boxes[:, 3] - boxes[:, 1])\n",
      "            ~~~~~^^^^^^\n",
      "IndexError: too many indices for tensor of dimension 1\n"
     ]
    },
    {
     "name": "stdout",
     "output_type": "stream",
     "text": [
      "Using device:  1\n",
      "using device: cuda\n",
      "Getting denoised Tomogram with 10 A voxel size for the associated runID: Position_34_5_Vol\n",
      "Preprocessing the volume for Position_34_5_Vol\n",
      "Running automatic segmentation for projection\n"
     ]
    },
    {
     "name": "stderr",
     "output_type": "stream",
     "text": [
      "Process Process-382:\n",
      "Traceback (most recent call last):\n",
      "  File \"/hpc/mydata/saugat.kandel/sam2_projects/.pixi/envs/default/lib/python3.12/site-packages/multiprocess/process.py\", line 314, in _bootstrap\n",
      "    self.run()\n",
      "  File \"/hpc/mydata/saugat.kandel/sam2_projects/.pixi/envs/default/lib/python3.12/site-packages/multiprocess/process.py\", line 108, in run\n",
      "    self._target(*self._args, **self._kwargs)\n",
      "  File \"/tmp/ipykernel_1701885/244904649.py\", line 105, in run_in_separate_process\n",
      "  File \"/hpc/mydata/saugat.kandel/sam2_projects/.pixi/envs/default/lib/python3.12/site-packages/torch/utils/_contextlib.py\", line 116, in decorate_context\n",
      "    return func(*args, **kwargs)\n",
      "           ^^^^^^^^^^^^^^^^^^^^^\n",
      "  File \"/hpc/mydata/saugat.kandel/sam2_projects/segment-anything-2/sam2/automatic_mask_generator.py\", line 202, in generate\n",
      "    mask_data = self._generate_masks(image)\n",
      "                ^^^^^^^^^^^^^^^^^^^^^^^^^^^\n",
      "  File \"/hpc/mydata/saugat.kandel/sam2_projects/segment-anything-2/sam2/automatic_mask_generator.py\", line 245, in _generate_masks\n",
      "    scores = 1 / box_area(data[\"crop_boxes\"])\n",
      "                 ^^^^^^^^^^^^^^^^^^^^^^^^^^^^\n",
      "  File \"/hpc/mydata/saugat.kandel/sam2_projects/.pixi/envs/default/lib/python3.12/site-packages/torchvision/ops/boxes.py\", line 251, in box_area\n",
      "    return (boxes[:, 2] - boxes[:, 0]) * (boxes[:, 3] - boxes[:, 1])\n",
      "            ~~~~~^^^^^^\n",
      "IndexError: too many indices for tensor of dimension 1\n"
     ]
    },
    {
     "name": "stdout",
     "output_type": "stream",
     "text": [
      "Using device:  3\n",
      "using device: cuda\n",
      "Getting denoised Tomogram with 10 A voxel size for the associated runID: Position_35_2_Vol\n",
      "Preprocessing the volume for Position_35_2_Vol\n",
      "Running automatic segmentation for projection\n",
      "Using device:  0\n",
      "using device: cuda\n",
      "Getting denoised Tomogram with 10 A voxel size for the associated runID: Position_34_4_Vol\n",
      "Preprocessing the volume for Position_34_4_Vol\n",
      "Running automatic segmentation for projection\n",
      "Saving the masks\n",
      "Running automatic segmentation for volume\n"
     ]
    },
    {
     "name": "stderr",
     "output_type": "stream",
     "text": [
      "  3%|▎         | 6/186 [00:00<00:03, 57.26it/s]]"
     ]
    },
    {
     "name": "stdout",
     "output_type": "stream",
     "text": [
      "Using device:  2\n",
      "using device: cuda\n",
      "Getting denoised Tomogram with 10 A voxel size for the associated runID: Position_34_Vol\n",
      "Preprocessing the volume for Position_34_Vol\n",
      "Running automatic segmentation for projection\n",
      "Saving the masks\n",
      "Running automatic segmentation for volume\n"
     ]
    },
    {
     "name": "stderr",
     "output_type": "stream",
     "text": [
      "100%|██████████| 186/186 [00:03<00:00, 61.96it/s]\n",
      "100%|██████████| 186/186 [00:04<00:00, 38.54it/s]<00:01, 43.04it/s]\n",
      "propagate in video: 100%|██████████| 93/93 [00:02<00:00, 42.63it/s]\n",
      "propagate in video: 100%|██████████| 93/93 [00:02<00:00, 41.70it/s]\n",
      "propagate in video: 100%|██████████| 94/94 [00:02<00:00, 43.04it/s]\n",
      "propagate in video:  77%|███████▋  | 72/94 [00:01<00:00, 43.28it/s]"
     ]
    },
    {
     "name": "stdout",
     "output_type": "stream",
     "text": [
      "Saving the masks and the volume\n"
     ]
    },
    {
     "name": "stderr",
     "output_type": "stream",
     "text": [
      "propagate in video: 100%|██████████| 94/94 [00:02<00:00, 43.75it/s]\n"
     ]
    },
    {
     "name": "stdout",
     "output_type": "stream",
     "text": [
      "Saving the masks and the volume\n"
     ]
    },
    {
     "name": "stderr",
     "output_type": "stream",
     "text": [
      "  3%|▎         | 6/186 [00:00<00:03, 55.93it/s]"
     ]
    },
    {
     "name": "stdout",
     "output_type": "stream",
     "text": [
      "Using device:  3\n",
      "using device: cuda\n",
      "Getting denoised Tomogram with 10 A voxel size for the associated runID: Position_35_Vol\n",
      "Preprocessing the volume for Position_35_Vol\n",
      "Running automatic segmentation for projection\n",
      "Saving the masks\n",
      "Running automatic segmentation for volume\n",
      "Using device:  1\n",
      "using device: cuda\n",
      "Getting denoised Tomogram with 10 A voxel size for the associated runID: Position_35_4_Vol\n",
      "Preprocessing the volume for Position_35_4_Vol\n",
      "Running automatic segmentation for projection\n",
      "Saving the masks\n",
      "Running automatic segmentation for volume\n"
     ]
    },
    {
     "name": "stderr",
     "output_type": "stream",
     "text": [
      "  0%|          | 0/186 [00:00<?, ?it/s]9.86it/s]"
     ]
    },
    {
     "name": "stdout",
     "output_type": "stream",
     "text": [
      "Using device:  2\n",
      "using device: cuda\n",
      "Getting denoised Tomogram with 10 A voxel size for the associated runID: Position_35_5_Vol\n",
      "Preprocessing the volume for Position_35_5_Vol\n",
      "Running automatic segmentation for projection\n",
      "Saving the masks\n",
      "Running automatic segmentation for volume\n"
     ]
    },
    {
     "name": "stderr",
     "output_type": "stream",
     "text": [
      " 10%|▉         | 18/186 [00:00<00:05, 28.01it/s]"
     ]
    },
    {
     "name": "stdout",
     "output_type": "stream",
     "text": [
      "Using device:  0\n",
      "using device: cuda\n",
      "Getting denoised Tomogram with 10 A voxel size for the associated runID: Position_35_3_Vol\n",
      "Preprocessing the volume for Position_35_3_Vol\n",
      "Running automatic segmentation for projection\n",
      "Saving the masks\n",
      "Running automatic segmentation for volume\n"
     ]
    },
    {
     "name": "stderr",
     "output_type": "stream",
     "text": [
      "100%|██████████| 186/186 [00:05<00:00, 34.04it/s]\n",
      "100%|██████████| 186/186 [00:06<00:00, 30.23it/s]<00:02, 23.50it/s]\n",
      "100%|██████████| 186/186 [00:07<00:00, 25.64it/s]<00:02, 23.90it/s]\n",
      "100%|██████████| 186/186 [00:08<00:00, 21.41it/s]?, ?it/s]4.51it/s]\n",
      "propagate in video: 100%|██████████| 93/93 [00:03<00:00, 25.73it/s]\n",
      "propagate in video: 100%|██████████| 93/93 [00:02<00:00, 42.35it/s]\n",
      "propagate in video: 100%|██████████| 93/93 [00:02<00:00, 34.71it/s]\n",
      "propagate in video: 100%|██████████| 93/93 [00:03<00:00, 28.98it/s]\n",
      "propagate in video: 100%|██████████| 94/94 [00:02<00:00, 37.36it/s]\n",
      "propagate in video: 100%|██████████| 94/94 [00:02<00:00, 42.52it/s]\n",
      "propagate in video:  13%|█▎        | 12/94 [00:00<00:02, 31.61it/s]"
     ]
    },
    {
     "name": "stdout",
     "output_type": "stream",
     "text": [
      "Saving the masks and the volume\n"
     ]
    },
    {
     "name": "stderr",
     "output_type": "stream",
     "text": [
      "propagate in video:  21%|██▏       | 20/94 [00:00<00:02, 30.19it/s]"
     ]
    },
    {
     "name": "stdout",
     "output_type": "stream",
     "text": [
      "Saving the masks and the volume\n"
     ]
    },
    {
     "name": "stderr",
     "output_type": "stream",
     "text": [
      "propagate in video: 100%|██████████| 94/94 [00:02<00:00, 36.82it/s]\n",
      "propagate in video:  51%|█████     | 48/94 [00:01<00:01, 26.34it/s]"
     ]
    },
    {
     "name": "stdout",
     "output_type": "stream",
     "text": [
      "Saving the masks and the volume\n"
     ]
    },
    {
     "name": "stderr",
     "output_type": "stream",
     "text": [
      "propagate in video: 100%|██████████| 94/94 [00:03<00:00, 28.88it/s]\n"
     ]
    },
    {
     "name": "stdout",
     "output_type": "stream",
     "text": [
      "Saving the masks and the volume\n",
      "Using device:  2\n",
      "using device: cuda\n",
      "Getting denoised Tomogram with 10 A voxel size for the associated runID: Position_36_4_Vol\n",
      "Preprocessing the volume for Position_36_4_Vol\n",
      "Running automatic segmentation for projection\n",
      "Saving the masks\n",
      "Running automatic segmentation for volume\n"
     ]
    },
    {
     "name": "stderr",
     "output_type": "stream",
     "text": [
      "  6%|▌         | 11/186 [00:00<00:05, 30.34it/s]"
     ]
    },
    {
     "name": "stdout",
     "output_type": "stream",
     "text": [
      "Using device:  1\n",
      "using device: cuda\n",
      "Getting denoised Tomogram with 10 A voxel size for the associated runID: Position_36_3_Vol\n",
      "Preprocessing the volume for Position_36_3_Vol\n",
      "Running automatic segmentation for projection\n",
      "Saving the masks\n",
      "Running automatic segmentation for volume\n"
     ]
    },
    {
     "name": "stderr",
     "output_type": "stream",
     "text": [
      "  8%|▊         | 15/186 [00:00<00:07, 23.41it/s]"
     ]
    },
    {
     "name": "stdout",
     "output_type": "stream",
     "text": [
      "Using device:  0\n",
      "using device: cuda\n",
      "Getting denoised Tomogram with 10 A voxel size for the associated runID: Position_36_2_Vol\n",
      "Preprocessing the volume for Position_36_2_Vol\n",
      "Running automatic segmentation for projection\n",
      "Saving the masks\n",
      "Running automatic segmentation for volume\n"
     ]
    },
    {
     "name": "stderr",
     "output_type": "stream",
     "text": [
      "  0%|          | 0/186 [00:00<?, ?it/s]9.30it/s]"
     ]
    },
    {
     "name": "stdout",
     "output_type": "stream",
     "text": [
      "Using device:  3\n",
      "using device: cuda\n",
      "Getting denoised Tomogram with 10 A voxel size for the associated runID: Position_36_5_Vol\n",
      "Preprocessing the volume for Position_36_5_Vol\n",
      "Running automatic segmentation for projection\n",
      "Saving the masks\n",
      "Running automatic segmentation for volume\n"
     ]
    },
    {
     "name": "stderr",
     "output_type": "stream",
     "text": [
      "100%|██████████| 186/186 [00:07<00:00, 25.46it/s]\n",
      "propagate in video: 100%|██████████| 93/93 [00:02<00:00, 32.97it/s]\n",
      "100%|██████████| 186/186 [00:10<00:00, 18.50it/s]\n",
      "100%|██████████| 186/186 [00:11<00:00, 16.79it/s]00:02, 37.27it/s]\n",
      "100%|██████████| 186/186 [00:10<00:00, 18.06it/s]<00:02, 27.79it/s]\n",
      "propagate in video: 100%|██████████| 94/94 [00:02<00:00, 39.29it/s]\n",
      "propagate in video: 100%|██████████| 93/93 [00:02<00:00, 41.80it/s]\n",
      "propagate in video:  67%|██████▋   | 62/93 [00:01<00:00, 36.74it/s]"
     ]
    },
    {
     "name": "stdout",
     "output_type": "stream",
     "text": [
      "Saving the masks and the volume\n"
     ]
    },
    {
     "name": "stderr",
     "output_type": "stream",
     "text": [
      "propagate in video: 100%|██████████| 93/93 [00:02<00:00, 35.91it/s]\n",
      "propagate in video: 100%|██████████| 93/93 [00:03<00:00, 30.55it/s]\n",
      "propagate in video: 100%|██████████| 94/94 [00:02<00:00, 42.29it/s]\n",
      "propagate in video:  31%|███       | 29/94 [00:00<00:02, 31.23it/s]"
     ]
    },
    {
     "name": "stdout",
     "output_type": "stream",
     "text": [
      "Saving the masks and the volume\n"
     ]
    },
    {
     "name": "stderr",
     "output_type": "stream",
     "text": [
      "propagate in video: 100%|██████████| 94/94 [00:02<00:00, 36.38it/s]\n",
      "propagate in video:  90%|█████████ | 85/94 [00:02<00:00, 30.79it/s]"
     ]
    },
    {
     "name": "stdout",
     "output_type": "stream",
     "text": [
      "Saving the masks and the volume\n"
     ]
    },
    {
     "name": "stderr",
     "output_type": "stream",
     "text": [
      "propagate in video: 100%|██████████| 94/94 [00:03<00:00, 31.04it/s]\n"
     ]
    },
    {
     "name": "stdout",
     "output_type": "stream",
     "text": [
      "Saving the masks and the volume\n"
     ]
    },
    {
     "name": "stderr",
     "output_type": "stream",
     "text": [
      "  0%|          | 0/186 [00:00<?, ?it/s].57it/s]"
     ]
    },
    {
     "name": "stdout",
     "output_type": "stream",
     "text": [
      "Using device:  0\n",
      "using device: cuda\n",
      "Getting denoised Tomogram with 10 A voxel size for the associated runID: Position_36_Vol\n",
      "Preprocessing the volume for Position_36_Vol\n",
      "Running automatic segmentation for projection\n",
      "Saving the masks\n",
      "Running automatic segmentation for volume\n",
      "Using device:  3\n",
      "using device: cuda\n",
      "Getting denoised Tomogram with 10 A voxel size for the associated runID: Position_37_Vol\n",
      "Preprocessing the volume for Position_37_Vol\n",
      "Running automatic segmentation for projection\n",
      "Saving the masks\n",
      "Running automatic segmentation for volume\n"
     ]
    },
    {
     "name": "stderr",
     "output_type": "stream",
     "text": [
      "  3%|▎         | 6/186 [00:00<00:03, 58.04it/s]]"
     ]
    },
    {
     "name": "stdout",
     "output_type": "stream",
     "text": [
      "Using device:  2\n",
      "using device: cuda\n",
      "Getting denoised Tomogram with 10 A voxel size for the associated runID: Position_37_3_Vol\n",
      "Preprocessing the volume for Position_37_3_Vol\n",
      "Running automatic segmentation for projection\n",
      "Saving the masks\n",
      "Running automatic segmentation for volume\n"
     ]
    },
    {
     "name": "stderr",
     "output_type": "stream",
     "text": [
      " 89%|████████▉ | 166/186 [00:02<00:00, 60.30it/s]"
     ]
    },
    {
     "name": "stdout",
     "output_type": "stream",
     "text": [
      "Using device:  1\n",
      "using device: cuda\n",
      "Getting denoised Tomogram with 10 A voxel size for the associated runID: Position_37_2_Vol\n",
      "Preprocessing the volume for Position_37_2_Vol\n",
      "Running automatic segmentation for projection\n",
      "Saving the masks\n",
      "Running automatic segmentation for volume\n"
     ]
    },
    {
     "name": "stderr",
     "output_type": "stream",
     "text": [
      "100%|██████████| 186/186 [00:03<00:00, 53.27it/s]\n",
      "100%|██████████| 186/186 [00:03<00:00, 60.21it/s]\n",
      "100%|██████████| 186/186 [00:05<00:00, 33.37it/s]<00:01, 31.09it/s]\n",
      "propagate in video: 100%|██████████| 93/93 [00:03<00:00, 30.13it/s]\n",
      "100%|██████████| 186/186 [00:04<00:00, 39.79it/s]<00:02, 25.19it/s]\n",
      "propagate in video: 100%|██████████| 93/93 [00:04<00:00, 23.21it/s]\n",
      "propagate in video: 100%|██████████| 93/93 [00:03<00:00, 25.50it/s]\n",
      "propagate in video: 100%|██████████| 93/93 [00:02<00:00, 42.46it/s]\n",
      "propagate in video: 100%|██████████| 94/94 [00:02<00:00, 31.82it/s]\n",
      "propagate in video:  24%|██▍       | 23/94 [00:00<00:02, 25.75it/s]"
     ]
    },
    {
     "name": "stdout",
     "output_type": "stream",
     "text": [
      "Saving the masks and the volume\n"
     ]
    },
    {
     "name": "stderr",
     "output_type": "stream",
     "text": [
      "propagate in video: 100%|██████████| 94/94 [00:02<00:00, 42.49it/s]\n",
      "propagate in video: 100%|██████████| 94/94 [00:03<00:00, 29.33it/s]\n",
      "propagate in video:  60%|█████▉    | 56/94 [00:02<00:01, 25.29it/s]"
     ]
    },
    {
     "name": "stdout",
     "output_type": "stream",
     "text": [
      "Saving the masks and the volume\n"
     ]
    },
    {
     "name": "stderr",
     "output_type": "stream",
     "text": [
      "propagate in video:  79%|███████▊  | 74/94 [00:02<00:00, 25.04it/s]"
     ]
    },
    {
     "name": "stdout",
     "output_type": "stream",
     "text": [
      "Saving the masks and the volume\n"
     ]
    },
    {
     "name": "stderr",
     "output_type": "stream",
     "text": [
      "propagate in video: 100%|██████████| 94/94 [00:03<00:00, 25.56it/s]\n"
     ]
    },
    {
     "name": "stdout",
     "output_type": "stream",
     "text": [
      "Saving the masks and the volume\n"
     ]
    },
    {
     "name": "stderr",
     "output_type": "stream",
     "text": [
      "Process Process-395:\n",
      "Traceback (most recent call last):\n",
      "  File \"/hpc/mydata/saugat.kandel/sam2_projects/.pixi/envs/default/lib/python3.12/site-packages/multiprocess/process.py\", line 314, in _bootstrap\n",
      "    self.run()\n",
      "  File \"/hpc/mydata/saugat.kandel/sam2_projects/.pixi/envs/default/lib/python3.12/site-packages/multiprocess/process.py\", line 108, in run\n",
      "    self._target(*self._args, **self._kwargs)\n",
      "  File \"/tmp/ipykernel_1701885/244904649.py\", line 105, in run_in_separate_process\n",
      "  File \"/hpc/mydata/saugat.kandel/sam2_projects/.pixi/envs/default/lib/python3.12/site-packages/torch/utils/_contextlib.py\", line 116, in decorate_context\n",
      "    return func(*args, **kwargs)\n",
      "           ^^^^^^^^^^^^^^^^^^^^^\n",
      "  File \"/hpc/mydata/saugat.kandel/sam2_projects/segment-anything-2/sam2/automatic_mask_generator.py\", line 202, in generate\n",
      "    mask_data = self._generate_masks(image)\n",
      "                ^^^^^^^^^^^^^^^^^^^^^^^^^^^\n",
      "  File \"/hpc/mydata/saugat.kandel/sam2_projects/segment-anything-2/sam2/automatic_mask_generator.py\", line 245, in _generate_masks\n",
      "    scores = 1 / box_area(data[\"crop_boxes\"])\n",
      "                 ^^^^^^^^^^^^^^^^^^^^^^^^^^^^\n",
      "  File \"/hpc/mydata/saugat.kandel/sam2_projects/.pixi/envs/default/lib/python3.12/site-packages/torchvision/ops/boxes.py\", line 251, in box_area\n",
      "    return (boxes[:, 2] - boxes[:, 0]) * (boxes[:, 3] - boxes[:, 1])\n",
      "            ~~~~~^^^^^^\n",
      "IndexError: too many indices for tensor of dimension 1\n"
     ]
    },
    {
     "name": "stdout",
     "output_type": "stream",
     "text": [
      "Using device:  0\n",
      "using device: cuda\n",
      "Getting denoised Tomogram with 10 A voxel size for the associated runID: Position_38_2_Vol\n",
      "Preprocessing the volume for Position_38_2_Vol\n",
      "Running automatic segmentation for projection\n",
      "Using device:  2\n",
      "using device: cuda\n",
      "Getting denoised Tomogram with 10 A voxel size for the associated runID: Position_38_4_Vol\n",
      "Preprocessing the volume for Position_38_4_Vol\n",
      "Running automatic segmentation for projection\n",
      "Saving the masks\n",
      "Running automatic segmentation for volume\n"
     ]
    },
    {
     "name": "stderr",
     "output_type": "stream",
     "text": [
      "  0%|          | 0/186 [00:00<?, ?it/s]4.76it/s]"
     ]
    },
    {
     "name": "stdout",
     "output_type": "stream",
     "text": [
      "Using device:  3\n",
      "using device: cuda\n",
      "Getting denoised Tomogram with 10 A voxel size for the associated runID: Position_38_5_Vol\n",
      "Preprocessing the volume for Position_38_5_Vol\n",
      "Running automatic segmentation for projection\n",
      "Saving the masks\n",
      "Running automatic segmentation for volume\n",
      "Using device:  1\n",
      "using device: cuda\n",
      "Getting denoised Tomogram with 10 A voxel size for the associated runID: Position_38_3_Vol\n",
      "Preprocessing the volume for Position_38_3_Vol\n",
      "Running automatic segmentation for projection\n",
      "Saving the masks\n",
      "Running automatic segmentation for volume\n"
     ]
    },
    {
     "name": "stderr",
     "output_type": "stream",
     "text": [
      "100%|██████████| 186/186 [00:03<00:00, 50.04it/s]\n",
      "100%|██████████| 186/186 [00:05<00:00, 35.61it/s]<00:02, 28.74it/s]\n",
      "100%|██████████| 186/186 [00:05<00:00, 31.95it/s]?, ?it/s]4.69it/s]\n",
      "propagate in video: 100%|██████████| 93/93 [00:03<00:00, 30.77it/s]\n",
      "propagate in video: 100%|██████████| 93/93 [00:02<00:00, 35.45it/s]\n",
      "propagate in video: 100%|██████████| 93/93 [00:02<00:00, 42.44it/s]\n",
      "propagate in video: 100%|██████████| 94/94 [00:02<00:00, 37.22it/s]\n",
      "propagate in video:  67%|██████▋   | 63/94 [00:01<00:00, 36.56it/s]"
     ]
    },
    {
     "name": "stdout",
     "output_type": "stream",
     "text": [
      "Saving the masks and the volume\n"
     ]
    },
    {
     "name": "stderr",
     "output_type": "stream",
     "text": [
      "propagate in video: 100%|██████████| 94/94 [00:02<00:00, 42.92it/s]\n",
      "propagate in video:  93%|█████████▎| 87/94 [00:02<00:00, 36.09it/s]"
     ]
    },
    {
     "name": "stdout",
     "output_type": "stream",
     "text": [
      "Saving the masks and the volume\n"
     ]
    },
    {
     "name": "stderr",
     "output_type": "stream",
     "text": [
      "propagate in video: 100%|██████████| 94/94 [00:02<00:00, 36.79it/s]\n"
     ]
    },
    {
     "name": "stdout",
     "output_type": "stream",
     "text": [
      "Saving the masks and the volume\n",
      "Using device:  3\n",
      "using device: cuda\n",
      "Getting denoised Tomogram with 10 A voxel size for the associated runID: Position_39_3_Vol\n",
      "Preprocessing the volume for Position_39_3_Vol\n",
      "Running automatic segmentation for projection\n",
      "Saving the masks\n",
      "Running automatic segmentation for volume\n"
     ]
    },
    {
     "name": "stderr",
     "output_type": "stream",
     "text": [
      "  1%|          | 2/186 [00:00<00:10, 17.12it/s]]"
     ]
    },
    {
     "name": "stdout",
     "output_type": "stream",
     "text": [
      "Using device:  2\n",
      "using device: cuda\n",
      "Getting denoised Tomogram with 10 A voxel size for the associated runID: Position_39_2_Vol\n",
      "Preprocessing the volume for Position_39_2_Vol\n",
      "Running automatic segmentation for projection\n",
      "Saving the masks\n",
      "Running automatic segmentation for volume\n",
      "Using device:  0\n",
      "using device: cuda\n",
      "Getting denoised Tomogram with 10 A voxel size for the associated runID: Position_38_6_Vol\n",
      "Preprocessing the volume for Position_38_6_Vol\n",
      "Running automatic segmentation for projection\n",
      "Saving the masks\n",
      "Running automatic segmentation for volume\n",
      "Using device:  1\n",
      "using device: cuda\n",
      "Getting denoised Tomogram with 10 A voxel size for the associated runID: Position_38_Vol\n",
      "Preprocessing the volume for Position_38_Vol\n",
      "Running automatic segmentation for projection\n",
      "Saving the masks\n",
      "Running automatic segmentation for volume\n"
     ]
    },
    {
     "name": "stderr",
     "output_type": "stream",
     "text": [
      "100%|██████████| 186/186 [00:04<00:00, 40.34it/s]\n",
      "100%|██████████| 186/186 [00:07<00:00, 24.09it/s]<00:00, 35.88it/s]\n",
      "propagate in video: 100%|██████████| 93/93 [00:02<00:00, 35.83it/s]\n",
      "100%|██████████| 186/186 [00:08<00:00, 20.98it/s]00:03, 25.94it/s]]\n",
      "100%|██████████| 186/186 [00:09<00:00, 19.37it/s]<00:01, 41.74it/s]\n",
      "propagate in video: 100%|██████████| 93/93 [00:02<00:00, 40.00it/s]\n",
      "propagate in video: 100%|██████████| 94/94 [00:02<00:00, 35.24it/s]\n",
      "propagate in video:  77%|███████▋  | 72/93 [00:02<00:00, 31.09it/s]"
     ]
    },
    {
     "name": "stdout",
     "output_type": "stream",
     "text": [
      "Saving the masks and the volume\n"
     ]
    },
    {
     "name": "stderr",
     "output_type": "stream",
     "text": [
      "propagate in video: 100%|██████████| 93/93 [00:03<00:00, 29.82it/s]\n",
      "propagate in video: 100%|██████████| 93/93 [00:02<00:00, 35.45it/s]\n",
      "propagate in video: 100%|██████████| 94/94 [00:02<00:00, 41.88it/s]\n",
      "propagate in video:   5%|▌         | 5/94 [00:00<00:01, 46.98it/s]]"
     ]
    },
    {
     "name": "stdout",
     "output_type": "stream",
     "text": [
      "Saving the masks and the volume\n"
     ]
    },
    {
     "name": "stderr",
     "output_type": "stream",
     "text": [
      "propagate in video: 100%|██████████| 94/94 [00:02<00:00, 36.20it/s]\n",
      "propagate in video: 100%|██████████| 94/94 [00:03<00:00, 31.28it/s]\n"
     ]
    },
    {
     "name": "stdout",
     "output_type": "stream",
     "text": [
      "Saving the masks and the volume\n",
      "Saving the masks and the volume\n",
      "Using device:  1\n",
      "using device: cuda\n",
      "Getting denoised Tomogram with 10 A voxel size for the associated runID: Position_3_2_Vol\n",
      "Preprocessing the volume for Position_3_2_Vol\n",
      "Running automatic segmentation for projection\n",
      "Saving the masks\n",
      "Running automatic segmentation for volume\n"
     ]
    },
    {
     "name": "stderr",
     "output_type": "stream",
     "text": [
      " 20%|██        | 38/186 [00:01<00:05, 29.01it/s]"
     ]
    },
    {
     "name": "stdout",
     "output_type": "stream",
     "text": [
      "Using device:  3\n",
      "using device: cuda\n",
      "Getting denoised Tomogram with 10 A voxel size for the associated runID: Position_3_4_Vol\n",
      "Preprocessing the volume for Position_3_4_Vol\n",
      "Running automatic segmentation for projection\n",
      "Saving the masks\n",
      "Running automatic segmentation for volume\n"
     ]
    },
    {
     "name": "stderr",
     "output_type": "stream",
     "text": [
      " 38%|███▊      | 70/186 [00:02<00:03, 31.24it/s]"
     ]
    },
    {
     "name": "stdout",
     "output_type": "stream",
     "text": [
      "Using device:  2\n",
      "using device: cuda\n",
      "Getting denoised Tomogram with 10 A voxel size for the associated runID: Position_3_3_Vol\n",
      "Preprocessing the volume for Position_3_3_Vol\n",
      "Running automatic segmentation for projection\n",
      "Saving the masks\n",
      "Running automatic segmentation for volume\n",
      "Using device:  0\n",
      "using device: cuda\n",
      "Getting denoised Tomogram with 10 A voxel size for the associated runID: Position_39_Vol\n",
      "Preprocessing the volume for Position_39_Vol\n",
      "Running automatic segmentation for projection\n",
      "Saving the masks\n",
      "Running automatic segmentation for volume\n"
     ]
    },
    {
     "name": "stderr",
     "output_type": "stream",
     "text": [
      "100%|██████████| 186/186 [00:06<00:00, 28.30it/s]\n",
      "100%|██████████| 186/186 [00:07<00:00, 26.31it/s]00:06, 14.10it/s]\n",
      "100%|██████████| 186/186 [00:06<00:00, 27.14it/s]<00:02, 33.47it/s]\n",
      "100%|██████████| 186/186 [00:06<00:00, 26.98it/s]<00:01, 38.92it/s]\n",
      "propagate in video: 100%|██████████| 93/93 [00:02<00:00, 40.94it/s]\n",
      "propagate in video: 100%|██████████| 93/93 [00:03<00:00, 23.78it/s]\n",
      "propagate in video: 100%|██████████| 93/93 [00:02<00:00, 42.31it/s]\n",
      "propagate in video: 100%|██████████| 94/94 [00:02<00:00, 43.26it/s]\n",
      "propagate in video:  71%|███████▏  | 67/94 [00:01<00:00, 42.52it/s]"
     ]
    },
    {
     "name": "stdout",
     "output_type": "stream",
     "text": [
      "Saving the masks and the volume\n"
     ]
    },
    {
     "name": "stderr",
     "output_type": "stream",
     "text": [
      "propagate in video: 100%|██████████| 93/93 [00:03<00:00, 24.85it/s]\n",
      "propagate in video: 100%|██████████| 94/94 [00:02<00:00, 43.00it/s]\n",
      "propagate in video:  78%|███████▊  | 73/94 [00:02<00:00, 29.29it/s]"
     ]
    },
    {
     "name": "stdout",
     "output_type": "stream",
     "text": [
      "Saving the masks and the volume\n"
     ]
    },
    {
     "name": "stderr",
     "output_type": "stream",
     "text": [
      "propagate in video: 100%|██████████| 94/94 [00:03<00:00, 30.87it/s]\n",
      "propagate in video:  31%|███       | 29/94 [00:01<00:02, 25.24it/s]"
     ]
    },
    {
     "name": "stdout",
     "output_type": "stream",
     "text": [
      "Saving the masks and the volume\n"
     ]
    },
    {
     "name": "stderr",
     "output_type": "stream",
     "text": [
      "propagate in video: 100%|██████████| 94/94 [00:03<00:00, 25.26it/s]\n"
     ]
    },
    {
     "name": "stdout",
     "output_type": "stream",
     "text": [
      "Saving the masks and the volume\n"
     ]
    },
    {
     "name": "stderr",
     "output_type": "stream",
     "text": [
      "  0%|          | 0/186 [00:00<?, ?it/s].87it/s]"
     ]
    },
    {
     "name": "stdout",
     "output_type": "stream",
     "text": [
      "Using device:  0\n",
      "using device: cuda\n",
      "Getting denoised Tomogram with 10 A voxel size for the associated runID: Position_3_5_Vol\n",
      "Preprocessing the volume for Position_3_5_Vol\n",
      "Running automatic segmentation for projection\n",
      "Saving the masks\n",
      "Running automatic segmentation for volume\n",
      "Using device:  1\n",
      "using device: cuda\n",
      "Getting denoised Tomogram with 10 A voxel size for the associated runID: Position_3_6_Vol\n",
      "Preprocessing the volume for Position_3_6_Vol\n",
      "Running automatic segmentation for projection\n",
      "Saving the masks\n",
      "Running automatic segmentation for volume\n",
      "Using device:  3\n",
      "using device: cuda\n",
      "Getting denoised Tomogram with 10 A voxel size for the associated runID: Position_40_2_Vol\n",
      "Preprocessing the volume for Position_40_2_Vol\n",
      "Running automatic segmentation for projection\n",
      "Saving the masks\n",
      "Running automatic segmentation for volume\n"
     ]
    },
    {
     "name": "stderr",
     "output_type": "stream",
     "text": [
      "  2%|▏         | 3/186 [00:00<00:06, 26.15it/s]s]"
     ]
    },
    {
     "name": "stdout",
     "output_type": "stream",
     "text": [
      "Using device:  2\n",
      "using device: cuda\n",
      "Getting denoised Tomogram with 10 A voxel size for the associated runID: Position_3_Vol\n",
      "Preprocessing the volume for Position_3_Vol\n",
      "Running automatic segmentation for projection\n",
      "Saving the masks\n",
      "Running automatic segmentation for volume\n"
     ]
    },
    {
     "name": "stderr",
     "output_type": "stream",
     "text": [
      "100%|██████████| 186/186 [00:04<00:00, 39.82it/s]\n",
      "100%|██████████| 186/186 [00:07<00:00, 23.50it/s]<00:00, 30.93it/s]\n",
      "propagate in video: 100%|██████████| 93/93 [00:02<00:00, 31.17it/s]\n",
      "100%|██████████| 186/186 [00:08<00:00, 22.18it/s]\n",
      "100%|██████████| 186/186 [00:07<00:00, 25.67it/s]<00:01, 41.12it/s]\n",
      "propagate in video: 100%|██████████| 93/93 [00:02<00:00, 41.76it/s]\n",
      "propagate in video: 100%|██████████| 94/94 [00:02<00:00, 31.50it/s]\n",
      "propagate in video: 100%|██████████| 93/93 [00:02<00:00, 36.99it/s]\n",
      "propagate in video: 100%|██████████| 93/93 [00:03<00:00, 23.55it/s]\n",
      "propagate in video:  61%|██████    | 57/94 [00:01<00:00, 43.15it/s]"
     ]
    },
    {
     "name": "stdout",
     "output_type": "stream",
     "text": [
      "Saving the masks and the volume\n"
     ]
    },
    {
     "name": "stderr",
     "output_type": "stream",
     "text": [
      "propagate in video: 100%|██████████| 94/94 [00:02<00:00, 42.64it/s]\n",
      "propagate in video:   4%|▍         | 4/94 [00:00<00:02, 34.89it/s]]"
     ]
    },
    {
     "name": "stdout",
     "output_type": "stream",
     "text": [
      "Saving the masks and the volume\n"
     ]
    },
    {
     "name": "stderr",
     "output_type": "stream",
     "text": [
      "propagate in video: 100%|██████████| 94/94 [00:02<00:00, 36.08it/s]\n",
      "propagate in video:  66%|██████▌   | 62/94 [00:02<00:01, 25.17it/s]"
     ]
    },
    {
     "name": "stdout",
     "output_type": "stream",
     "text": [
      "Saving the masks and the volume\n"
     ]
    },
    {
     "name": "stderr",
     "output_type": "stream",
     "text": [
      "propagate in video: 100%|██████████| 94/94 [00:03<00:00, 25.45it/s]\n"
     ]
    },
    {
     "name": "stdout",
     "output_type": "stream",
     "text": [
      "Saving the masks and the volume\n"
     ]
    },
    {
     "name": "stderr",
     "output_type": "stream",
     "text": [
      "Process Process-414:\n",
      "Traceback (most recent call last):\n",
      "  File \"/hpc/mydata/saugat.kandel/sam2_projects/.pixi/envs/default/lib/python3.12/site-packages/multiprocess/process.py\", line 314, in _bootstrap\n",
      "    self.run()\n",
      "  File \"/hpc/mydata/saugat.kandel/sam2_projects/.pixi/envs/default/lib/python3.12/site-packages/multiprocess/process.py\", line 108, in run\n",
      "    self._target(*self._args, **self._kwargs)\n",
      "  File \"/tmp/ipykernel_1701885/244904649.py\", line 105, in run_in_separate_process\n",
      "  File \"/hpc/mydata/saugat.kandel/sam2_projects/.pixi/envs/default/lib/python3.12/site-packages/torch/utils/_contextlib.py\", line 116, in decorate_context\n",
      "    return func(*args, **kwargs)\n",
      "           ^^^^^^^^^^^^^^^^^^^^^\n",
      "  File \"/hpc/mydata/saugat.kandel/sam2_projects/segment-anything-2/sam2/automatic_mask_generator.py\", line 202, in generate\n",
      "    mask_data = self._generate_masks(image)\n",
      "                ^^^^^^^^^^^^^^^^^^^^^^^^^^^\n",
      "  File \"/hpc/mydata/saugat.kandel/sam2_projects/segment-anything-2/sam2/automatic_mask_generator.py\", line 245, in _generate_masks\n",
      "    scores = 1 / box_area(data[\"crop_boxes\"])\n",
      "                 ^^^^^^^^^^^^^^^^^^^^^^^^^^^^\n",
      "  File \"/hpc/mydata/saugat.kandel/sam2_projects/.pixi/envs/default/lib/python3.12/site-packages/torchvision/ops/boxes.py\", line 251, in box_area\n",
      "    return (boxes[:, 2] - boxes[:, 0]) * (boxes[:, 3] - boxes[:, 1])\n",
      "            ~~~~~^^^^^^\n",
      "IndexError: too many indices for tensor of dimension 1\n"
     ]
    },
    {
     "name": "stdout",
     "output_type": "stream",
     "text": [
      "Using device:  3\n",
      "using device: cuda\n",
      "Getting denoised Tomogram with 10 A voxel size for the associated runID: Position_41_3_Vol\n",
      "Preprocessing the volume for Position_41_3_Vol\n",
      "Running automatic segmentation for projection\n"
     ]
    },
    {
     "name": "stderr",
     "output_type": "stream",
     "text": [
      "Process Process-411:\n",
      "Traceback (most recent call last):\n",
      "  File \"/hpc/mydata/saugat.kandel/sam2_projects/.pixi/envs/default/lib/python3.12/site-packages/multiprocess/process.py\", line 314, in _bootstrap\n",
      "    self.run()\n",
      "  File \"/hpc/mydata/saugat.kandel/sam2_projects/.pixi/envs/default/lib/python3.12/site-packages/multiprocess/process.py\", line 108, in run\n",
      "    self._target(*self._args, **self._kwargs)\n",
      "  File \"/tmp/ipykernel_1701885/244904649.py\", line 105, in run_in_separate_process\n",
      "  File \"/hpc/mydata/saugat.kandel/sam2_projects/.pixi/envs/default/lib/python3.12/site-packages/torch/utils/_contextlib.py\", line 116, in decorate_context\n",
      "    return func(*args, **kwargs)\n",
      "           ^^^^^^^^^^^^^^^^^^^^^\n",
      "  File \"/hpc/mydata/saugat.kandel/sam2_projects/segment-anything-2/sam2/automatic_mask_generator.py\", line 202, in generate\n",
      "    mask_data = self._generate_masks(image)\n",
      "                ^^^^^^^^^^^^^^^^^^^^^^^^^^^\n",
      "  File \"/hpc/mydata/saugat.kandel/sam2_projects/segment-anything-2/sam2/automatic_mask_generator.py\", line 245, in _generate_masks\n",
      "    scores = 1 / box_area(data[\"crop_boxes\"])\n",
      "                 ^^^^^^^^^^^^^^^^^^^^^^^^^^^^\n",
      "  File \"/hpc/mydata/saugat.kandel/sam2_projects/.pixi/envs/default/lib/python3.12/site-packages/torchvision/ops/boxes.py\", line 251, in box_area\n",
      "    return (boxes[:, 2] - boxes[:, 0]) * (boxes[:, 3] - boxes[:, 1])\n",
      "            ~~~~~^^^^^^\n",
      "IndexError: too many indices for tensor of dimension 1\n"
     ]
    },
    {
     "name": "stdout",
     "output_type": "stream",
     "text": [
      "Using device:  0\n",
      "using device: cuda\n",
      "Getting denoised Tomogram with 10 A voxel size for the associated runID: Position_40_3_Vol\n",
      "Preprocessing the volume for Position_40_3_Vol\n",
      "Running automatic segmentation for projection\n",
      "Using device:  1\n",
      "using device: cuda\n",
      "Getting denoised Tomogram with 10 A voxel size for the associated runID: Position_40_Vol\n",
      "Preprocessing the volume for Position_40_Vol\n",
      "Running automatic segmentation for projection\n",
      "Saving the masks\n",
      "Running automatic segmentation for volume\n"
     ]
    },
    {
     "name": "stderr",
     "output_type": "stream",
     "text": [
      "  0%|          | 0/186 [00:00<?, ?it/s].85it/s]"
     ]
    },
    {
     "name": "stdout",
     "output_type": "stream",
     "text": [
      "Using device:  2\n",
      "using device: cuda\n",
      "Getting denoised Tomogram with 10 A voxel size for the associated runID: Position_41_2_Vol\n",
      "Preprocessing the volume for Position_41_2_Vol\n",
      "Running automatic segmentation for projection\n",
      "Saving the masks\n",
      "Running automatic segmentation for volume\n"
     ]
    },
    {
     "name": "stderr",
     "output_type": "stream",
     "text": [
      "100%|██████████| 186/186 [00:04<00:00, 46.10it/s]\n",
      "100%|██████████| 186/186 [00:05<00:00, 34.00it/s]<00:01, 36.70it/s]\n",
      "propagate in video: 100%|██████████| 93/93 [00:02<00:00, 36.61it/s]\n",
      "propagate in video: 100%|██████████| 93/93 [00:02<00:00, 42.61it/s]\n",
      "propagate in video: 100%|██████████| 94/94 [00:02<00:00, 37.18it/s]\n",
      "propagate in video: 100%|██████████| 94/94 [00:02<00:00, 42.32it/s]\n"
     ]
    },
    {
     "name": "stdout",
     "output_type": "stream",
     "text": [
      "Saving the masks and the volume\n",
      "Saving the masks and the volume\n"
     ]
    },
    {
     "name": "stderr",
     "output_type": "stream",
     "text": [
      "Process Process-415:\n",
      "Traceback (most recent call last):\n",
      "  File \"/hpc/mydata/saugat.kandel/sam2_projects/.pixi/envs/default/lib/python3.12/site-packages/multiprocess/process.py\", line 314, in _bootstrap\n",
      "    self.run()\n",
      "  File \"/hpc/mydata/saugat.kandel/sam2_projects/.pixi/envs/default/lib/python3.12/site-packages/multiprocess/process.py\", line 108, in run\n",
      "    self._target(*self._args, **self._kwargs)\n",
      "  File \"/tmp/ipykernel_1701885/244904649.py\", line 105, in run_in_separate_process\n",
      "  File \"/hpc/mydata/saugat.kandel/sam2_projects/.pixi/envs/default/lib/python3.12/site-packages/torch/utils/_contextlib.py\", line 116, in decorate_context\n",
      "    return func(*args, **kwargs)\n",
      "           ^^^^^^^^^^^^^^^^^^^^^\n",
      "  File \"/hpc/mydata/saugat.kandel/sam2_projects/segment-anything-2/sam2/automatic_mask_generator.py\", line 202, in generate\n",
      "    mask_data = self._generate_masks(image)\n",
      "                ^^^^^^^^^^^^^^^^^^^^^^^^^^^\n",
      "  File \"/hpc/mydata/saugat.kandel/sam2_projects/segment-anything-2/sam2/automatic_mask_generator.py\", line 245, in _generate_masks\n",
      "    scores = 1 / box_area(data[\"crop_boxes\"])\n",
      "                 ^^^^^^^^^^^^^^^^^^^^^^^^^^^^\n",
      "  File \"/hpc/mydata/saugat.kandel/sam2_projects/.pixi/envs/default/lib/python3.12/site-packages/torchvision/ops/boxes.py\", line 251, in box_area\n",
      "    return (boxes[:, 2] - boxes[:, 0]) * (boxes[:, 3] - boxes[:, 1])\n",
      "            ~~~~~^^^^^^\n",
      "IndexError: too many indices for tensor of dimension 1\n"
     ]
    },
    {
     "name": "stdout",
     "output_type": "stream",
     "text": [
      "Using device:  0\n",
      "using device: cuda\n",
      "Getting denoised Tomogram with 10 A voxel size for the associated runID: Position_41_Vol\n",
      "Preprocessing the volume for Position_41_Vol\n",
      "Running automatic segmentation for projection\n"
     ]
    },
    {
     "name": "stderr",
     "output_type": "stream",
     "text": [
      "Process Process-416:\n",
      "Traceback (most recent call last):\n",
      "  File \"/hpc/mydata/saugat.kandel/sam2_projects/.pixi/envs/default/lib/python3.12/site-packages/multiprocess/process.py\", line 314, in _bootstrap\n",
      "    self.run()\n",
      "  File \"/hpc/mydata/saugat.kandel/sam2_projects/.pixi/envs/default/lib/python3.12/site-packages/multiprocess/process.py\", line 108, in run\n",
      "    self._target(*self._args, **self._kwargs)\n",
      "  File \"/tmp/ipykernel_1701885/244904649.py\", line 105, in run_in_separate_process\n",
      "  File \"/hpc/mydata/saugat.kandel/sam2_projects/.pixi/envs/default/lib/python3.12/site-packages/torch/utils/_contextlib.py\", line 116, in decorate_context\n",
      "    return func(*args, **kwargs)\n",
      "           ^^^^^^^^^^^^^^^^^^^^^\n",
      "  File \"/hpc/mydata/saugat.kandel/sam2_projects/segment-anything-2/sam2/automatic_mask_generator.py\", line 202, in generate\n",
      "    mask_data = self._generate_masks(image)\n",
      "                ^^^^^^^^^^^^^^^^^^^^^^^^^^^\n",
      "  File \"/hpc/mydata/saugat.kandel/sam2_projects/segment-anything-2/sam2/automatic_mask_generator.py\", line 245, in _generate_masks\n",
      "    scores = 1 / box_area(data[\"crop_boxes\"])\n",
      "                 ^^^^^^^^^^^^^^^^^^^^^^^^^^^^\n",
      "  File \"/hpc/mydata/saugat.kandel/sam2_projects/.pixi/envs/default/lib/python3.12/site-packages/torchvision/ops/boxes.py\", line 251, in box_area\n",
      "    return (boxes[:, 2] - boxes[:, 0]) * (boxes[:, 3] - boxes[:, 1])\n",
      "            ~~~~~^^^^^^\n",
      "IndexError: too many indices for tensor of dimension 1\n"
     ]
    },
    {
     "name": "stdout",
     "output_type": "stream",
     "text": [
      "Using device:  1\n",
      "using device: cuda\n",
      "Getting denoised Tomogram with 10 A voxel size for the associated runID: Position_42_2_Vol\n",
      "Preprocessing the volume for Position_42_2_Vol\n",
      "Running automatic segmentation for projection\n",
      "Using device:  3\n",
      "using device: cuda\n",
      "Getting denoised Tomogram with 10 A voxel size for the associated runID: Position_42_Vol\n",
      "Preprocessing the volume for Position_42_Vol\n",
      "Running automatic segmentation for projection\n",
      "Saving the masks\n",
      "Running automatic segmentation for volume\n"
     ]
    },
    {
     "name": "stderr",
     "output_type": "stream",
     "text": [
      "  0%|          | 0/186 [00:00<?, ?it/s]8.11it/s]"
     ]
    },
    {
     "name": "stdout",
     "output_type": "stream",
     "text": [
      "Using device:  2\n",
      "using device: cuda\n",
      "Getting denoised Tomogram with 10 A voxel size for the associated runID: Position_42_3_Vol\n",
      "Preprocessing the volume for Position_42_3_Vol\n",
      "Running automatic segmentation for projection\n",
      "Saving the masks\n",
      "Running automatic segmentation for volume\n"
     ]
    },
    {
     "name": "stderr",
     "output_type": "stream",
     "text": [
      "100%|██████████| 186/186 [00:05<00:00, 33.49it/s]\n",
      "100%|██████████| 186/186 [00:05<00:00, 33.09it/s]?, ?it/s]\n",
      "propagate in video: 100%|██████████| 93/93 [00:02<00:00, 41.94it/s]\n",
      "propagate in video: 100%|██████████| 93/93 [00:02<00:00, 43.10it/s]\n",
      "propagate in video: 100%|██████████| 94/94 [00:02<00:00, 42.76it/s]\n",
      "propagate in video:  93%|█████████▎| 87/94 [00:02<00:00, 42.79it/s]"
     ]
    },
    {
     "name": "stdout",
     "output_type": "stream",
     "text": [
      "Saving the masks and the volume\n"
     ]
    },
    {
     "name": "stderr",
     "output_type": "stream",
     "text": [
      "propagate in video: 100%|██████████| 94/94 [00:02<00:00, 43.08it/s]\n"
     ]
    },
    {
     "name": "stdout",
     "output_type": "stream",
     "text": [
      "Saving the masks and the volume\n"
     ]
    },
    {
     "name": "stderr",
     "output_type": "stream",
     "text": [
      "Process Process-420:\n",
      "Traceback (most recent call last):\n",
      "  File \"/hpc/mydata/saugat.kandel/sam2_projects/.pixi/envs/default/lib/python3.12/site-packages/multiprocess/process.py\", line 314, in _bootstrap\n",
      "    self.run()\n",
      "  File \"/hpc/mydata/saugat.kandel/sam2_projects/.pixi/envs/default/lib/python3.12/site-packages/multiprocess/process.py\", line 108, in run\n",
      "    self._target(*self._args, **self._kwargs)\n",
      "  File \"/tmp/ipykernel_1701885/244904649.py\", line 105, in run_in_separate_process\n",
      "  File \"/hpc/mydata/saugat.kandel/sam2_projects/.pixi/envs/default/lib/python3.12/site-packages/torch/utils/_contextlib.py\", line 116, in decorate_context\n",
      "    return func(*args, **kwargs)\n",
      "           ^^^^^^^^^^^^^^^^^^^^^\n",
      "  File \"/hpc/mydata/saugat.kandel/sam2_projects/segment-anything-2/sam2/automatic_mask_generator.py\", line 202, in generate\n",
      "    mask_data = self._generate_masks(image)\n",
      "                ^^^^^^^^^^^^^^^^^^^^^^^^^^^\n",
      "  File \"/hpc/mydata/saugat.kandel/sam2_projects/segment-anything-2/sam2/automatic_mask_generator.py\", line 245, in _generate_masks\n",
      "    scores = 1 / box_area(data[\"crop_boxes\"])\n",
      "                 ^^^^^^^^^^^^^^^^^^^^^^^^^^^^\n",
      "  File \"/hpc/mydata/saugat.kandel/sam2_projects/.pixi/envs/default/lib/python3.12/site-packages/torchvision/ops/boxes.py\", line 251, in box_area\n",
      "    return (boxes[:, 2] - boxes[:, 0]) * (boxes[:, 3] - boxes[:, 1])\n",
      "            ~~~~~^^^^^^\n",
      "IndexError: too many indices for tensor of dimension 1\n"
     ]
    },
    {
     "name": "stdout",
     "output_type": "stream",
     "text": [
      "Using device:  1\n",
      "using device: cuda\n",
      "Getting denoised Tomogram with 10 A voxel size for the associated runID: Position_43_Vol\n",
      "Preprocessing the volume for Position_43_Vol\n",
      "Running automatic segmentation for projection\n"
     ]
    },
    {
     "name": "stderr",
     "output_type": "stream",
     "text": [
      "  3%|▎         | 6/186 [00:00<00:03, 56.95it/s]"
     ]
    },
    {
     "name": "stdout",
     "output_type": "stream",
     "text": [
      "Using device:  3\n",
      "using device: cuda\n",
      "Getting denoised Tomogram with 10 A voxel size for the associated runID: Position_44_3_Vol\n",
      "Preprocessing the volume for Position_44_3_Vol\n",
      "Running automatic segmentation for projection\n",
      "Saving the masks\n",
      "Running automatic segmentation for volume\n"
     ]
    },
    {
     "name": "stderr",
     "output_type": "stream",
     "text": [
      " 10%|▉         | 18/186 [00:00<00:03, 51.41it/s]"
     ]
    },
    {
     "name": "stdout",
     "output_type": "stream",
     "text": [
      "Using device:  0\n",
      "using device: cuda\n",
      "Getting denoised Tomogram with 10 A voxel size for the associated runID: Position_43_2_Vol\n",
      "Preprocessing the volume for Position_43_2_Vol\n",
      "Running automatic segmentation for projection\n",
      "Saving the masks\n",
      "Running automatic segmentation for volume\n"
     ]
    },
    {
     "name": "stderr",
     "output_type": "stream",
     "text": [
      "  9%|▉         | 17/186 [00:00<00:03, 42.69it/s]"
     ]
    },
    {
     "name": "stdout",
     "output_type": "stream",
     "text": [
      "Using device:  2\n",
      "using device: cuda\n",
      "Getting denoised Tomogram with 10 A voxel size for the associated runID: Position_44_2_Vol\n",
      "Preprocessing the volume for Position_44_2_Vol\n",
      "Running automatic segmentation for projection\n",
      "Saving the masks\n",
      "Running automatic segmentation for volume\n"
     ]
    },
    {
     "name": "stderr",
     "output_type": "stream",
     "text": [
      "100%|██████████| 186/186 [00:06<00:00, 27.41it/s]\n",
      "100%|██████████| 186/186 [00:07<00:00, 25.18it/s]\n",
      "100%|██████████| 186/186 [00:07<00:00, 25.40it/s]\n",
      "propagate in video: 100%|██████████| 93/93 [00:02<00:00, 42.60it/s]\n",
      "propagate in video: 100%|██████████| 93/93 [00:02<00:00, 40.01it/s]\n",
      "propagate in video: 100%|██████████| 93/93 [00:02<00:00, 40.75it/s]\n",
      "propagate in video: 100%|██████████| 94/94 [00:02<00:00, 42.76it/s]\n",
      "propagate in video: 100%|██████████| 94/94 [00:02<00:00, 42.73it/s]\n",
      "propagate in video: 100%|██████████| 94/94 [00:02<00:00, 42.85it/s]\n"
     ]
    },
    {
     "name": "stdout",
     "output_type": "stream",
     "text": [
      "Saving the masks and the volume\n",
      "Saving the masks and the volume\n",
      "Saving the masks and the volume\n"
     ]
    },
    {
     "name": "stderr",
     "output_type": "stream",
     "text": [
      "  3%|▎         | 6/186 [00:00<00:03, 52.67it/s]"
     ]
    },
    {
     "name": "stdout",
     "output_type": "stream",
     "text": [
      "Using device:  0\n",
      "using device: cuda\n",
      "Getting denoised Tomogram with 10 A voxel size for the associated runID: Position_44_4_Vol\n",
      "Preprocessing the volume for Position_44_4_Vol\n",
      "Running automatic segmentation for projection\n",
      "Saving the masks\n",
      "Running automatic segmentation for volume\n",
      "Using device:  1\n",
      "using device: cuda\n",
      "Getting denoised Tomogram with 10 A voxel size for the associated runID: Position_44_5_Vol\n",
      "Preprocessing the volume for Position_44_5_Vol\n",
      "Running automatic segmentation for projection\n",
      "Saving the masks\n",
      "Running automatic segmentation for volume\n"
     ]
    },
    {
     "name": "stderr",
     "output_type": "stream",
     "text": [
      "  0%|          | 0/186 [00:00<?, ?it/s]3.30it/s]"
     ]
    },
    {
     "name": "stdout",
     "output_type": "stream",
     "text": [
      "Using device:  2\n",
      "using device: cuda\n",
      "Getting denoised Tomogram with 10 A voxel size for the associated runID: Position_44_Vol\n",
      "Preprocessing the volume for Position_44_Vol\n",
      "Running automatic segmentation for projection\n",
      "Saving the masks\n",
      "Running automatic segmentation for volume\n",
      "Using device:  3\n",
      "using device: cuda\n",
      "Getting denoised Tomogram with 10 A voxel size for the associated runID: Position_45_2_Vol\n",
      "Preprocessing the volume for Position_45_2_Vol\n",
      "Running automatic segmentation for projection\n",
      "Saving the masks\n",
      "Running automatic segmentation for volume\n"
     ]
    },
    {
     "name": "stderr",
     "output_type": "stream",
     "text": [
      "100%|██████████| 186/186 [00:06<00:00, 30.31it/s]\n",
      "100%|██████████| 186/186 [00:08<00:00, 21.57it/s]<00:02, 22.98it/s]\n",
      "100%|██████████| 186/186 [00:10<00:00, 16.99it/s]<00:01, 35.45it/s]\n",
      "100%|██████████| 186/186 [00:10<00:00, 17.51it/s]\n",
      "propagate in video: 100%|██████████| 93/93 [00:04<00:00, 23.08it/s]\n",
      "propagate in video: 100%|██████████| 93/93 [00:02<00:00, 37.36it/s]\n",
      "propagate in video: 100%|██████████| 93/93 [00:02<00:00, 42.03it/s]\n",
      "propagate in video: 100%|██████████| 93/93 [00:02<00:00, 36.63it/s]\n",
      "propagate in video: 100%|██████████| 94/94 [00:02<00:00, 42.15it/s]\n",
      "propagate in video: 100%|██████████| 94/94 [00:02<00:00, 31.77it/s]\n",
      "propagate in video:  71%|███████▏  | 67/94 [00:01<00:00, 42.54it/s]"
     ]
    },
    {
     "name": "stdout",
     "output_type": "stream",
     "text": [
      "Saving the masks and the volume\n"
     ]
    },
    {
     "name": "stderr",
     "output_type": "stream",
     "text": [
      "propagate in video:  54%|█████▍    | 51/94 [00:01<00:01, 36.85it/s]"
     ]
    },
    {
     "name": "stdout",
     "output_type": "stream",
     "text": [
      "Saving the masks and the volume\n"
     ]
    },
    {
     "name": "stderr",
     "output_type": "stream",
     "text": [
      "propagate in video: 100%|██████████| 94/94 [00:02<00:00, 42.94it/s]\n",
      "propagate in video:  80%|███████▉  | 75/94 [00:02<00:00, 35.03it/s]"
     ]
    },
    {
     "name": "stdout",
     "output_type": "stream",
     "text": [
      "Saving the masks and the volume\n"
     ]
    },
    {
     "name": "stderr",
     "output_type": "stream",
     "text": [
      "propagate in video: 100%|██████████| 94/94 [00:02<00:00, 35.84it/s]\n"
     ]
    },
    {
     "name": "stdout",
     "output_type": "stream",
     "text": [
      "Saving the masks and the volume\n"
     ]
    },
    {
     "name": "stderr",
     "output_type": "stream",
     "text": [
      "Process Process-429:\n",
      "Traceback (most recent call last):\n",
      "  File \"/hpc/mydata/saugat.kandel/sam2_projects/.pixi/envs/default/lib/python3.12/site-packages/multiprocess/process.py\", line 314, in _bootstrap\n",
      "    self.run()\n",
      "  File \"/hpc/mydata/saugat.kandel/sam2_projects/.pixi/envs/default/lib/python3.12/site-packages/multiprocess/process.py\", line 108, in run\n",
      "    self._target(*self._args, **self._kwargs)\n",
      "  File \"/tmp/ipykernel_1701885/244904649.py\", line 105, in run_in_separate_process\n",
      "  File \"/hpc/mydata/saugat.kandel/sam2_projects/.pixi/envs/default/lib/python3.12/site-packages/torch/utils/_contextlib.py\", line 116, in decorate_context\n",
      "    return func(*args, **kwargs)\n",
      "           ^^^^^^^^^^^^^^^^^^^^^\n",
      "  File \"/hpc/mydata/saugat.kandel/sam2_projects/segment-anything-2/sam2/automatic_mask_generator.py\", line 202, in generate\n",
      "    mask_data = self._generate_masks(image)\n",
      "                ^^^^^^^^^^^^^^^^^^^^^^^^^^^\n",
      "  File \"/hpc/mydata/saugat.kandel/sam2_projects/segment-anything-2/sam2/automatic_mask_generator.py\", line 245, in _generate_masks\n",
      "    scores = 1 / box_area(data[\"crop_boxes\"])\n",
      "                 ^^^^^^^^^^^^^^^^^^^^^^^^^^^^\n",
      "  File \"/hpc/mydata/saugat.kandel/sam2_projects/.pixi/envs/default/lib/python3.12/site-packages/torchvision/ops/boxes.py\", line 251, in box_area\n",
      "    return (boxes[:, 2] - boxes[:, 0]) * (boxes[:, 3] - boxes[:, 1])\n",
      "            ~~~~~^^^^^^\n",
      "IndexError: too many indices for tensor of dimension 1\n"
     ]
    },
    {
     "name": "stdout",
     "output_type": "stream",
     "text": [
      "Using device:  2\n",
      "using device: cuda\n",
      "Getting denoised Tomogram with 10 A voxel size for the associated runID: Position_45_5_Vol\n",
      "Preprocessing the volume for Position_45_5_Vol\n",
      "Running automatic segmentation for projection\n"
     ]
    },
    {
     "name": "stderr",
     "output_type": "stream",
     "text": [
      "Process Process-428:\n",
      "Traceback (most recent call last):\n",
      "  File \"/hpc/mydata/saugat.kandel/sam2_projects/.pixi/envs/default/lib/python3.12/site-packages/multiprocess/process.py\", line 314, in _bootstrap\n",
      "    self.run()\n",
      "  File \"/hpc/mydata/saugat.kandel/sam2_projects/.pixi/envs/default/lib/python3.12/site-packages/multiprocess/process.py\", line 108, in run\n",
      "    self._target(*self._args, **self._kwargs)\n",
      "  File \"/tmp/ipykernel_1701885/244904649.py\", line 105, in run_in_separate_process\n",
      "  File \"/hpc/mydata/saugat.kandel/sam2_projects/.pixi/envs/default/lib/python3.12/site-packages/torch/utils/_contextlib.py\", line 116, in decorate_context\n",
      "    return func(*args, **kwargs)\n",
      "           ^^^^^^^^^^^^^^^^^^^^^\n",
      "  File \"/hpc/mydata/saugat.kandel/sam2_projects/segment-anything-2/sam2/automatic_mask_generator.py\", line 202, in generate\n",
      "    mask_data = self._generate_masks(image)\n",
      "                ^^^^^^^^^^^^^^^^^^^^^^^^^^^\n",
      "  File \"/hpc/mydata/saugat.kandel/sam2_projects/segment-anything-2/sam2/automatic_mask_generator.py\", line 245, in _generate_masks\n",
      "    scores = 1 / box_area(data[\"crop_boxes\"])\n",
      "                 ^^^^^^^^^^^^^^^^^^^^^^^^^^^^\n",
      "  File \"/hpc/mydata/saugat.kandel/sam2_projects/.pixi/envs/default/lib/python3.12/site-packages/torchvision/ops/boxes.py\", line 251, in box_area\n",
      "    return (boxes[:, 2] - boxes[:, 0]) * (boxes[:, 3] - boxes[:, 1])\n",
      "            ~~~~~^^^^^^\n",
      "IndexError: too many indices for tensor of dimension 1\n",
      "Process Process-427:\n",
      "Traceback (most recent call last):\n",
      "  File \"/hpc/mydata/saugat.kandel/sam2_projects/.pixi/envs/default/lib/python3.12/site-packages/multiprocess/process.py\", line 314, in _bootstrap\n",
      "    self.run()\n",
      "  File \"/hpc/mydata/saugat.kandel/sam2_projects/.pixi/envs/default/lib/python3.12/site-packages/multiprocess/process.py\", line 108, in run\n",
      "    self._target(*self._args, **self._kwargs)\n",
      "  File \"/tmp/ipykernel_1701885/244904649.py\", line 105, in run_in_separate_process\n",
      "  File \"/hpc/mydata/saugat.kandel/sam2_projects/.pixi/envs/default/lib/python3.12/site-packages/torch/utils/_contextlib.py\", line 116, in decorate_context\n",
      "    return func(*args, **kwargs)\n",
      "           ^^^^^^^^^^^^^^^^^^^^^\n",
      "  File \"/hpc/mydata/saugat.kandel/sam2_projects/segment-anything-2/sam2/automatic_mask_generator.py\", line 202, in generate\n",
      "    mask_data = self._generate_masks(image)\n",
      "                ^^^^^^^^^^^^^^^^^^^^^^^^^^^\n",
      "  File \"/hpc/mydata/saugat.kandel/sam2_projects/segment-anything-2/sam2/automatic_mask_generator.py\", line 245, in _generate_masks\n",
      "    scores = 1 / box_area(data[\"crop_boxes\"])\n",
      "                 ^^^^^^^^^^^^^^^^^^^^^^^^^^^^\n",
      "  File \"/hpc/mydata/saugat.kandel/sam2_projects/.pixi/envs/default/lib/python3.12/site-packages/torchvision/ops/boxes.py\", line 251, in box_area\n",
      "    return (boxes[:, 2] - boxes[:, 0]) * (boxes[:, 3] - boxes[:, 1])\n",
      "            ~~~~~^^^^^^\n",
      "IndexError: too many indices for tensor of dimension 1\n"
     ]
    },
    {
     "name": "stdout",
     "output_type": "stream",
     "text": [
      "Using device:  1\n",
      "using device: cuda\n",
      "Getting denoised Tomogram with 10 A voxel size for the associated runID: Position_45_4_Vol\n",
      "Preprocessing the volume for Position_45_4_Vol\n",
      "Running automatic segmentation for projection\n",
      "Using device:  0\n",
      "using device: cuda\n",
      "Getting denoised Tomogram with 10 A voxel size for the associated runID: Position_45_3_Vol\n",
      "Preprocessing the volume for Position_45_3_Vol\n",
      "Running automatic segmentation for projection\n"
     ]
    },
    {
     "name": "stderr",
     "output_type": "stream",
     "text": [
      "  3%|▎         | 6/186 [00:00<00:03, 59.59it/s]"
     ]
    },
    {
     "name": "stdout",
     "output_type": "stream",
     "text": [
      "Using device:  3\n",
      "using device: cuda\n",
      "Getting denoised Tomogram with 10 A voxel size for the associated runID: Position_45_6_Vol\n",
      "Preprocessing the volume for Position_45_6_Vol\n",
      "Running automatic segmentation for projection\n",
      "Saving the masks\n",
      "Running automatic segmentation for volume\n"
     ]
    },
    {
     "name": "stderr",
     "output_type": "stream",
     "text": [
      "100%|██████████| 186/186 [00:03<00:00, 59.67it/s]\n",
      "propagate in video: 100%|██████████| 93/93 [00:03<00:00, 28.06it/s]\n",
      "propagate in video: 100%|██████████| 94/94 [00:03<00:00, 29.77it/s]\n"
     ]
    },
    {
     "name": "stdout",
     "output_type": "stream",
     "text": [
      "Saving the masks and the volume\n"
     ]
    },
    {
     "name": "stderr",
     "output_type": "stream",
     "text": [
      "Process Process-431:\n",
      "Traceback (most recent call last):\n",
      "  File \"/hpc/mydata/saugat.kandel/sam2_projects/.pixi/envs/default/lib/python3.12/site-packages/multiprocess/process.py\", line 314, in _bootstrap\n",
      "    self.run()\n",
      "  File \"/hpc/mydata/saugat.kandel/sam2_projects/.pixi/envs/default/lib/python3.12/site-packages/multiprocess/process.py\", line 108, in run\n",
      "    self._target(*self._args, **self._kwargs)\n",
      "  File \"/tmp/ipykernel_1701885/244904649.py\", line 105, in run_in_separate_process\n",
      "  File \"/hpc/mydata/saugat.kandel/sam2_projects/.pixi/envs/default/lib/python3.12/site-packages/torch/utils/_contextlib.py\", line 116, in decorate_context\n",
      "    return func(*args, **kwargs)\n",
      "           ^^^^^^^^^^^^^^^^^^^^^\n",
      "  File \"/hpc/mydata/saugat.kandel/sam2_projects/segment-anything-2/sam2/automatic_mask_generator.py\", line 202, in generate\n",
      "    mask_data = self._generate_masks(image)\n",
      "                ^^^^^^^^^^^^^^^^^^^^^^^^^^^\n",
      "  File \"/hpc/mydata/saugat.kandel/sam2_projects/segment-anything-2/sam2/automatic_mask_generator.py\", line 245, in _generate_masks\n",
      "    scores = 1 / box_area(data[\"crop_boxes\"])\n",
      "                 ^^^^^^^^^^^^^^^^^^^^^^^^^^^^\n",
      "  File \"/hpc/mydata/saugat.kandel/sam2_projects/.pixi/envs/default/lib/python3.12/site-packages/torchvision/ops/boxes.py\", line 251, in box_area\n",
      "    return (boxes[:, 2] - boxes[:, 0]) * (boxes[:, 3] - boxes[:, 1])\n",
      "            ~~~~~^^^^^^\n",
      "IndexError: too many indices for tensor of dimension 1\n"
     ]
    },
    {
     "name": "stdout",
     "output_type": "stream",
     "text": [
      "Using device:  0\n",
      "using device: cuda\n",
      "Getting denoised Tomogram with 10 A voxel size for the associated runID: Position_45_7_Vol\n",
      "Preprocessing the volume for Position_45_7_Vol\n",
      "Running automatic segmentation for projection\n",
      "Using device:  3\n",
      "using device: cuda\n",
      "Getting denoised Tomogram with 10 A voxel size for the associated runID: Position_46_3_Vol\n",
      "Preprocessing the volume for Position_46_3_Vol\n",
      "Running automatic segmentation for projection\n",
      "Saving the masks\n",
      "Running automatic segmentation for volume\n",
      "Using device:  2\n",
      "using device: cuda\n",
      "Getting denoised Tomogram with 10 A voxel size for the associated runID: Position_46_2_Vol\n",
      "Preprocessing the volume for Position_46_2_Vol\n",
      "Running automatic segmentation for projection\n",
      "Saving the masks\n",
      "Running automatic segmentation for volume\n"
     ]
    },
    {
     "name": "stderr",
     "output_type": "stream",
     "text": [
      " 15%|█▍        | 27/186 [00:00<00:03, 44.09it/s]"
     ]
    },
    {
     "name": "stdout",
     "output_type": "stream",
     "text": [
      "Using device:  1\n",
      "using device: cuda\n",
      "Getting denoised Tomogram with 10 A voxel size for the associated runID: Position_45_Vol\n",
      "Preprocessing the volume for Position_45_Vol\n",
      "Running automatic segmentation for projection\n",
      "Saving the masks\n",
      "Running automatic segmentation for volume\n"
     ]
    },
    {
     "name": "stderr",
     "output_type": "stream",
     "text": [
      "100%|██████████| 186/186 [00:07<00:00, 25.93it/s]\n",
      "100%|██████████| 186/186 [00:07<00:00, 26.00it/s]\n",
      "100%|██████████| 186/186 [00:08<00:00, 21.92it/s]<00:01, 38.52it/s]\n",
      "propagate in video: 100%|██████████| 93/93 [00:02<00:00, 38.28it/s]\n",
      "propagate in video: 100%|██████████| 93/93 [00:03<00:00, 29.42it/s]\n",
      "propagate in video: 100%|██████████| 94/94 [00:02<00:00, 43.02it/s]\n",
      "propagate in video:  49%|████▉     | 46/94 [00:01<00:01, 31.27it/s]"
     ]
    },
    {
     "name": "stdout",
     "output_type": "stream",
     "text": [
      "Saving the masks and the volume\n"
     ]
    },
    {
     "name": "stderr",
     "output_type": "stream",
     "text": [
      "propagate in video: 100%|██████████| 93/93 [00:03<00:00, 23.81it/s]\n",
      "propagate in video: 100%|██████████| 94/94 [00:03<00:00, 31.06it/s]\n",
      "propagate in video:  21%|██▏       | 20/94 [00:00<00:03, 24.28it/s]"
     ]
    },
    {
     "name": "stdout",
     "output_type": "stream",
     "text": [
      "Saving the masks and the volume\n"
     ]
    },
    {
     "name": "stderr",
     "output_type": "stream",
     "text": [
      "propagate in video: 100%|██████████| 94/94 [00:03<00:00, 23.76it/s]\n"
     ]
    },
    {
     "name": "stdout",
     "output_type": "stream",
     "text": [
      "Saving the masks and the volume\n",
      "Using device:  1\n",
      "using device: cuda\n",
      "Getting denoised Tomogram with 10 A voxel size for the associated runID: Position_46_Vol\n",
      "Preprocessing the volume for Position_46_Vol\n",
      "Running automatic segmentation for projection\n",
      "Saving the masks\n",
      "Running automatic segmentation for volume\n"
     ]
    },
    {
     "name": "stderr",
     "output_type": "stream",
     "text": [
      " 15%|█▌        | 28/186 [00:00<00:02, 54.67it/s]Process Process-438:\n",
      "Traceback (most recent call last):\n",
      "  File \"/hpc/mydata/saugat.kandel/sam2_projects/.pixi/envs/default/lib/python3.12/site-packages/multiprocess/process.py\", line 314, in _bootstrap\n",
      "    self.run()\n",
      "  File \"/hpc/mydata/saugat.kandel/sam2_projects/.pixi/envs/default/lib/python3.12/site-packages/multiprocess/process.py\", line 108, in run\n",
      "    self._target(*self._args, **self._kwargs)\n",
      "  File \"/tmp/ipykernel_1701885/244904649.py\", line 105, in run_in_separate_process\n",
      "  File \"/hpc/mydata/saugat.kandel/sam2_projects/.pixi/envs/default/lib/python3.12/site-packages/torch/utils/_contextlib.py\", line 116, in decorate_context\n",
      "    return func(*args, **kwargs)\n",
      "           ^^^^^^^^^^^^^^^^^^^^^\n",
      "  File \"/hpc/mydata/saugat.kandel/sam2_projects/segment-anything-2/sam2/automatic_mask_generator.py\", line 202, in generate\n",
      "    mask_data = self._generate_masks(image)\n",
      "                ^^^^^^^^^^^^^^^^^^^^^^^^^^^\n",
      "  File \"/hpc/mydata/saugat.kandel/sam2_projects/segment-anything-2/sam2/automatic_mask_generator.py\", line 245, in _generate_masks\n",
      "    scores = 1 / box_area(data[\"crop_boxes\"])\n",
      "                 ^^^^^^^^^^^^^^^^^^^^^^^^^^^^\n",
      "  File \"/hpc/mydata/saugat.kandel/sam2_projects/.pixi/envs/default/lib/python3.12/site-packages/torchvision/ops/boxes.py\", line 251, in box_area\n",
      "    return (boxes[:, 2] - boxes[:, 0]) * (boxes[:, 3] - boxes[:, 1])\n",
      "            ~~~~~^^^^^^\n",
      "IndexError: too many indices for tensor of dimension 1\n",
      " 19%|█▉        | 35/186 [00:00<00:02, 56.96it/s]"
     ]
    },
    {
     "name": "stdout",
     "output_type": "stream",
     "text": [
      "Using device:  3\n",
      "using device: cuda\n",
      "Getting denoised Tomogram with 10 A voxel size for the associated runID: Position_47_Vol\n",
      "Preprocessing the volume for Position_47_Vol\n",
      "Running automatic segmentation for projection\n"
     ]
    },
    {
     "name": "stderr",
     "output_type": "stream",
     "text": [
      "  0%|          | 0/186 [00:00<?, ?it/s]60.82it/s]"
     ]
    },
    {
     "name": "stdout",
     "output_type": "stream",
     "text": [
      "Using device:  2\n",
      "using device: cuda\n",
      "Getting denoised Tomogram with 10 A voxel size for the associated runID: Position_47_2_Vol\n",
      "Preprocessing the volume for Position_47_2_Vol\n",
      "Running automatic segmentation for projection\n",
      "Saving the masks\n",
      "Running automatic segmentation for volume\n"
     ]
    },
    {
     "name": "stderr",
     "output_type": "stream",
     "text": [
      "100%|██████████| 186/186 [00:03<00:00, 57.19it/s]\n",
      " 15%|█▌        | 28/186 [00:00<00:03, 40.23it/s]0<00:01, 43.66it/s]"
     ]
    },
    {
     "name": "stdout",
     "output_type": "stream",
     "text": [
      "Using device:  0\n",
      "using device: cuda\n",
      "Getting denoised Tomogram with 10 A voxel size for the associated runID: Position_46_4_Vol\n",
      "Preprocessing the volume for Position_46_4_Vol\n",
      "Running automatic segmentation for projection\n",
      "Saving the masks\n",
      "Running automatic segmentation for volume\n"
     ]
    },
    {
     "name": "stderr",
     "output_type": "stream",
     "text": [
      "propagate in video: 100%|██████████| 93/93 [00:02<00:00, 42.69it/s]\n",
      "100%|██████████| 186/186 [00:03<00:00, 59.09it/s]<00:01, 42.91it/s]\n",
      "propagate in video: 100%|██████████| 94/94 [00:02<00:00, 43.02it/s]\n",
      " 94%|█████████▍| 175/186 [00:05<00:00, 58.44it/s]<00:01, 41.01it/s]"
     ]
    },
    {
     "name": "stdout",
     "output_type": "stream",
     "text": [
      "Saving the masks and the volume\n"
     ]
    },
    {
     "name": "stderr",
     "output_type": "stream",
     "text": [
      "100%|██████████| 186/186 [00:05<00:00, 33.33it/s]<00:01, 41.27it/s]\n",
      "propagate in video: 100%|██████████| 93/93 [00:02<00:00, 39.75it/s]\n",
      "propagate in video: 100%|██████████| 94/94 [00:02<00:00, 42.86it/s]\n",
      "propagate in video: 100%|██████████| 93/93 [00:03<00:00, 30.95it/s]\n"
     ]
    },
    {
     "name": "stdout",
     "output_type": "stream",
     "text": [
      "Saving the masks and the volume\n"
     ]
    },
    {
     "name": "stderr",
     "output_type": "stream",
     "text": [
      "propagate in video: 100%|██████████| 94/94 [00:02<00:00, 31.67it/s]\n"
     ]
    },
    {
     "name": "stdout",
     "output_type": "stream",
     "text": [
      "Saving the masks and the volume\n"
     ]
    }
   ],
   "source": [
    "out_dir = Path(\"cryosam_daniel_study20_outputs\")\n",
    "\n",
    "n_run_ids = len(run_ids)\n",
    "n_procs = 4\n",
    "for _iz in range(0, n_run_ids, n_procs):\n",
    "    processes = []\n",
    "    for _in in range(n_procs):\n",
    "        _iz_this = _iz + _in\n",
    "        if _iz_this >= n_run_ids:\n",
    "            break\n",
    "        run_id = run_ids[_iz_this]\n",
    "        # run_id = runs_with_lysosomes[_iz_this].name\n",
    "        p = mp.Process(\n",
    "            target=run_in_separate_process,\n",
    "            args=(run_id, out_dir, _in),\n",
    "        )\n",
    "        processes.append(p)\n",
    "    for p in processes:\n",
    "        p.start()\n",
    "\n",
    "    for p in processes:\n",
    "        p.join()\n",
    "\n",
    "    for p in processes:\n",
    "        p.close()"
   ]
  },
  {
   "cell_type": "code",
   "execution_count": null,
   "metadata": {},
   "outputs": [],
   "source": []
  }
 ],
 "metadata": {
  "kernelspec": {
   "display_name": "Python SAM2",
   "language": "python",
   "name": "sam2env"
  },
  "language_info": {
   "codemirror_mode": {
    "name": "ipython",
    "version": 3
   },
   "file_extension": ".py",
   "mimetype": "text/x-python",
   "name": "python",
   "nbconvert_exporter": "python",
   "pygments_lexer": "ipython3",
   "version": "3.12.7"
  }
 },
 "nbformat": 4,
 "nbformat_minor": 2
}
