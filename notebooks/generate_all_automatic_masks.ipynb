{
 "cells": [
  {
   "cell_type": "code",
   "execution_count": 1,
   "metadata": {},
   "outputs": [],
   "source": [
    "%load_ext autoreload\n",
    "%autoreload 2"
   ]
  },
  {
   "cell_type": "code",
   "execution_count": 2,
   "metadata": {},
   "outputs": [],
   "source": [
    "from pathlib import Path\n",
    "import os\n",
    "\n",
    "_current_fname = Path(locals()[\"__vsc_ipynb_file__\"])\n",
    "os.chdir(_current_fname.parent)"
   ]
  },
  {
   "cell_type": "code",
   "execution_count": 3,
   "metadata": {},
   "outputs": [],
   "source": [
    "import multiprocess as mp\n",
    "\n",
    "mp.set_start_method(\"spawn\")\n"
   ]
  },
  {
   "cell_type": "code",
   "execution_count": 4,
   "metadata": {},
   "outputs": [],
   "source": [
    "def run_in_separate_process(\n",
    "    run_id,\n",
    "    device=0,\n",
    "    min_mask_area=2000,\n",
    "):\n",
    "    print(\"Using device: \", device)\n",
    "    import os\n",
    "\n",
    "    os.environ[\"CUDA_VISIBLE_DEVICES\"] = str(device)\n",
    "    from pathlib import Path\n",
    "\n",
    "    import copick\n",
    "    import joblib\n",
    "    import my_sam2_utils as utils\n",
    "    import numpy as np\n",
    "    import skimage\n",
    "    import torch\n",
    "\n",
    "    # use bfloat16 for the entire notebook.\n",
    "    torch.autocast(device_type=\"cuda\", dtype=torch.bfloat16).__enter__()\n",
    "\n",
    "    if torch.cuda.get_device_properties(0).major >= 8:\n",
    "        # turn on tfloat32 for Ampere GPUs (https://pytorch.org/docs/stable/notes/cuda.html#tensorfloat-32-tf32-on-ampere-devices)\n",
    "        torch.backends.cuda.matmul.allow_tf32 = True\n",
    "        torch.backends.cudnn.allow_tf32 = True\n",
    "\n",
    "    # select the device for computation\n",
    "    if torch.cuda.is_available():\n",
    "        device = torch.device(\"cuda\")\n",
    "    elif torch.backends.mps.is_available():\n",
    "        device = torch.device(\"mps\")\n",
    "    else:\n",
    "        device = torch.device(\"cpu\")\n",
    "    print(f\"using device: {device}\")\n",
    "\n",
    "    # use bfloat16 for the entire notebook\n",
    "    torch.autocast(\"cuda\", dtype=torch.bfloat16).__enter__()\n",
    "    # turn on tfloat32 for Ampere GPUs (https://pytorch.org/docs/stable/notes/cuda.html#tensorfloat-32-tf32-on-ampere-devices)\n",
    "    if torch.cuda.get_device_properties(0).major >= 8:\n",
    "        torch.backends.cuda.matmul.allow_tf32 = True\n",
    "        torch.backends.cudnn.allow_tf32 = True\n",
    "\n",
    "    from sam2.automatic_mask_generator import SAM2AutomaticMaskGenerator\n",
    "    from sam2.build_sam import build_sam2, build_sam2_tomogram_predictor\n",
    "\n",
    "    copick_config = (\n",
    "        \"/hpc/projects/group.czii/krios1.processing/copick/24jul29c/run002/copick_config.json\"\n",
    "    )\n",
    "\n",
    "    # Open Copick Project and Query All Available Runs\n",
    "    root = copick.from_file(copick_config)\n",
    "    run = root.get_run(run_id)\n",
    "    vol = utils.get_tomogram(run)\n",
    "\n",
    "    print(f\"Preprocessing the volume for {run_id}\")\n",
    "\n",
    "    vol_normed = vol.copy()\n",
    "    vol_normed = (vol - vol.min()) / (vol.max() - vol.min())\n",
    "    vol_normed = vol_normed * 2 - 1\n",
    "\n",
    "    zSlice = 90  # int(points.mean(axis=0)[0])\n",
    "    deltaZ = 50  # int((np.max(points[:, 0]) - np.min(points[:, 0]))) * 2\n",
    "\n",
    "    min_mask_area = 2000\n",
    "\n",
    "    #\n",
    "    image = utils.project_tomogram(vol_normed, zSlice, deltaZ)\n",
    "\n",
    "    # Extend From Grayscale to RGB\n",
    "    image = np.repeat(image[..., None], 3, axis=2)\n",
    "\n",
    "    sam2_checkpoint = (\n",
    "        \"/hpc/mydata/saugat.kandel/sam2_projects/segment-anything-2/checkpoints/sam2_hiera_large.pt\"\n",
    "    )\n",
    "    model_cfg = \"sam2_hiera_l.yaml\"\n",
    "\n",
    "    sam2 = build_sam2(model_cfg, sam2_checkpoint, device=device, apply_postprocessing=False)\n",
    "    # mask_generator = SAM2AutomaticMaskGenerator(sam2)\n",
    "    mask_generator = SAM2AutomaticMaskGenerator(\n",
    "        model=sam2,\n",
    "        points_per_side=32,\n",
    "        points_per_batch=64,\n",
    "        pred_iou_thresh=0.7,\n",
    "        stability_score_thresh=0.92,\n",
    "        stability_score_offset=0.7,\n",
    "        crop_n_layers=1,\n",
    "        box_nms_thresh=0.7,\n",
    "        crop_n_points_downscale_factor=2,\n",
    "        min_mask_region_area=2000,\n",
    "        use_m2m=True,\n",
    "    )\n",
    "\n",
    "    print(\"Running automatic segmentation for projection\")\n",
    "    masks = mask_generator.generate(image)\n",
    "\n",
    "    # Filter masks based on the area key\n",
    "    masks = [mask for mask in masks if mask[\"area\"] >= min_mask_area]\n",
    "\n",
    "    print(\"Saving teh masks\")\n",
    "    out_dir = Path(\"cryosam_outputs\")\n",
    "    out_dir.mkdir(exist_ok=True)\n",
    "    joblib.dump(masks, out_dir / f\"auto_masks_{run_id}.pkl\")\n",
    "\n",
    "    print(\"Running automatic segmentation for volume\")\n",
    "    predictor = build_sam2_tomogram_predictor(model_cfg, sam2_checkpoint, device=device)\n",
    "\n",
    "    inference_state = predictor.init_state(vol_normed)\n",
    "    predictor.reset_state(inference_state)\n",
    "\n",
    "    ann_frame_idx = zSlice\n",
    "\n",
    "    for ii in range(len(masks)):\n",
    "        # sam_points = (auto_points[ii, :] * scale).reshape(1, 2)\n",
    "        ann_obj_id = ii + 1\n",
    "\n",
    "        _, out_obj_ids, out_mask_logits = predictor.add_new_mask(\n",
    "            inference_state=inference_state,\n",
    "            frame_idx=ann_frame_idx,\n",
    "            obj_id=ann_obj_id,\n",
    "            mask=masks[ii][\"segmentation\"],\n",
    "        )\n",
    "\n",
    "    video_segments = {}\n",
    "    for out_frame_idx, out_obj_ids, out_mask_logits in predictor.propagate_in_video(\n",
    "        inference_state, start_frame_idx=90, reverse=False\n",
    "    ):\n",
    "        video_segments[out_frame_idx] = {\n",
    "            out_obj_id: (out_mask_logits[i] > 0.0).cpu().numpy()\n",
    "            for i, out_obj_id in enumerate(out_obj_ids)\n",
    "        }\n",
    "\n",
    "        # Pull out Masks for Multiple Classes\n",
    "    nMasks = len(video_segments[90])\n",
    "    vol_mask = np.zeros([vol.shape[0], vol.shape[1], vol.shape[2]], dtype=np.uint8)\n",
    "    for out_frame_idx in list(video_segments):\n",
    "        for jj in range(nMasks):\n",
    "            resized_mask = skimage.transform.resize(\n",
    "                video_segments[out_frame_idx][jj + 1][0,],\n",
    "                (vol.shape[1], vol.shape[2]),\n",
    "                anti_aliasing=False,\n",
    "            )\n",
    "            mask_update = resized_mask > 0\n",
    "            vol_mask[out_frame_idx, :, :][mask_update] = jj\n",
    "\n",
    "    # run propagation throughout the video and collect the results in a dict\n",
    "    video_segments = {}  # video_segments contains the per-frame segmentation results\n",
    "    for out_frame_idx, out_obj_ids, out_mask_logits in predictor.propagate_in_video(\n",
    "        inference_state, start_frame_idx=90, reverse=True\n",
    "    ):\n",
    "        video_segments[out_frame_idx] = {\n",
    "            out_obj_id: (out_mask_logits[i] > 0.0).cpu().numpy()\n",
    "            for i, out_obj_id in enumerate(out_obj_ids)\n",
    "        }\n",
    "\n",
    "    # Pull out Masks for Multiple Classes\n",
    "    for out_frame_idx in list(video_segments):\n",
    "        for jj in range(nMasks):\n",
    "            resized_mask = skimage.transform.resize(\n",
    "                video_segments[out_frame_idx][jj + 1][0,],\n",
    "                (vol.shape[1], vol.shape[2]),\n",
    "                anti_aliasing=False,\n",
    "            )\n",
    "            mask_update = resized_mask > 0\n",
    "            vol_mask[out_frame_idx, :, :][mask_update] = jj\n",
    "\n",
    "    # Save the mask and the volume\n",
    "    print(\"Saving the masks and the volume\")\n",
    "\n",
    "    joblib.dump(vol_mask, out_dir / f\"vol_mask_{run_id}.pkl\")"
   ]
  },
  {
   "cell_type": "code",
   "execution_count": 5,
   "metadata": {},
   "outputs": [],
   "source": [
    "import copick"
   ]
  },
  {
   "cell_type": "code",
   "execution_count": 6,
   "metadata": {},
   "outputs": [],
   "source": [
    "copick_config = (\n",
    "    \"/hpc/projects/group.czii/krios1.processing/copick/24jul29c/run002/copick_config.json\"\n",
    ")\n",
    "\n",
    "# Open Copick Project and Query All Available Runs\n",
    "root = copick.from_file(copick_config)\n",
    "run_ids = [run.name for run in root.runs]"
   ]
  },
  {
   "cell_type": "code",
   "execution_count": 7,
   "metadata": {},
   "outputs": [
    {
     "name": "stderr",
     "output_type": "stream",
     "text": [
      "/hpc/mydata/saugat.kandel/sam2_projects/segment-anything-2/sam2/sam2_image_predictor.py:431: UserWarning: CUDA error: no kernel image is available for execution on the device\n",
      "CUDA kernel errors might be asynchronously reported at some other API call, so the stacktrace below might be incorrect.\n",
      "For debugging consider passing CUDA_LAUNCH_BLOCKING=1\n",
      "Compile with `TORCH_USE_CUDA_DSA` to enable device-side assertions.\n",
      "\n",
      "\n",
      "Skipping the post-processing step due to the error above. You can still use SAM 2 and it's OK to ignore the error above, although some post-processing functionality may be limited (which doesn't affect the results in most cases; see https://github.com/facebookresearch/segment-anything-2/blob/main/INSTALL.md).\n",
      "  masks = self._transforms.postprocess_masks(\n",
      "/hpc/mydata/saugat.kandel/sam2_projects/segment-anything-2/sam2/sam2_image_predictor.py:431: UserWarning: CUDA error: no kernel image is available for execution on the device\n",
      "CUDA kernel errors might be asynchronously reported at some other API call, so the stacktrace below might be incorrect.\n",
      "For debugging consider passing CUDA_LAUNCH_BLOCKING=1\n",
      "Compile with `TORCH_USE_CUDA_DSA` to enable device-side assertions.\n",
      "\n",
      "\n",
      "Skipping the post-processing step due to the error above. You can still use SAM 2 and it's OK to ignore the error above, although some post-processing functionality may be limited (which doesn't affect the results in most cases; see https://github.com/facebookresearch/segment-anything-2/blob/main/INSTALL.md).\n",
      "  masks = self._transforms.postprocess_masks(\n"
     ]
    },
    {
     "name": "stdout",
     "output_type": "stream",
     "text": [
      "Using device:  1\n",
      "using device: cuda\n",
      "Getting denoised Tomogram with 10 A voxel size for the associated runID: Position_10_3_Vol\n",
      "Preprocessing the volume for Position_10_3_Vol\n",
      "Running automatic segmentation for projection\n",
      "Saving teh masks\n",
      "Running automatic segmentation for volume\n"
     ]
    },
    {
     "name": "stderr",
     "output_type": "stream",
     "text": [
      " 40%|███▉      | 74/186 [00:02<00:04, 26.70it/s]"
     ]
    },
    {
     "name": "stdout",
     "output_type": "stream",
     "text": [
      "Using device:  0\n",
      "using device: cuda\n",
      "Getting denoised Tomogram with 10 A voxel size for the associated runID: Position_10_2_Vol\n",
      "Preprocessing the volume for Position_10_2_Vol\n",
      "Running automatic segmentation for projection\n",
      "Saving teh masks\n",
      "Running automatic segmentation for volume\n"
     ]
    },
    {
     "name": "stderr",
     "output_type": "stream",
     "text": [
      "100%|██████████| 186/186 [00:08<00:00, 21.56it/s]\n",
      " 74%|███████▍  | 138/186 [00:06<00:02, 23.41it/s]Process Process-2:\n",
      "Traceback (most recent call last):\n",
      "  File \"/hpc/mydata/saugat.kandel/sam2_projects/.pixi/envs/default/lib/python3.12/site-packages/multiprocess/process.py\", line 314, in _bootstrap\n",
      "    self.run()\n",
      "  File \"/hpc/mydata/saugat.kandel/sam2_projects/.pixi/envs/default/lib/python3.12/site-packages/multiprocess/process.py\", line 108, in run\n",
      "    self._target(*self._args, **self._kwargs)\n",
      "  File \"/tmp/ipykernel_1757791/372138728.py\", line 124, in run_in_separate_process\n",
      "  File \"/hpc/mydata/saugat.kandel/sam2_projects/.pixi/envs/default/lib/python3.12/site-packages/torch/utils/_contextlib.py\", line 36, in generator_context\n",
      "    response = gen.send(None)\n",
      "               ^^^^^^^^^^^^^^\n",
      "  File \"/hpc/mydata/saugat.kandel/sam2_projects/segment-anything-2/sam2/sam2_tomogram_predictor.py\", line 718, in propagate_in_video\n",
      "    raise RuntimeError(\"No points are provided; please add points first\")\n",
      "RuntimeError: No points are provided; please add points first\n",
      "100%|██████████| 186/186 [00:07<00:00, 24.32it/s]\n",
      "/hpc/mydata/saugat.kandel/sam2_projects/segment-anything-2/sam2/sam2_tomogram_predictor.py:928: UserWarning: CUDA error: no kernel image is available for execution on the device\n",
      "CUDA kernel errors might be asynchronously reported at some other API call, so the stacktrace below might be incorrect.\n",
      "For debugging consider passing CUDA_LAUNCH_BLOCKING=1\n",
      "Compile with `TORCH_USE_CUDA_DSA` to enable device-side assertions.\n",
      "\n",
      "\n",
      "Skipping the post-processing step due to the error above. You can still use SAM 2 and it's OK to ignore the error above, although some post-processing functionality may be limited (which doesn't affect the results in most cases; see https://github.com/facebookresearch/segment-anything-2/blob/main/INSTALL.md).\n",
      "  pred_masks_gpu = fill_holes_in_mask_scores(\n",
      "propagate in video: 100%|██████████| 96/96 [00:04<00:00, 21.70it/s]\n",
      "propagate in video: 100%|██████████| 91/91 [00:04<00:00, 21.26it/s]\n"
     ]
    },
    {
     "name": "stdout",
     "output_type": "stream",
     "text": [
      "Saving the masks and the volume\n"
     ]
    },
    {
     "name": "stderr",
     "output_type": "stream",
     "text": [
      "/hpc/mydata/saugat.kandel/sam2_projects/segment-anything-2/sam2/sam2_image_predictor.py:431: UserWarning: CUDA error: no kernel image is available for execution on the device\n",
      "CUDA kernel errors might be asynchronously reported at some other API call, so the stacktrace below might be incorrect.\n",
      "For debugging consider passing CUDA_LAUNCH_BLOCKING=1\n",
      "Compile with `TORCH_USE_CUDA_DSA` to enable device-side assertions.\n",
      "\n",
      "\n",
      "Skipping the post-processing step due to the error above. You can still use SAM 2 and it's OK to ignore the error above, although some post-processing functionality may be limited (which doesn't affect the results in most cases; see https://github.com/facebookresearch/segment-anything-2/blob/main/INSTALL.md).\n",
      "  masks = self._transforms.postprocess_masks(\n",
      "/hpc/mydata/saugat.kandel/sam2_projects/segment-anything-2/sam2/sam2_image_predictor.py:431: UserWarning: CUDA error: no kernel image is available for execution on the device\n",
      "CUDA kernel errors might be asynchronously reported at some other API call, so the stacktrace below might be incorrect.\n",
      "For debugging consider passing CUDA_LAUNCH_BLOCKING=1\n",
      "Compile with `TORCH_USE_CUDA_DSA` to enable device-side assertions.\n",
      "\n",
      "\n",
      "Skipping the post-processing step due to the error above. You can still use SAM 2 and it's OK to ignore the error above, although some post-processing functionality may be limited (which doesn't affect the results in most cases; see https://github.com/facebookresearch/segment-anything-2/blob/main/INSTALL.md).\n",
      "  masks = self._transforms.postprocess_masks(\n",
      "  2%|▏         | 3/186 [00:00<00:08, 21.58it/s]"
     ]
    },
    {
     "name": "stdout",
     "output_type": "stream",
     "text": [
      "Using device:  0\n",
      "using device: cuda\n",
      "Getting denoised Tomogram with 10 A voxel size for the associated runID: Position_10_Vol\n",
      "Preprocessing the volume for Position_10_Vol\n",
      "Running automatic segmentation for projection\n",
      "Saving teh masks\n",
      "Running automatic segmentation for volume\n"
     ]
    },
    {
     "name": "stderr",
     "output_type": "stream",
     "text": [
      "  1%|          | 1/186 [00:00<00:32,  5.74it/s]]"
     ]
    },
    {
     "name": "stdout",
     "output_type": "stream",
     "text": [
      "Using device:  1\n",
      "using device: cuda\n",
      "Getting denoised Tomogram with 10 A voxel size for the associated runID: Position_11_2_Vol\n",
      "Preprocessing the volume for Position_11_2_Vol\n",
      "Running automatic segmentation for projection\n",
      "Saving teh masks\n",
      "Running automatic segmentation for volume\n"
     ]
    },
    {
     "name": "stderr",
     "output_type": "stream",
     "text": [
      "100%|██████████| 186/186 [00:09<00:00, 19.16it/s]\n",
      " 81%|████████  | 151/186 [00:09<00:01, 23.21it/s]/hpc/mydata/saugat.kandel/sam2_projects/segment-anything-2/sam2/sam2_tomogram_predictor.py:928: UserWarning: CUDA error: no kernel image is available for execution on the device\n",
      "CUDA kernel errors might be asynchronously reported at some other API call, so the stacktrace below might be incorrect.\n",
      "For debugging consider passing CUDA_LAUNCH_BLOCKING=1\n",
      "Compile with `TORCH_USE_CUDA_DSA` to enable device-side assertions.\n",
      "\n",
      "\n",
      "Skipping the post-processing step due to the error above. You can still use SAM 2 and it's OK to ignore the error above, although some post-processing functionality may be limited (which doesn't affect the results in most cases; see https://github.com/facebookresearch/segment-anything-2/blob/main/INSTALL.md).\n",
      "  pred_masks_gpu = fill_holes_in_mask_scores(\n",
      "100%|██████████| 186/186 [00:10<00:00, 17.46it/s]<00:03, 22.06it/s]\n",
      "propagate in video:  29%|██▉       | 28/96 [00:01<00:04, 16.98it/s]/hpc/mydata/saugat.kandel/sam2_projects/segment-anything-2/sam2/sam2_tomogram_predictor.py:928: UserWarning: CUDA error: no kernel image is available for execution on the device\n",
      "CUDA kernel errors might be asynchronously reported at some other API call, so the stacktrace below might be incorrect.\n",
      "For debugging consider passing CUDA_LAUNCH_BLOCKING=1\n",
      "Compile with `TORCH_USE_CUDA_DSA` to enable device-side assertions.\n",
      "\n",
      "\n",
      "Skipping the post-processing step due to the error above. You can still use SAM 2 and it's OK to ignore the error above, although some post-processing functionality may be limited (which doesn't affect the results in most cases; see https://github.com/facebookresearch/segment-anything-2/blob/main/INSTALL.md).\n",
      "  pred_masks_gpu = fill_holes_in_mask_scores(\n",
      "propagate in video: 100%|██████████| 96/96 [00:04<00:00, 20.88it/s]\n",
      "propagate in video: 100%|██████████| 96/96 [00:06<00:00, 14.26it/s]\n",
      "propagate in video: 100%|██████████| 91/91 [00:04<00:00, 22.38it/s]\n"
     ]
    },
    {
     "name": "stdout",
     "output_type": "stream",
     "text": [
      "Saving the masks and the volume\n"
     ]
    },
    {
     "name": "stderr",
     "output_type": "stream",
     "text": [
      "propagate in video: 100%|██████████| 91/91 [00:06<00:00, 14.37it/s]\n"
     ]
    },
    {
     "name": "stdout",
     "output_type": "stream",
     "text": [
      "Saving the masks and the volume\n"
     ]
    },
    {
     "name": "stderr",
     "output_type": "stream",
     "text": [
      "/hpc/mydata/saugat.kandel/sam2_projects/segment-anything-2/sam2/sam2_image_predictor.py:431: UserWarning: CUDA error: no kernel image is available for execution on the device\n",
      "CUDA kernel errors might be asynchronously reported at some other API call, so the stacktrace below might be incorrect.\n",
      "For debugging consider passing CUDA_LAUNCH_BLOCKING=1\n",
      "Compile with `TORCH_USE_CUDA_DSA` to enable device-side assertions.\n",
      "\n",
      "\n",
      "Skipping the post-processing step due to the error above. You can still use SAM 2 and it's OK to ignore the error above, although some post-processing functionality may be limited (which doesn't affect the results in most cases; see https://github.com/facebookresearch/segment-anything-2/blob/main/INSTALL.md).\n",
      "  masks = self._transforms.postprocess_masks(\n",
      "/hpc/mydata/saugat.kandel/sam2_projects/segment-anything-2/sam2/sam2_image_predictor.py:431: UserWarning: CUDA error: no kernel image is available for execution on the device\n",
      "CUDA kernel errors might be asynchronously reported at some other API call, so the stacktrace below might be incorrect.\n",
      "For debugging consider passing CUDA_LAUNCH_BLOCKING=1\n",
      "Compile with `TORCH_USE_CUDA_DSA` to enable device-side assertions.\n",
      "\n",
      "\n",
      "Skipping the post-processing step due to the error above. You can still use SAM 2 and it's OK to ignore the error above, although some post-processing functionality may be limited (which doesn't affect the results in most cases; see https://github.com/facebookresearch/segment-anything-2/blob/main/INSTALL.md).\n",
      "  masks = self._transforms.postprocess_masks(\n"
     ]
    },
    {
     "name": "stdout",
     "output_type": "stream",
     "text": [
      "Using device:  1\n",
      "using device: cuda\n",
      "Getting denoised Tomogram with 10 A voxel size for the associated runID: Position_11_Vol\n",
      "Preprocessing the volume for Position_11_Vol\n",
      "Running automatic segmentation for projection\n",
      "Saving teh masks\n",
      "Running automatic segmentation for volume\n"
     ]
    },
    {
     "name": "stderr",
     "output_type": "stream",
     "text": [
      " 20%|██        | 38/186 [00:01<00:08, 17.94it/s]"
     ]
    },
    {
     "name": "stdout",
     "output_type": "stream",
     "text": [
      "Using device:  0\n",
      "using device: cuda\n",
      "Getting denoised Tomogram with 10 A voxel size for the associated runID: Position_11_5_Vol\n",
      "Preprocessing the volume for Position_11_5_Vol\n",
      "Running automatic segmentation for projection\n",
      "Saving teh masks\n",
      "Running automatic segmentation for volume\n"
     ]
    },
    {
     "name": "stderr",
     "output_type": "stream",
     "text": [
      "100%|██████████| 186/186 [00:10<00:00, 18.08it/s]\n",
      " 94%|█████████▍| 175/186 [00:08<00:00, 18.45it/s]/hpc/mydata/saugat.kandel/sam2_projects/segment-anything-2/sam2/sam2_tomogram_predictor.py:928: UserWarning: CUDA error: no kernel image is available for execution on the device\n",
      "CUDA kernel errors might be asynchronously reported at some other API call, so the stacktrace below might be incorrect.\n",
      "For debugging consider passing CUDA_LAUNCH_BLOCKING=1\n",
      "Compile with `TORCH_USE_CUDA_DSA` to enable device-side assertions.\n",
      "\n",
      "\n",
      "Skipping the post-processing step due to the error above. You can still use SAM 2 and it's OK to ignore the error above, although some post-processing functionality may be limited (which doesn't affect the results in most cases; see https://github.com/facebookresearch/segment-anything-2/blob/main/INSTALL.md).\n",
      "  pred_masks_gpu = fill_holes_in_mask_scores(\n",
      "100%|██████████| 186/186 [00:09<00:00, 19.71it/s]00:05, 15.66it/s]\n",
      "propagate in video:  14%|█▎        | 13/96 [00:00<00:06, 13.39it/s]Process Process-5:\n",
      "Traceback (most recent call last):\n",
      "  File \"/hpc/mydata/saugat.kandel/sam2_projects/.pixi/envs/default/lib/python3.12/site-packages/multiprocess/process.py\", line 314, in _bootstrap\n",
      "    self.run()\n",
      "  File \"/hpc/mydata/saugat.kandel/sam2_projects/.pixi/envs/default/lib/python3.12/site-packages/multiprocess/process.py\", line 108, in run\n",
      "    self._target(*self._args, **self._kwargs)\n",
      "  File \"/tmp/ipykernel_1757791/372138728.py\", line 124, in run_in_separate_process\n",
      "  File \"/hpc/mydata/saugat.kandel/sam2_projects/.pixi/envs/default/lib/python3.12/site-packages/torch/utils/_contextlib.py\", line 36, in generator_context\n",
      "    response = gen.send(None)\n",
      "               ^^^^^^^^^^^^^^\n",
      "  File \"/hpc/mydata/saugat.kandel/sam2_projects/segment-anything-2/sam2/sam2_tomogram_predictor.py\", line 718, in propagate_in_video\n",
      "    raise RuntimeError(\"No points are provided; please add points first\")\n",
      "RuntimeError: No points are provided; please add points first\n",
      "propagate in video: 100%|██████████| 96/96 [00:05<00:00, 16.66it/s]\n",
      "propagate in video: 100%|██████████| 91/91 [00:05<00:00, 17.86it/s]\n"
     ]
    },
    {
     "name": "stdout",
     "output_type": "stream",
     "text": [
      "Saving the masks and the volume\n"
     ]
    },
    {
     "name": "stderr",
     "output_type": "stream",
     "text": [
      "/hpc/mydata/saugat.kandel/sam2_projects/segment-anything-2/sam2/sam2_image_predictor.py:431: UserWarning: CUDA error: no kernel image is available for execution on the device\n",
      "CUDA kernel errors might be asynchronously reported at some other API call, so the stacktrace below might be incorrect.\n",
      "For debugging consider passing CUDA_LAUNCH_BLOCKING=1\n",
      "Compile with `TORCH_USE_CUDA_DSA` to enable device-side assertions.\n",
      "\n",
      "\n",
      "Skipping the post-processing step due to the error above. You can still use SAM 2 and it's OK to ignore the error above, although some post-processing functionality may be limited (which doesn't affect the results in most cases; see https://github.com/facebookresearch/segment-anything-2/blob/main/INSTALL.md).\n",
      "  masks = self._transforms.postprocess_masks(\n",
      "/hpc/mydata/saugat.kandel/sam2_projects/segment-anything-2/sam2/sam2_image_predictor.py:431: UserWarning: CUDA error: no kernel image is available for execution on the device\n",
      "CUDA kernel errors might be asynchronously reported at some other API call, so the stacktrace below might be incorrect.\n",
      "For debugging consider passing CUDA_LAUNCH_BLOCKING=1\n",
      "Compile with `TORCH_USE_CUDA_DSA` to enable device-side assertions.\n",
      "\n",
      "\n",
      "Skipping the post-processing step due to the error above. You can still use SAM 2 and it's OK to ignore the error above, although some post-processing functionality may be limited (which doesn't affect the results in most cases; see https://github.com/facebookresearch/segment-anything-2/blob/main/INSTALL.md).\n",
      "  masks = self._transforms.postprocess_masks(\n"
     ]
    },
    {
     "name": "stdout",
     "output_type": "stream",
     "text": [
      "Using device:  0\n",
      "using device: cuda\n",
      "Getting denoised Tomogram with 10 A voxel size for the associated runID: Position_12_4_Vol\n",
      "Preprocessing the volume for Position_12_4_Vol\n",
      "Running automatic segmentation for projection\n",
      "Saving teh masks\n",
      "Running automatic segmentation for volume\n"
     ]
    },
    {
     "name": "stderr",
     "output_type": "stream",
     "text": [
      " 30%|███       | 56/186 [00:01<00:03, 35.73it/s]"
     ]
    },
    {
     "name": "stdout",
     "output_type": "stream",
     "text": [
      "Using device:  1\n",
      "using device: cuda\n",
      "Getting denoised Tomogram with 10 A voxel size for the associated runID: Position_12_5_Vol\n",
      "Preprocessing the volume for Position_12_5_Vol\n",
      "Running automatic segmentation for projection\n",
      "Saving teh masks\n",
      "Running automatic segmentation for volume\n"
     ]
    },
    {
     "name": "stderr",
     "output_type": "stream",
     "text": [
      "100%|██████████| 186/186 [00:07<00:00, 23.30it/s]\n",
      " 83%|████████▎ | 154/186 [00:06<00:01, 23.34it/s]/hpc/mydata/saugat.kandel/sam2_projects/segment-anything-2/sam2/sam2_tomogram_predictor.py:928: UserWarning: CUDA error: no kernel image is available for execution on the device\n",
      "CUDA kernel errors might be asynchronously reported at some other API call, so the stacktrace below might be incorrect.\n",
      "For debugging consider passing CUDA_LAUNCH_BLOCKING=1\n",
      "Compile with `TORCH_USE_CUDA_DSA` to enable device-side assertions.\n",
      "\n",
      "\n",
      "Skipping the post-processing step due to the error above. You can still use SAM 2 and it's OK to ignore the error above, although some post-processing functionality may be limited (which doesn't affect the results in most cases; see https://github.com/facebookresearch/segment-anything-2/blob/main/INSTALL.md).\n",
      "  pred_masks_gpu = fill_holes_in_mask_scores(\n",
      "100%|██████████| 186/186 [00:07<00:00, 23.55it/s]<00:04, 18.00it/s]\n",
      "propagate in video:  25%|██▌       | 24/96 [00:01<00:03, 21.45it/s]/hpc/mydata/saugat.kandel/sam2_projects/segment-anything-2/sam2/sam2_tomogram_predictor.py:928: UserWarning: CUDA error: no kernel image is available for execution on the device\n",
      "CUDA kernel errors might be asynchronously reported at some other API call, so the stacktrace below might be incorrect.\n",
      "For debugging consider passing CUDA_LAUNCH_BLOCKING=1\n",
      "Compile with `TORCH_USE_CUDA_DSA` to enable device-side assertions.\n",
      "\n",
      "\n",
      "Skipping the post-processing step due to the error above. You can still use SAM 2 and it's OK to ignore the error above, although some post-processing functionality may be limited (which doesn't affect the results in most cases; see https://github.com/facebookresearch/segment-anything-2/blob/main/INSTALL.md).\n",
      "  pred_masks_gpu = fill_holes_in_mask_scores(\n",
      "propagate in video: 100%|██████████| 96/96 [00:04<00:00, 21.46it/s]\n",
      "propagate in video: 100%|██████████| 96/96 [00:06<00:00, 14.12it/s]\n",
      "propagate in video: 100%|██████████| 91/91 [00:04<00:00, 21.76it/s]\n"
     ]
    },
    {
     "name": "stdout",
     "output_type": "stream",
     "text": [
      "Saving the masks and the volume\n"
     ]
    },
    {
     "name": "stderr",
     "output_type": "stream",
     "text": [
      "propagate in video: 100%|██████████| 91/91 [00:06<00:00, 14.26it/s]\n"
     ]
    },
    {
     "name": "stdout",
     "output_type": "stream",
     "text": [
      "Saving the masks and the volume\n"
     ]
    },
    {
     "name": "stderr",
     "output_type": "stream",
     "text": [
      "/hpc/mydata/saugat.kandel/sam2_projects/segment-anything-2/sam2/sam2_image_predictor.py:431: UserWarning: CUDA error: no kernel image is available for execution on the device\n",
      "CUDA kernel errors might be asynchronously reported at some other API call, so the stacktrace below might be incorrect.\n",
      "For debugging consider passing CUDA_LAUNCH_BLOCKING=1\n",
      "Compile with `TORCH_USE_CUDA_DSA` to enable device-side assertions.\n",
      "\n",
      "\n",
      "Skipping the post-processing step due to the error above. You can still use SAM 2 and it's OK to ignore the error above, although some post-processing functionality may be limited (which doesn't affect the results in most cases; see https://github.com/facebookresearch/segment-anything-2/blob/main/INSTALL.md).\n",
      "  masks = self._transforms.postprocess_masks(\n",
      "/hpc/mydata/saugat.kandel/sam2_projects/segment-anything-2/sam2/sam2_image_predictor.py:431: UserWarning: CUDA error: no kernel image is available for execution on the device\n",
      "CUDA kernel errors might be asynchronously reported at some other API call, so the stacktrace below might be incorrect.\n",
      "For debugging consider passing CUDA_LAUNCH_BLOCKING=1\n",
      "Compile with `TORCH_USE_CUDA_DSA` to enable device-side assertions.\n",
      "\n",
      "\n",
      "Skipping the post-processing step due to the error above. You can still use SAM 2 and it's OK to ignore the error above, although some post-processing functionality may be limited (which doesn't affect the results in most cases; see https://github.com/facebookresearch/segment-anything-2/blob/main/INSTALL.md).\n",
      "  masks = self._transforms.postprocess_masks(\n",
      "  0%|          | 0/186 [00:00<?, ?it/s].61it/s]"
     ]
    },
    {
     "name": "stdout",
     "output_type": "stream",
     "text": [
      "Using device:  1\n",
      "using device: cuda\n",
      "Getting denoised Tomogram with 10 A voxel size for the associated runID: Position_13_4_Vol\n",
      "Preprocessing the volume for Position_13_4_Vol\n",
      "Running automatic segmentation for projection\n",
      "Saving teh masks\n",
      "Running automatic segmentation for volume\n",
      "Using device:  0\n",
      "using device: cuda\n",
      "Getting denoised Tomogram with 10 A voxel size for the associated runID: Position_13_3_Vol\n",
      "Preprocessing the volume for Position_13_3_Vol\n",
      "Running automatic segmentation for projection\n",
      "Saving teh masks\n",
      "Running automatic segmentation for volume\n"
     ]
    },
    {
     "name": "stderr",
     "output_type": "stream",
     "text": [
      "100%|██████████| 186/186 [00:06<00:00, 27.95it/s]\n",
      "100%|██████████| 186/186 [00:07<00:00, 25.60it/s]\n",
      "/hpc/mydata/saugat.kandel/sam2_projects/segment-anything-2/sam2/sam2_tomogram_predictor.py:928: UserWarning: CUDA error: no kernel image is available for execution on the device\n",
      "CUDA kernel errors might be asynchronously reported at some other API call, so the stacktrace below might be incorrect.\n",
      "For debugging consider passing CUDA_LAUNCH_BLOCKING=1\n",
      "Compile with `TORCH_USE_CUDA_DSA` to enable device-side assertions.\n",
      "\n",
      "\n",
      "Skipping the post-processing step due to the error above. You can still use SAM 2 and it's OK to ignore the error above, although some post-processing functionality may be limited (which doesn't affect the results in most cases; see https://github.com/facebookresearch/segment-anything-2/blob/main/INSTALL.md).\n",
      "  pred_masks_gpu = fill_holes_in_mask_scores(\n",
      "propagate in video:   8%|▊         | 8/96 [00:00<00:04, 19.34it/s]/hpc/mydata/saugat.kandel/sam2_projects/segment-anything-2/sam2/sam2_tomogram_predictor.py:928: UserWarning: CUDA error: no kernel image is available for execution on the device\n",
      "CUDA kernel errors might be asynchronously reported at some other API call, so the stacktrace below might be incorrect.\n",
      "For debugging consider passing CUDA_LAUNCH_BLOCKING=1\n",
      "Compile with `TORCH_USE_CUDA_DSA` to enable device-side assertions.\n",
      "\n",
      "\n",
      "Skipping the post-processing step due to the error above. You can still use SAM 2 and it's OK to ignore the error above, although some post-processing functionality may be limited (which doesn't affect the results in most cases; see https://github.com/facebookresearch/segment-anything-2/blob/main/INSTALL.md).\n",
      "  pred_masks_gpu = fill_holes_in_mask_scores(\n",
      "propagate in video: 100%|██████████| 96/96 [00:04<00:00, 20.61it/s]\n",
      "propagate in video: 100%|██████████| 96/96 [00:05<00:00, 17.03it/s]\n",
      "propagate in video: 100%|██████████| 91/91 [00:04<00:00, 22.41it/s]\n",
      "propagate in video:  75%|███████▍  | 68/91 [00:03<00:01, 18.11it/s]"
     ]
    },
    {
     "name": "stdout",
     "output_type": "stream",
     "text": [
      "Saving the masks and the volume\n"
     ]
    },
    {
     "name": "stderr",
     "output_type": "stream",
     "text": [
      "propagate in video: 100%|██████████| 91/91 [00:04<00:00, 18.49it/s]\n"
     ]
    },
    {
     "name": "stdout",
     "output_type": "stream",
     "text": [
      "Saving the masks and the volume\n"
     ]
    },
    {
     "name": "stderr",
     "output_type": "stream",
     "text": [
      "/hpc/mydata/saugat.kandel/sam2_projects/segment-anything-2/sam2/sam2_image_predictor.py:431: UserWarning: CUDA error: no kernel image is available for execution on the device\n",
      "CUDA kernel errors might be asynchronously reported at some other API call, so the stacktrace below might be incorrect.\n",
      "For debugging consider passing CUDA_LAUNCH_BLOCKING=1\n",
      "Compile with `TORCH_USE_CUDA_DSA` to enable device-side assertions.\n",
      "\n",
      "\n",
      "Skipping the post-processing step due to the error above. You can still use SAM 2 and it's OK to ignore the error above, although some post-processing functionality may be limited (which doesn't affect the results in most cases; see https://github.com/facebookresearch/segment-anything-2/blob/main/INSTALL.md).\n",
      "  masks = self._transforms.postprocess_masks(\n",
      "/hpc/mydata/saugat.kandel/sam2_projects/segment-anything-2/sam2/sam2_image_predictor.py:431: UserWarning: CUDA error: no kernel image is available for execution on the device\n",
      "CUDA kernel errors might be asynchronously reported at some other API call, so the stacktrace below might be incorrect.\n",
      "For debugging consider passing CUDA_LAUNCH_BLOCKING=1\n",
      "Compile with `TORCH_USE_CUDA_DSA` to enable device-side assertions.\n",
      "\n",
      "\n",
      "Skipping the post-processing step due to the error above. You can still use SAM 2 and it's OK to ignore the error above, although some post-processing functionality may be limited (which doesn't affect the results in most cases; see https://github.com/facebookresearch/segment-anything-2/blob/main/INSTALL.md).\n",
      "  masks = self._transforms.postprocess_masks(\n"
     ]
    },
    {
     "name": "stdout",
     "output_type": "stream",
     "text": [
      "Using device:  1\n",
      "using device: cuda\n",
      "Getting denoised Tomogram with 10 A voxel size for the associated runID: Position_14_2_Vol\n",
      "Preprocessing the volume for Position_14_2_Vol\n",
      "Running automatic segmentation for projection\n",
      "Saving teh masks\n",
      "Running automatic segmentation for volume\n"
     ]
    },
    {
     "name": "stderr",
     "output_type": "stream",
     "text": [
      "  0%|          | 0/186 [00:00<?, ?it/s]8.32it/s]"
     ]
    },
    {
     "name": "stdout",
     "output_type": "stream",
     "text": [
      "Using device:  0\n",
      "using device: cuda\n",
      "Getting denoised Tomogram with 10 A voxel size for the associated runID: Position_13_Vol\n",
      "Preprocessing the volume for Position_13_Vol\n",
      "Running automatic segmentation for projection\n",
      "Saving teh masks\n",
      "Running automatic segmentation for volume\n"
     ]
    },
    {
     "name": "stderr",
     "output_type": "stream",
     "text": [
      "100%|██████████| 186/186 [00:08<00:00, 23.09it/s]\n",
      " 69%|██████▉   | 129/186 [00:05<00:02, 20.19it/s]/hpc/mydata/saugat.kandel/sam2_projects/segment-anything-2/sam2/sam2_tomogram_predictor.py:928: UserWarning: CUDA error: no kernel image is available for execution on the device\n",
      "CUDA kernel errors might be asynchronously reported at some other API call, so the stacktrace below might be incorrect.\n",
      "For debugging consider passing CUDA_LAUNCH_BLOCKING=1\n",
      "Compile with `TORCH_USE_CUDA_DSA` to enable device-side assertions.\n",
      "\n",
      "\n",
      "Skipping the post-processing step due to the error above. You can still use SAM 2 and it's OK to ignore the error above, although some post-processing functionality may be limited (which doesn't affect the results in most cases; see https://github.com/facebookresearch/segment-anything-2/blob/main/INSTALL.md).\n",
      "  pred_masks_gpu = fill_holes_in_mask_scores(\n",
      "100%|██████████| 186/186 [00:07<00:00, 23.32it/s]<00:03, 18.27it/s]\n",
      "propagate in video:  42%|████▏     | 40/96 [00:02<00:03, 15.08it/s]/hpc/mydata/saugat.kandel/sam2_projects/segment-anything-2/sam2/sam2_tomogram_predictor.py:928: UserWarning: CUDA error: no kernel image is available for execution on the device\n",
      "CUDA kernel errors might be asynchronously reported at some other API call, so the stacktrace below might be incorrect.\n",
      "For debugging consider passing CUDA_LAUNCH_BLOCKING=1\n",
      "Compile with `TORCH_USE_CUDA_DSA` to enable device-side assertions.\n",
      "\n",
      "\n",
      "Skipping the post-processing step due to the error above. You can still use SAM 2 and it's OK to ignore the error above, although some post-processing functionality may be limited (which doesn't affect the results in most cases; see https://github.com/facebookresearch/segment-anything-2/blob/main/INSTALL.md).\n",
      "  pred_masks_gpu = fill_holes_in_mask_scores(\n",
      "propagate in video: 100%|██████████| 96/96 [00:05<00:00, 17.44it/s]\n",
      "propagate in video: 100%|██████████| 96/96 [00:06<00:00, 14.18it/s]\n",
      "propagate in video: 100%|██████████| 91/91 [00:05<00:00, 17.72it/s]\n",
      "propagate in video:  30%|██▉       | 27/91 [00:01<00:04, 14.37it/s]"
     ]
    },
    {
     "name": "stdout",
     "output_type": "stream",
     "text": [
      "Saving the masks and the volume\n"
     ]
    },
    {
     "name": "stderr",
     "output_type": "stream",
     "text": [
      "propagate in video: 100%|██████████| 91/91 [00:06<00:00, 14.45it/s]\n"
     ]
    },
    {
     "name": "stdout",
     "output_type": "stream",
     "text": [
      "Saving the masks and the volume\n"
     ]
    },
    {
     "name": "stderr",
     "output_type": "stream",
     "text": [
      "/hpc/mydata/saugat.kandel/sam2_projects/segment-anything-2/sam2/sam2_image_predictor.py:431: UserWarning: CUDA error: no kernel image is available for execution on the device\n",
      "CUDA kernel errors might be asynchronously reported at some other API call, so the stacktrace below might be incorrect.\n",
      "For debugging consider passing CUDA_LAUNCH_BLOCKING=1\n",
      "Compile with `TORCH_USE_CUDA_DSA` to enable device-side assertions.\n",
      "\n",
      "\n",
      "Skipping the post-processing step due to the error above. You can still use SAM 2 and it's OK to ignore the error above, although some post-processing functionality may be limited (which doesn't affect the results in most cases; see https://github.com/facebookresearch/segment-anything-2/blob/main/INSTALL.md).\n",
      "  masks = self._transforms.postprocess_masks(\n",
      "/hpc/mydata/saugat.kandel/sam2_projects/segment-anything-2/sam2/sam2_image_predictor.py:431: UserWarning: CUDA error: no kernel image is available for execution on the device\n",
      "CUDA kernel errors might be asynchronously reported at some other API call, so the stacktrace below might be incorrect.\n",
      "For debugging consider passing CUDA_LAUNCH_BLOCKING=1\n",
      "Compile with `TORCH_USE_CUDA_DSA` to enable device-side assertions.\n",
      "\n",
      "\n",
      "Skipping the post-processing step due to the error above. You can still use SAM 2 and it's OK to ignore the error above, although some post-processing functionality may be limited (which doesn't affect the results in most cases; see https://github.com/facebookresearch/segment-anything-2/blob/main/INSTALL.md).\n",
      "  masks = self._transforms.postprocess_masks(\n"
     ]
    },
    {
     "name": "stdout",
     "output_type": "stream",
     "text": [
      "Using device:  0\n",
      "using device: cuda\n",
      "Getting denoised Tomogram with 10 A voxel size for the associated runID: Position_14_5_Vol\n",
      "Preprocessing the volume for Position_14_5_Vol\n",
      "Running automatic segmentation for projection\n",
      "Saving teh masks\n",
      "Running automatic segmentation for volume\n"
     ]
    },
    {
     "name": "stderr",
     "output_type": "stream",
     "text": [
      " 26%|██▌       | 48/186 [00:01<00:05, 25.92it/s]"
     ]
    },
    {
     "name": "stdout",
     "output_type": "stream",
     "text": [
      "Using device:  1\n",
      "using device: cuda\n",
      "Getting denoised Tomogram with 10 A voxel size for the associated runID: Position_14_Vol\n",
      "Preprocessing the volume for Position_14_Vol\n",
      "Running automatic segmentation for projection\n",
      "Saving teh masks\n",
      "Running automatic segmentation for volume\n"
     ]
    },
    {
     "name": "stderr",
     "output_type": "stream",
     "text": [
      "100%|██████████| 186/186 [00:10<00:00, 18.04it/s]\n",
      " 84%|████████▍ | 156/186 [00:08<00:01, 25.88it/s]/hpc/mydata/saugat.kandel/sam2_projects/segment-anything-2/sam2/sam2_tomogram_predictor.py:928: UserWarning: CUDA error: no kernel image is available for execution on the device\n",
      "CUDA kernel errors might be asynchronously reported at some other API call, so the stacktrace below might be incorrect.\n",
      "For debugging consider passing CUDA_LAUNCH_BLOCKING=1\n",
      "Compile with `TORCH_USE_CUDA_DSA` to enable device-side assertions.\n",
      "\n",
      "\n",
      "Skipping the post-processing step due to the error above. You can still use SAM 2 and it's OK to ignore the error above, although some post-processing functionality may be limited (which doesn't affect the results in most cases; see https://github.com/facebookresearch/segment-anything-2/blob/main/INSTALL.md).\n",
      "  pred_masks_gpu = fill_holes_in_mask_scores(\n",
      "100%|██████████| 186/186 [00:09<00:00, 18.60it/s]<00:04, 17.81it/s]\n",
      "propagate in video:  26%|██▌       | 25/96 [00:01<00:03, 21.96it/s]/hpc/mydata/saugat.kandel/sam2_projects/segment-anything-2/sam2/sam2_tomogram_predictor.py:928: UserWarning: CUDA error: no kernel image is available for execution on the device\n",
      "CUDA kernel errors might be asynchronously reported at some other API call, so the stacktrace below might be incorrect.\n",
      "For debugging consider passing CUDA_LAUNCH_BLOCKING=1\n",
      "Compile with `TORCH_USE_CUDA_DSA` to enable device-side assertions.\n",
      "\n",
      "\n",
      "Skipping the post-processing step due to the error above. You can still use SAM 2 and it's OK to ignore the error above, although some post-processing functionality may be limited (which doesn't affect the results in most cases; see https://github.com/facebookresearch/segment-anything-2/blob/main/INSTALL.md).\n",
      "  pred_masks_gpu = fill_holes_in_mask_scores(\n",
      "propagate in video: 100%|██████████| 96/96 [00:04<00:00, 21.00it/s]\n",
      "propagate in video: 100%|██████████| 96/96 [00:06<00:00, 14.57it/s]\n",
      "propagate in video: 100%|██████████| 91/91 [00:03<00:00, 23.17it/s]\n"
     ]
    },
    {
     "name": "stdout",
     "output_type": "stream",
     "text": [
      "Saving the masks and the volume\n"
     ]
    },
    {
     "name": "stderr",
     "output_type": "stream",
     "text": [
      "propagate in video: 100%|██████████| 91/91 [00:06<00:00, 14.50it/s]\n"
     ]
    },
    {
     "name": "stdout",
     "output_type": "stream",
     "text": [
      "Saving the masks and the volume\n"
     ]
    },
    {
     "name": "stderr",
     "output_type": "stream",
     "text": [
      "/hpc/mydata/saugat.kandel/sam2_projects/segment-anything-2/sam2/sam2_image_predictor.py:431: UserWarning: CUDA error: no kernel image is available for execution on the device\n",
      "CUDA kernel errors might be asynchronously reported at some other API call, so the stacktrace below might be incorrect.\n",
      "For debugging consider passing CUDA_LAUNCH_BLOCKING=1\n",
      "Compile with `TORCH_USE_CUDA_DSA` to enable device-side assertions.\n",
      "\n",
      "\n",
      "Skipping the post-processing step due to the error above. You can still use SAM 2 and it's OK to ignore the error above, although some post-processing functionality may be limited (which doesn't affect the results in most cases; see https://github.com/facebookresearch/segment-anything-2/blob/main/INSTALL.md).\n",
      "  masks = self._transforms.postprocess_masks(\n",
      "/hpc/mydata/saugat.kandel/sam2_projects/segment-anything-2/sam2/sam2_image_predictor.py:431: UserWarning: CUDA error: no kernel image is available for execution on the device\n",
      "CUDA kernel errors might be asynchronously reported at some other API call, so the stacktrace below might be incorrect.\n",
      "For debugging consider passing CUDA_LAUNCH_BLOCKING=1\n",
      "Compile with `TORCH_USE_CUDA_DSA` to enable device-side assertions.\n",
      "\n",
      "\n",
      "Skipping the post-processing step due to the error above. You can still use SAM 2 and it's OK to ignore the error above, although some post-processing functionality may be limited (which doesn't affect the results in most cases; see https://github.com/facebookresearch/segment-anything-2/blob/main/INSTALL.md).\n",
      "  masks = self._transforms.postprocess_masks(\n"
     ]
    },
    {
     "name": "stdout",
     "output_type": "stream",
     "text": [
      "Using device:  1\n",
      "using device: cuda\n",
      "Getting denoised Tomogram with 10 A voxel size for the associated runID: Position_16_2_Vol\n",
      "Preprocessing the volume for Position_16_2_Vol\n",
      "Running automatic segmentation for projection\n",
      "Saving teh masks\n",
      "Running automatic segmentation for volume\n"
     ]
    },
    {
     "name": "stderr",
     "output_type": "stream",
     "text": [
      "  0%|          | 0/186 [00:00<?, ?it/s]7.81it/s]"
     ]
    },
    {
     "name": "stdout",
     "output_type": "stream",
     "text": [
      "Using device:  0\n",
      "using device: cuda\n",
      "Getting denoised Tomogram with 10 A voxel size for the associated runID: Position_15_Vol\n",
      "Preprocessing the volume for Position_15_Vol\n",
      "Running automatic segmentation for projection\n",
      "Saving teh masks\n",
      "Running automatic segmentation for volume\n"
     ]
    },
    {
     "name": "stderr",
     "output_type": "stream",
     "text": [
      "100%|██████████| 186/186 [00:08<00:00, 21.28it/s]\n",
      " 99%|█████████▉| 185/186 [00:07<00:00, 25.22it/s]/hpc/mydata/saugat.kandel/sam2_projects/segment-anything-2/sam2/sam2_tomogram_predictor.py:928: UserWarning: CUDA error: no kernel image is available for execution on the device\n",
      "CUDA kernel errors might be asynchronously reported at some other API call, so the stacktrace below might be incorrect.\n",
      "For debugging consider passing CUDA_LAUNCH_BLOCKING=1\n",
      "Compile with `TORCH_USE_CUDA_DSA` to enable device-side assertions.\n",
      "\n",
      "\n",
      "Skipping the post-processing step due to the error above. You can still use SAM 2 and it's OK to ignore the error above, although some post-processing functionality may be limited (which doesn't affect the results in most cases; see https://github.com/facebookresearch/segment-anything-2/blob/main/INSTALL.md).\n",
      "  pred_masks_gpu = fill_holes_in_mask_scores(\n",
      "100%|██████████| 186/186 [00:07<00:00, 24.63it/s]?, ?it/s]\n",
      "propagate in video:   6%|▋         | 6/96 [00:00<00:06, 13.29it/s]/hpc/mydata/saugat.kandel/sam2_projects/segment-anything-2/sam2/sam2_tomogram_predictor.py:928: UserWarning: CUDA error: no kernel image is available for execution on the device\n",
      "CUDA kernel errors might be asynchronously reported at some other API call, so the stacktrace below might be incorrect.\n",
      "For debugging consider passing CUDA_LAUNCH_BLOCKING=1\n",
      "Compile with `TORCH_USE_CUDA_DSA` to enable device-side assertions.\n",
      "\n",
      "\n",
      "Skipping the post-processing step due to the error above. You can still use SAM 2 and it's OK to ignore the error above, although some post-processing functionality may be limited (which doesn't affect the results in most cases; see https://github.com/facebookresearch/segment-anything-2/blob/main/INSTALL.md).\n",
      "  pred_masks_gpu = fill_holes_in_mask_scores(\n",
      "propagate in video: 100%|██████████| 96/96 [00:05<00:00, 17.64it/s]\n",
      "propagate in video: 100%|██████████| 96/96 [00:05<00:00, 17.33it/s]\n",
      "propagate in video: 100%|██████████| 91/91 [00:05<00:00, 17.17it/s]\n",
      "propagate in video:  74%|███████▎  | 67/91 [00:05<00:03,  6.86it/s]"
     ]
    },
    {
     "name": "stdout",
     "output_type": "stream",
     "text": [
      "Saving the masks and the volume\n"
     ]
    },
    {
     "name": "stderr",
     "output_type": "stream",
     "text": [
      "propagate in video: 100%|██████████| 91/91 [00:09<00:00, 10.06it/s]\n"
     ]
    },
    {
     "name": "stdout",
     "output_type": "stream",
     "text": [
      "Saving the masks and the volume\n"
     ]
    },
    {
     "name": "stderr",
     "output_type": "stream",
     "text": [
      "/hpc/mydata/saugat.kandel/sam2_projects/segment-anything-2/sam2/sam2_image_predictor.py:431: UserWarning: CUDA error: no kernel image is available for execution on the device\n",
      "CUDA kernel errors might be asynchronously reported at some other API call, so the stacktrace below might be incorrect.\n",
      "For debugging consider passing CUDA_LAUNCH_BLOCKING=1\n",
      "Compile with `TORCH_USE_CUDA_DSA` to enable device-side assertions.\n",
      "\n",
      "\n",
      "Skipping the post-processing step due to the error above. You can still use SAM 2 and it's OK to ignore the error above, although some post-processing functionality may be limited (which doesn't affect the results in most cases; see https://github.com/facebookresearch/segment-anything-2/blob/main/INSTALL.md).\n",
      "  masks = self._transforms.postprocess_masks(\n",
      "/hpc/mydata/saugat.kandel/sam2_projects/segment-anything-2/sam2/sam2_image_predictor.py:431: UserWarning: CUDA error: no kernel image is available for execution on the device\n",
      "CUDA kernel errors might be asynchronously reported at some other API call, so the stacktrace below might be incorrect.\n",
      "For debugging consider passing CUDA_LAUNCH_BLOCKING=1\n",
      "Compile with `TORCH_USE_CUDA_DSA` to enable device-side assertions.\n",
      "\n",
      "\n",
      "Skipping the post-processing step due to the error above. You can still use SAM 2 and it's OK to ignore the error above, although some post-processing functionality may be limited (which doesn't affect the results in most cases; see https://github.com/facebookresearch/segment-anything-2/blob/main/INSTALL.md).\n",
      "  masks = self._transforms.postprocess_masks(\n"
     ]
    },
    {
     "name": "stdout",
     "output_type": "stream",
     "text": [
      "Using device:  0\n",
      "using device: cuda\n",
      "Getting denoised Tomogram with 10 A voxel size for the associated runID: Position_17_2_Vol\n",
      "Preprocessing the volume for Position_17_2_Vol\n",
      "Running automatic segmentation for projection\n",
      "Saving teh masks\n",
      "Running automatic segmentation for volume\n"
     ]
    },
    {
     "name": "stderr",
     "output_type": "stream",
     "text": [
      " 38%|███▊      | 71/186 [00:02<00:04, 24.59it/s]"
     ]
    },
    {
     "name": "stdout",
     "output_type": "stream",
     "text": [
      "Using device:  1\n",
      "using device: cuda\n",
      "Getting denoised Tomogram with 10 A voxel size for the associated runID: Position_17_3_Vol\n",
      "Preprocessing the volume for Position_17_3_Vol\n",
      "Running automatic segmentation for projection\n",
      "Saving teh masks\n",
      "Running automatic segmentation for volume\n"
     ]
    },
    {
     "name": "stderr",
     "output_type": "stream",
     "text": [
      "100%|██████████| 186/186 [00:08<00:00, 21.61it/s]\n",
      " 73%|███████▎  | 136/186 [00:06<00:02, 18.83it/s]Process Process-17:\n",
      "Traceback (most recent call last):\n",
      "  File \"/hpc/mydata/saugat.kandel/sam2_projects/.pixi/envs/default/lib/python3.12/site-packages/multiprocess/process.py\", line 314, in _bootstrap\n",
      "    self.run()\n",
      "  File \"/hpc/mydata/saugat.kandel/sam2_projects/.pixi/envs/default/lib/python3.12/site-packages/multiprocess/process.py\", line 108, in run\n",
      "    self._target(*self._args, **self._kwargs)\n",
      "  File \"/tmp/ipykernel_1757791/372138728.py\", line 124, in run_in_separate_process\n",
      "  File \"/hpc/mydata/saugat.kandel/sam2_projects/.pixi/envs/default/lib/python3.12/site-packages/torch/utils/_contextlib.py\", line 36, in generator_context\n",
      "    response = gen.send(None)\n",
      "               ^^^^^^^^^^^^^^\n",
      "  File \"/hpc/mydata/saugat.kandel/sam2_projects/segment-anything-2/sam2/sam2_tomogram_predictor.py\", line 718, in propagate_in_video\n",
      "    raise RuntimeError(\"No points are provided; please add points first\")\n",
      "RuntimeError: No points are provided; please add points first\n",
      "100%|██████████| 186/186 [00:07<00:00, 24.11it/s]\n",
      "/hpc/mydata/saugat.kandel/sam2_projects/segment-anything-2/sam2/sam2_tomogram_predictor.py:928: UserWarning: CUDA error: no kernel image is available for execution on the device\n",
      "CUDA kernel errors might be asynchronously reported at some other API call, so the stacktrace below might be incorrect.\n",
      "For debugging consider passing CUDA_LAUNCH_BLOCKING=1\n",
      "Compile with `TORCH_USE_CUDA_DSA` to enable device-side assertions.\n",
      "\n",
      "\n",
      "Skipping the post-processing step due to the error above. You can still use SAM 2 and it's OK to ignore the error above, although some post-processing functionality may be limited (which doesn't affect the results in most cases; see https://github.com/facebookresearch/segment-anything-2/blob/main/INSTALL.md).\n",
      "  pred_masks_gpu = fill_holes_in_mask_scores(\n",
      "propagate in video: 100%|██████████| 96/96 [00:07<00:00, 13.43it/s]\n",
      "propagate in video: 100%|██████████| 91/91 [00:06<00:00, 13.63it/s]\n"
     ]
    },
    {
     "name": "stdout",
     "output_type": "stream",
     "text": [
      "Saving the masks and the volume\n"
     ]
    },
    {
     "name": "stderr",
     "output_type": "stream",
     "text": [
      "/hpc/mydata/saugat.kandel/sam2_projects/segment-anything-2/sam2/sam2_image_predictor.py:431: UserWarning: CUDA error: no kernel image is available for execution on the device\n",
      "CUDA kernel errors might be asynchronously reported at some other API call, so the stacktrace below might be incorrect.\n",
      "For debugging consider passing CUDA_LAUNCH_BLOCKING=1\n",
      "Compile with `TORCH_USE_CUDA_DSA` to enable device-side assertions.\n",
      "\n",
      "\n",
      "Skipping the post-processing step due to the error above. You can still use SAM 2 and it's OK to ignore the error above, although some post-processing functionality may be limited (which doesn't affect the results in most cases; see https://github.com/facebookresearch/segment-anything-2/blob/main/INSTALL.md).\n",
      "  masks = self._transforms.postprocess_masks(\n",
      "/hpc/mydata/saugat.kandel/sam2_projects/segment-anything-2/sam2/sam2_image_predictor.py:431: UserWarning: CUDA error: no kernel image is available for execution on the device\n",
      "CUDA kernel errors might be asynchronously reported at some other API call, so the stacktrace below might be incorrect.\n",
      "For debugging consider passing CUDA_LAUNCH_BLOCKING=1\n",
      "Compile with `TORCH_USE_CUDA_DSA` to enable device-side assertions.\n",
      "\n",
      "\n",
      "Skipping the post-processing step due to the error above. You can still use SAM 2 and it's OK to ignore the error above, although some post-processing functionality may be limited (which doesn't affect the results in most cases; see https://github.com/facebookresearch/segment-anything-2/blob/main/INSTALL.md).\n",
      "  masks = self._transforms.postprocess_masks(\n"
     ]
    },
    {
     "name": "stdout",
     "output_type": "stream",
     "text": [
      "Using device:  0\n",
      "using device: cuda\n",
      "Getting denoised Tomogram with 10 A voxel size for the associated runID: Position_18_2_Vol\n",
      "Preprocessing the volume for Position_18_2_Vol\n",
      "Running automatic segmentation for projection\n",
      "Saving teh masks\n",
      "Running automatic segmentation for volume\n",
      "Using device:  1\n",
      "using device: cuda\n",
      "Getting denoised Tomogram with 10 A voxel size for the associated runID: Position_18_Vol\n",
      "Preprocessing the volume for Position_18_Vol\n",
      "Running automatic segmentation for projection\n",
      "Saving teh masks\n",
      "Running automatic segmentation for volume\n"
     ]
    },
    {
     "name": "stderr",
     "output_type": "stream",
     "text": [
      "100%|██████████| 186/186 [00:08<00:00, 21.51it/s]\n",
      " 94%|█████████▍| 175/186 [00:09<00:00, 18.57it/s]/hpc/mydata/saugat.kandel/sam2_projects/segment-anything-2/sam2/sam2_tomogram_predictor.py:928: UserWarning: CUDA error: no kernel image is available for execution on the device\n",
      "CUDA kernel errors might be asynchronously reported at some other API call, so the stacktrace below might be incorrect.\n",
      "For debugging consider passing CUDA_LAUNCH_BLOCKING=1\n",
      "Compile with `TORCH_USE_CUDA_DSA` to enable device-side assertions.\n",
      "\n",
      "\n",
      "Skipping the post-processing step due to the error above. You can still use SAM 2 and it's OK to ignore the error above, although some post-processing functionality may be limited (which doesn't affect the results in most cases; see https://github.com/facebookresearch/segment-anything-2/blob/main/INSTALL.md).\n",
      "  pred_masks_gpu = fill_holes_in_mask_scores(\n",
      "100%|██████████| 186/186 [00:09<00:00, 18.79it/s]00:09,  9.77it/s]\n",
      "propagate in video:   8%|▊         | 8/96 [00:00<00:08, 10.11it/s]/hpc/mydata/saugat.kandel/sam2_projects/segment-anything-2/sam2/sam2_tomogram_predictor.py:928: UserWarning: CUDA error: no kernel image is available for execution on the device\n",
      "CUDA kernel errors might be asynchronously reported at some other API call, so the stacktrace below might be incorrect.\n",
      "For debugging consider passing CUDA_LAUNCH_BLOCKING=1\n",
      "Compile with `TORCH_USE_CUDA_DSA` to enable device-side assertions.\n",
      "\n",
      "\n",
      "Skipping the post-processing step due to the error above. You can still use SAM 2 and it's OK to ignore the error above, although some post-processing functionality may be limited (which doesn't affect the results in most cases; see https://github.com/facebookresearch/segment-anything-2/blob/main/INSTALL.md).\n",
      "  pred_masks_gpu = fill_holes_in_mask_scores(\n",
      "propagate in video: 100%|██████████| 96/96 [00:05<00:00, 17.35it/s]\n",
      "propagate in video: 100%|██████████| 96/96 [00:04<00:00, 20.81it/s]\n",
      "propagate in video: 100%|██████████| 91/91 [00:04<00:00, 22.40it/s]\n",
      "propagate in video: 100%|██████████| 91/91 [00:04<00:00, 22.48it/s]\n"
     ]
    },
    {
     "name": "stdout",
     "output_type": "stream",
     "text": [
      "Saving the masks and the volume\n",
      "Saving the masks and the volume\n"
     ]
    },
    {
     "name": "stderr",
     "output_type": "stream",
     "text": [
      "/hpc/mydata/saugat.kandel/sam2_projects/segment-anything-2/sam2/sam2_image_predictor.py:431: UserWarning: CUDA error: no kernel image is available for execution on the device\n",
      "CUDA kernel errors might be asynchronously reported at some other API call, so the stacktrace below might be incorrect.\n",
      "For debugging consider passing CUDA_LAUNCH_BLOCKING=1\n",
      "Compile with `TORCH_USE_CUDA_DSA` to enable device-side assertions.\n",
      "\n",
      "\n",
      "Skipping the post-processing step due to the error above. You can still use SAM 2 and it's OK to ignore the error above, although some post-processing functionality may be limited (which doesn't affect the results in most cases; see https://github.com/facebookresearch/segment-anything-2/blob/main/INSTALL.md).\n",
      "  masks = self._transforms.postprocess_masks(\n",
      "/hpc/mydata/saugat.kandel/sam2_projects/segment-anything-2/sam2/sam2_image_predictor.py:431: UserWarning: CUDA error: no kernel image is available for execution on the device\n",
      "CUDA kernel errors might be asynchronously reported at some other API call, so the stacktrace below might be incorrect.\n",
      "For debugging consider passing CUDA_LAUNCH_BLOCKING=1\n",
      "Compile with `TORCH_USE_CUDA_DSA` to enable device-side assertions.\n",
      "\n",
      "\n",
      "Skipping the post-processing step due to the error above. You can still use SAM 2 and it's OK to ignore the error above, although some post-processing functionality may be limited (which doesn't affect the results in most cases; see https://github.com/facebookresearch/segment-anything-2/blob/main/INSTALL.md).\n",
      "  masks = self._transforms.postprocess_masks(\n"
     ]
    },
    {
     "name": "stdout",
     "output_type": "stream",
     "text": [
      "Using device:  0\n",
      "using device: cuda\n",
      "Getting denoised Tomogram with 10 A voxel size for the associated runID: Position_19_4_Vol\n",
      "Preprocessing the volume for Position_19_4_Vol\n",
      "Running automatic segmentation for projection\n",
      "Saving teh masks\n",
      "Running automatic segmentation for volume\n"
     ]
    },
    {
     "name": "stderr",
     "output_type": "stream",
     "text": [
      " 26%|██▌       | 48/186 [00:01<00:04, 29.35it/s]"
     ]
    },
    {
     "name": "stdout",
     "output_type": "stream",
     "text": [
      "Using device:  1\n",
      "using device: cuda\n",
      "Getting denoised Tomogram with 10 A voxel size for the associated runID: Position_19_5_Vol\n",
      "Preprocessing the volume for Position_19_5_Vol\n",
      "Running automatic segmentation for projection\n",
      "Saving teh masks\n",
      "Running automatic segmentation for volume\n"
     ]
    },
    {
     "name": "stderr",
     "output_type": "stream",
     "text": [
      "100%|██████████| 186/186 [00:07<00:00, 25.10it/s]\n",
      " 89%|████████▉ | 166/186 [00:06<00:00, 26.93it/s]/hpc/mydata/saugat.kandel/sam2_projects/segment-anything-2/sam2/sam2_tomogram_predictor.py:928: UserWarning: CUDA error: no kernel image is available for execution on the device\n",
      "CUDA kernel errors might be asynchronously reported at some other API call, so the stacktrace below might be incorrect.\n",
      "For debugging consider passing CUDA_LAUNCH_BLOCKING=1\n",
      "Compile with `TORCH_USE_CUDA_DSA` to enable device-side assertions.\n",
      "\n",
      "\n",
      "Skipping the post-processing step due to the error above. You can still use SAM 2 and it's OK to ignore the error above, although some post-processing functionality may be limited (which doesn't affect the results in most cases; see https://github.com/facebookresearch/segment-anything-2/blob/main/INSTALL.md).\n",
      "  pred_masks_gpu = fill_holes_in_mask_scores(\n",
      "100%|██████████| 186/186 [00:06<00:00, 27.55it/s]00:12,  7.23it/s]\n",
      "propagate in video:   7%|▋         | 7/96 [00:00<00:07, 11.63it/s]/hpc/mydata/saugat.kandel/sam2_projects/segment-anything-2/sam2/sam2_tomogram_predictor.py:928: UserWarning: CUDA error: no kernel image is available for execution on the device\n",
      "CUDA kernel errors might be asynchronously reported at some other API call, so the stacktrace below might be incorrect.\n",
      "For debugging consider passing CUDA_LAUNCH_BLOCKING=1\n",
      "Compile with `TORCH_USE_CUDA_DSA` to enable device-side assertions.\n",
      "\n",
      "\n",
      "Skipping the post-processing step due to the error above. You can still use SAM 2 and it's OK to ignore the error above, although some post-processing functionality may be limited (which doesn't affect the results in most cases; see https://github.com/facebookresearch/segment-anything-2/blob/main/INSTALL.md).\n",
      "  pred_masks_gpu = fill_holes_in_mask_scores(\n",
      "propagate in video: 100%|██████████| 96/96 [00:05<00:00, 17.55it/s]\n",
      "propagate in video: 100%|██████████| 96/96 [00:07<00:00, 12.91it/s]\n",
      "propagate in video: 100%|██████████| 91/91 [00:05<00:00, 17.15it/s]\n",
      "propagate in video:  65%|██████▍   | 59/91 [00:04<00:02, 13.51it/s]"
     ]
    },
    {
     "name": "stdout",
     "output_type": "stream",
     "text": [
      "Saving the masks and the volume\n"
     ]
    },
    {
     "name": "stderr",
     "output_type": "stream",
     "text": [
      "propagate in video: 100%|██████████| 91/91 [00:06<00:00, 13.64it/s]\n"
     ]
    },
    {
     "name": "stdout",
     "output_type": "stream",
     "text": [
      "Saving the masks and the volume\n"
     ]
    },
    {
     "name": "stderr",
     "output_type": "stream",
     "text": [
      "/hpc/mydata/saugat.kandel/sam2_projects/segment-anything-2/sam2/sam2_image_predictor.py:431: UserWarning: CUDA error: no kernel image is available for execution on the device\n",
      "CUDA kernel errors might be asynchronously reported at some other API call, so the stacktrace below might be incorrect.\n",
      "For debugging consider passing CUDA_LAUNCH_BLOCKING=1\n",
      "Compile with `TORCH_USE_CUDA_DSA` to enable device-side assertions.\n",
      "\n",
      "\n",
      "Skipping the post-processing step due to the error above. You can still use SAM 2 and it's OK to ignore the error above, although some post-processing functionality may be limited (which doesn't affect the results in most cases; see https://github.com/facebookresearch/segment-anything-2/blob/main/INSTALL.md).\n",
      "  masks = self._transforms.postprocess_masks(\n",
      "/hpc/mydata/saugat.kandel/sam2_projects/segment-anything-2/sam2/sam2_image_predictor.py:431: UserWarning: CUDA error: no kernel image is available for execution on the device\n",
      "CUDA kernel errors might be asynchronously reported at some other API call, so the stacktrace below might be incorrect.\n",
      "For debugging consider passing CUDA_LAUNCH_BLOCKING=1\n",
      "Compile with `TORCH_USE_CUDA_DSA` to enable device-side assertions.\n",
      "\n",
      "\n",
      "Skipping the post-processing step due to the error above. You can still use SAM 2 and it's OK to ignore the error above, although some post-processing functionality may be limited (which doesn't affect the results in most cases; see https://github.com/facebookresearch/segment-anything-2/blob/main/INSTALL.md).\n",
      "  masks = self._transforms.postprocess_masks(\n"
     ]
    },
    {
     "name": "stdout",
     "output_type": "stream",
     "text": [
      "Using device:  0\n",
      "using device: cuda\n",
      "Getting denoised Tomogram with 10 A voxel size for the associated runID: Position_1_3_Vol\n",
      "Preprocessing the volume for Position_1_3_Vol\n",
      "Running automatic segmentation for projection\n",
      "Saving teh masks\n",
      "Running automatic segmentation for volume\n"
     ]
    },
    {
     "name": "stderr",
     "output_type": "stream",
     "text": [
      "  2%|▏         | 3/186 [00:00<00:06, 28.27it/s]]"
     ]
    },
    {
     "name": "stdout",
     "output_type": "stream",
     "text": [
      "Using device:  1\n",
      "using device: cuda\n",
      "Getting denoised Tomogram with 10 A voxel size for the associated runID: Position_1_4_Vol\n",
      "Preprocessing the volume for Position_1_4_Vol\n",
      "Running automatic segmentation for projection\n",
      "Saving teh masks\n",
      "Running automatic segmentation for volume\n"
     ]
    },
    {
     "name": "stderr",
     "output_type": "stream",
     "text": [
      " 63%|██████▎   | 118/186 [00:04<00:02, 31.21it/s]"
     ]
    }
   ],
   "source": [
    "n_run_ids = len(run_ids)\n",
    "n_procs = 2\n",
    "for _iz in range(0, n_run_ids, n_procs):\n",
    "    processes = []\n",
    "    for _in in range(n_procs):\n",
    "        run_id = run_ids[_iz * n_procs + _in]\n",
    "        p = mp.Process(\n",
    "            target=run_in_separate_process,\n",
    "            args=(run_id, _in),\n",
    "        )\n",
    "        processes.append(p)\n",
    "    for p in processes:\n",
    "        p.start()\n",
    "\n",
    "    for p in processes:\n",
    "        p.join()\n",
    "\n",
    "    for p in processes:\n",
    "        p.close()"
   ]
  },
  {
   "cell_type": "code",
   "execution_count": null,
   "metadata": {},
   "outputs": [],
   "source": []
  }
 ],
 "metadata": {
  "kernelspec": {
   "display_name": "Python SAM2",
   "language": "python",
   "name": "sam2env"
  }
 },
 "nbformat": 4,
 "nbformat_minor": 2
}
