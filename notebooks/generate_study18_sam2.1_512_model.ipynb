{
 "cells": [
  {
   "cell_type": "code",
   "execution_count": 1,
   "metadata": {},
   "outputs": [],
   "source": [
    "%load_ext autoreload\n",
    "%autoreload 2"
   ]
  },
  {
   "cell_type": "code",
   "execution_count": 2,
   "metadata": {},
   "outputs": [],
   "source": [
    "from pathlib import Path\n",
    "import os\n",
    "\n",
    "_current_fname = Path(locals()[\"__vsc_ipynb_file__\"])\n",
    "os.chdir(_current_fname.parent)"
   ]
  },
  {
   "cell_type": "code",
   "execution_count": 3,
   "metadata": {},
   "outputs": [],
   "source": [
    "import copick\n",
    "import multiprocess as mp\n",
    "import numpy as np\n",
    "\n",
    "mp.set_start_method(\"spawn\")\n"
   ]
  },
  {
   "cell_type": "code",
   "execution_count": 4,
   "metadata": {},
   "outputs": [],
   "source": [
    "def run_in_separate_process(\n",
    "    run_id,\n",
    "    out_dir,\n",
    "    device=0,\n",
    "    min_mask_area=2000,\n",
    "):\n",
    "    def overlap(img1, img2):\n",
    "        ints = np.logical_and(img1, img2).sum()\n",
    "        return ints / min(img1.sum(), img2.sum())\n",
    "\n",
    "    print(\"Using device: \", device)\n",
    "    import os\n",
    "\n",
    "    os.environ[\"CUDA_VISIBLE_DEVICES\"] = str(device)\n",
    "    from pathlib import Path\n",
    "\n",
    "    import copick\n",
    "    import joblib\n",
    "    import my_sam2_utils as utils\n",
    "    import numpy as np\n",
    "    import skimage\n",
    "    import torch\n",
    "\n",
    "    # use bfloat16 for the entire notebook.\n",
    "    torch.autocast(device_type=\"cuda\", dtype=torch.bfloat16).__enter__()\n",
    "\n",
    "    if torch.cuda.get_device_properties(0).major >= 8:\n",
    "        # turn on tfloat32 for Ampere GPUs (https://pytorch.org/docs/stable/notes/cuda.html#tensorfloat-32-tf32-on-ampere-devices)\n",
    "        torch.backends.cuda.matmul.allow_tf32 = True\n",
    "        torch.backends.cudnn.allow_tf32 = True\n",
    "\n",
    "    # select the device for computation\n",
    "    if torch.cuda.is_available():\n",
    "        device = torch.device(\"cuda\")\n",
    "    elif torch.backends.mps.is_available():\n",
    "        device = torch.device(\"mps\")\n",
    "    else:\n",
    "        device = torch.device(\"cpu\")\n",
    "    print(f\"using device: {device}\")\n",
    "\n",
    "    # use bfloat16 for the entire notebook\n",
    "    torch.autocast(\"cuda\", dtype=torch.bfloat16).__enter__()\n",
    "    # turn on tfloat32 for Ampere GPUs (https://pytorch.org/docs/stable/notes/cuda.html#tensorfloat-32-tf32-on-ampere-devices)\n",
    "    if torch.cuda.get_device_properties(0).major >= 8:\n",
    "        torch.backends.cuda.matmul.allow_tf32 = True\n",
    "        torch.backends.cudnn.allow_tf32 = True\n",
    "\n",
    "    from sam2.automatic_mask_generator import SAM2AutomaticMaskGenerator\n",
    "    from sam2.build_sam import build_sam2, build_sam2_tomogram_predictor\n",
    "\n",
    "    copick_config = (\n",
    "        \"/hpc/projects/group.czii/krios1.processing/copick/24jul29c/run002/copick_config.json\"\n",
    "    )\n",
    "\n",
    "    # Open Copick Project and Query All Available Runs\n",
    "    root = copick.from_file(copick_config)\n",
    "    run = root.get_run(run_id)\n",
    "    vol = utils.get_tomogram(run)\n",
    "\n",
    "    print(f\"Preprocessing the volume for {run_id}\")\n",
    "\n",
    "    vol_mean = vol.mean()\n",
    "    vol_std = vol.std()\n",
    "    vol_normed = np.clip(vol, vol_mean - 5 * vol_std, vol_mean + 5 * vol_std)\n",
    "    vol_normed = (vol_normed - vol_normed.min()) / (vol_normed.max() - vol_normed.min())\n",
    "    vol_normed = vol_normed * 2 - 1\n",
    "\n",
    "    zSlice = vol.shape[0] // 2  # int(points.mean(axis=0)[0])\n",
    "    deltaZ = 50  # int((np.max(points[:, 0]) - np.min(points[:, 0]))) * 2\n",
    "\n",
    "    min_mask_area = 2000\n",
    "\n",
    "    #\n",
    "    image = utils.project_tomogram(vol_normed, zSlice, deltaZ)\n",
    "    image = (image - image.min()) / (image.max() - image.min()) * 2 - 1\n",
    "\n",
    "    # Extend From Grayscale to RGB\n",
    "    image = np.repeat(image[..., None], 3, axis=2)\n",
    "\n",
    "    sam2_checkpoint = (\n",
    "        \"/hpc/mydata/saugat.kandel/sam2_projects/segment-anything-2/checkpoints/sam2_hiera_large.pt\"\n",
    "    )\n",
    "    model_cfg = \"sam2_hiera_l.yaml\"\n",
    "\n",
    "    sam2 = build_sam2(model_cfg, sam2_checkpoint, device=device, apply_postprocessing=True)\n",
    "    # mask_generator = SAM2AutomaticMaskGenerator(sam2)\n",
    "    mask_generator = SAM2AutomaticMaskGenerator(\n",
    "        model=sam2,\n",
    "        points_per_side=32,\n",
    "        points_per_batch=64,\n",
    "        pred_iou_thresh=0.7,\n",
    "        stability_score_thresh=0.92,\n",
    "        stability_score_offset=0.7,\n",
    "        crop_n_layers=1,\n",
    "        box_nms_thresh=0.5,\n",
    "        crop_n_points_downscale_factor=2,\n",
    "        min_mask_region_area=2000,\n",
    "        use_m2m=True,\n",
    "        multimask_output=True,\n",
    "        max_rel_box_size=0.8,\n",
    "    )\n",
    "\n",
    "    print(\"Running automatic segmentation for projection\")\n",
    "    masks = mask_generator.generate(image)\n",
    "\n",
    "    # Filter masks based on the area key and on side length\n",
    "    masks_filtered = []\n",
    "    for mask in masks:\n",
    "        _x1, _y1, w, h = mask[\"bbox\"]\n",
    "        if (\n",
    "            (mask[\"area\"] < min_mask_area)\n",
    "            or (w > 0.8 * image.shape[1])\n",
    "            or (h > 0.8 * image.shape[0])\n",
    "        ):\n",
    "            continue\n",
    "        masks_filtered.append(mask)\n",
    "    masks = masks_filtered\n",
    "    flags = {\"overlap\": False}\n",
    "    # Filter based on oveerlap\n",
    "    masks_to_remove = []\n",
    "\n",
    "    # for _i1, _mask1 in enumerate(masks):\n",
    "    #    _x1, _y1, w, h = _mask1[\"bbox\"]\n",
    "    #    for _i2, _mask2 in enumerate(masks):\n",
    "    #        if _i1 >= _i2:\n",
    "    #            continue\n",
    "    #        overlap_score = overlap(_mask1[\"segmentation\"], _mask2[\"segmentation\"])\n",
    "    #\n",
    "    #        if overlap_score > 0.9:\n",
    "    #            flags[\"overlap\"] = True\n",
    "    #            if _mask1[\"area\"] > _mask2[\"area\"]:\n",
    "    #                masks_to_remove.append(_i1)\n",
    "    #            else:\n",
    "    #                masks_to_remove.append(_i2)\n",
    "    # masks_to_remove = np.unique(masks_to_remove)\n",
    "    # masks = [masks[i] for i in range(len(masks)) if i not in masks_to_remove]\n",
    "    masks = sorted(masks, key=lambda x: x[\"area\"])\n",
    "\n",
    "    mask_outputs = {\"masks\": masks, \"flags\": flags}\n",
    "    print(\"Saving the masks\")\n",
    "    # out_dir = Path(\"cryosam_outputs_no_overlap\")\n",
    "    Path(out_dir).mkdir(exist_ok=True)\n",
    "    joblib.dump(mask_outputs, out_dir / f\"auto_masks_{run_id}.pkl\")\n",
    "\n",
    "    print(\"Running automatic segmentation for volume\")\n",
    "    model_cfg_2 = \"sam2_hiera_l_custom.yaml\"\n",
    "    predictor = build_sam2_tomogram_predictor(model_cfg_2, sam2_checkpoint, device=device)\n",
    "\n",
    "    inference_state = predictor.init_state(vol_normed)\n",
    "    predictor.reset_state(inference_state)\n",
    "\n",
    "    ann_frame_idx = zSlice\n",
    "\n",
    "    for ii in range(len(masks)):\n",
    "        # sam_points = (auto_points[ii, :] * scale).reshape(1, 2)\n",
    "        ann_obj_id = ii + 1\n",
    "\n",
    "        _, out_obj_ids, out_mask_logits = predictor.add_new_mask(\n",
    "            inference_state=inference_state,\n",
    "            frame_idx=ann_frame_idx,\n",
    "            obj_id=ann_obj_id,\n",
    "            mask=masks[ii][\"segmentation\"],\n",
    "        )\n",
    "\n",
    "    video_segments = {}\n",
    "    for out_frame_idx, out_obj_ids, out_mask_logits in predictor.propagate_in_video(\n",
    "        inference_state, start_frame_idx=zSlice, reverse=False\n",
    "    ):\n",
    "        video_segments[out_frame_idx] = {\n",
    "            out_obj_id: (out_mask_logits[i] > 0.0).cpu().numpy()\n",
    "            for i, out_obj_id in enumerate(out_obj_ids)\n",
    "        }\n",
    "\n",
    "        # Pull out Masks for Multiple Classes\n",
    "    nMasks = len(video_segments[zSlice])\n",
    "    vol_mask = np.zeros([vol.shape[0], vol.shape[1], vol.shape[2]], dtype=np.uint8)\n",
    "    for out_frame_idx in list(video_segments):\n",
    "        for jj in range(nMasks):\n",
    "            resized_mask = skimage.transform.resize(\n",
    "                video_segments[out_frame_idx][jj + 1][0,],\n",
    "                (vol.shape[1], vol.shape[2]),\n",
    "                anti_aliasing=False,\n",
    "            )\n",
    "            mask_update = resized_mask > 0\n",
    "            vol_mask[out_frame_idx, :, :][mask_update] = jj + 1\n",
    "\n",
    "    # run propagation throughout the video and collect the results in a dict\n",
    "    video_segments = {}  # video_segments contains the per-frame segmentation results\n",
    "    for out_frame_idx, out_obj_ids, out_mask_logits in predictor.propagate_in_video(\n",
    "        inference_state, start_frame_idx=zSlice, reverse=True\n",
    "    ):\n",
    "        video_segments[out_frame_idx] = {\n",
    "            out_obj_id: (out_mask_logits[i] > 0.0).cpu().numpy()\n",
    "            for i, out_obj_id in enumerate(out_obj_ids)\n",
    "        }\n",
    "\n",
    "    # Pull out Masks for Multiple Classes\n",
    "    for out_frame_idx in list(video_segments):\n",
    "        for jj in range(nMasks):\n",
    "            resized_mask = skimage.transform.resize(\n",
    "                video_segments[out_frame_idx][jj + 1][0,],\n",
    "                (vol.shape[1], vol.shape[2]),\n",
    "                anti_aliasing=False,\n",
    "            )\n",
    "            mask_update = resized_mask > 0\n",
    "            vol_mask[out_frame_idx, :, :][mask_update] = jj + 1\n",
    "\n",
    "    # Save the mask and the volume\n",
    "    print(\"Saving the masks and the volume\")\n",
    "\n",
    "    joblib.dump(vol_mask, out_dir / f\"vol_mask_{run_id}.pkl\")\n",
    "    return masks, vol_mask"
   ]
  },
  {
   "cell_type": "code",
   "execution_count": 5,
   "metadata": {},
   "outputs": [],
   "source": [
    "copick_config = (\n",
    "    \"/hpc/projects/group.czii/krios1.processing/copick/24jul29c/run002/copick_config.json\"\n",
    ")\n",
    "\n",
    "# Open Copick Project and Query All Available Runs\n",
    "root = copick.from_file(copick_config)\n",
    "run_ids = [run.name for run in root.runs]"
   ]
  },
  {
   "cell_type": "code",
   "execution_count": null,
   "metadata": {},
   "outputs": [
    {
     "name": "stderr",
     "output_type": "stream",
     "text": [
      "Process Process-1:\n",
      "Traceback (most recent call last):\n",
      "  File \"/hpc/mydata/saugat.kandel/sam2_projects/.pixi/envs/default/lib/python3.12/site-packages/multiprocess/process.py\", line 314, in _bootstrap\n",
      "    self.run()\n",
      "  File \"/hpc/mydata/saugat.kandel/sam2_projects/.pixi/envs/default/lib/python3.12/site-packages/multiprocess/process.py\", line 108, in run\n",
      "    self._target(*self._args, **self._kwargs)\n",
      "  File \"/tmp/ipykernel_4183672/3076483769.py\", line 104, in run_in_separate_process\n",
      "  File \"/hpc/mydata/saugat.kandel/sam2_projects/.pixi/envs/default/lib/python3.12/site-packages/torch/utils/_contextlib.py\", line 116, in decorate_context\n",
      "    return func(*args, **kwargs)\n",
      "           ^^^^^^^^^^^^^^^^^^^^^\n",
      "  File \"/hpc/mydata/saugat.kandel/sam2_projects/segment-anything-2/sam2/automatic_mask_generator.py\", line 200, in generate\n",
      "    mask_data = self._generate_masks(image)\n",
      "                ^^^^^^^^^^^^^^^^^^^^^^^^^^^\n",
      "  File \"/hpc/mydata/saugat.kandel/sam2_projects/segment-anything-2/sam2/automatic_mask_generator.py\", line 243, in _generate_masks\n",
      "    scores = 1 / box_area(data[\"crop_boxes\"])\n",
      "                 ^^^^^^^^^^^^^^^^^^^^^^^^^^^^\n",
      "  File \"/hpc/mydata/saugat.kandel/sam2_projects/.pixi/envs/default/lib/python3.12/site-packages/torchvision/ops/boxes.py\", line 251, in box_area\n",
      "    return (boxes[:, 2] - boxes[:, 0]) * (boxes[:, 3] - boxes[:, 1])\n",
      "            ~~~~~^^^^^^\n",
      "IndexError: too many indices for tensor of dimension 1\n"
     ]
    },
    {
     "name": "stdout",
     "output_type": "stream",
     "text": [
      "Using device:  0\n",
      "using device: cuda\n",
      "Getting denoised Tomogram with 10 A voxel size for the associated runID: Position_10_2_Vol\n",
      "Preprocessing the volume for Position_10_2_Vol\n",
      "Running automatic segmentation for projection\n",
      "Using device:  7\n",
      "using device: cuda\n",
      "Getting denoised Tomogram with 10 A voxel size for the associated runID: Position_11_4_Vol\n",
      "Preprocessing the volume for Position_11_4_Vol\n",
      "Running automatic segmentation for projection\n",
      "Saving the masks\n",
      "Running automatic segmentation for volume\n",
      "Using device:  1\n",
      "using device: cuda\n",
      "Getting denoised Tomogram with 10 A voxel size for the associated runID: Position_10_3_Vol\n",
      "Preprocessing the volume for Position_10_3_Vol\n",
      "Running automatic segmentation for projection\n",
      "Saving the masks\n",
      "Running automatic segmentation for volume\n"
     ]
    },
    {
     "name": "stderr",
     "output_type": "stream",
     "text": [
      "  9%|▉         | 17/186 [00:02<00:21,  7.88it/s]"
     ]
    },
    {
     "name": "stdout",
     "output_type": "stream",
     "text": [
      "Using device:  6\n",
      "using device: cuda\n",
      "Getting denoised Tomogram with 10 A voxel size for the associated runID: Position_11_3_Vol\n",
      "Preprocessing the volume for Position_11_3_Vol\n",
      "Running automatic segmentation for projection\n",
      "Saving the masks\n",
      "Running automatic segmentation for volume\n"
     ]
    },
    {
     "name": "stderr",
     "output_type": "stream",
     "text": [
      "  0%|          | 0/186 [00:00<?, ?it/s]5.20it/s]"
     ]
    },
    {
     "name": "stdout",
     "output_type": "stream",
     "text": [
      "Using device:  3\n",
      "using device: cuda\n",
      "Getting denoised Tomogram with 10 A voxel size for the associated runID: Position_10_5_Vol\n",
      "Preprocessing the volume for Position_10_5_Vol\n",
      "Running automatic segmentation for projection\n",
      "Saving the masks\n",
      "Running automatic segmentation for volume\n"
     ]
    },
    {
     "name": "stderr",
     "output_type": "stream",
     "text": [
      " 38%|███▊      | 70/186 [00:15<00:32,  3.54it/s]"
     ]
    },
    {
     "name": "stdout",
     "output_type": "stream",
     "text": [
      "Using device:  4\n",
      "using device: cuda\n",
      "Getting denoised Tomogram with 10 A voxel size for the associated runID: Position_10_Vol\n",
      "Preprocessing the volume for Position_10_Vol\n",
      "Running automatic segmentation for projection\n",
      "Saving the masks\n",
      "Running automatic segmentation for volume\n"
     ]
    },
    {
     "name": "stderr",
     "output_type": "stream",
     "text": [
      " 50%|█████     | 93/186 [00:21<00:28,  3.27it/s]"
     ]
    },
    {
     "name": "stdout",
     "output_type": "stream",
     "text": [
      "Using device:  2\n",
      "using device: cuda\n",
      "Getting denoised Tomogram with 10 A voxel size for the associated runID: Position_10_4_Vol\n",
      "Preprocessing the volume for Position_10_4_Vol\n",
      "Running automatic segmentation for projection\n",
      "Saving the masks\n",
      "Running automatic segmentation for volume\n"
     ]
    },
    {
     "name": "stderr",
     "output_type": "stream",
     "text": [
      " 51%|█████     | 95/186 [00:21<00:26,  3.42it/s]]"
     ]
    },
    {
     "name": "stdout",
     "output_type": "stream",
     "text": [
      "Using device:  5\n",
      "using device: cuda\n",
      "Getting denoised Tomogram with 10 A voxel size for the associated runID: Position_11_2_Vol\n",
      "Preprocessing the volume for Position_11_2_Vol\n",
      "Running automatic segmentation for projection\n",
      "Saving the masks\n",
      "Running automatic segmentation for volume\n"
     ]
    },
    {
     "name": "stderr",
     "output_type": "stream",
     "text": [
      "100%|██████████| 186/186 [00:36<00:00,  5.04it/s]\n",
      "100%|██████████| 186/186 [00:38<00:00,  4.81it/s]\n",
      "100%|██████████| 186/186 [00:37<00:00,  4.96it/s]00:16,  5.42it/s]\n",
      "100%|██████████| 186/186 [00:31<00:00,  5.84it/s]<00:02, 21.41it/s]\n",
      "100%|██████████| 186/186 [00:21<00:00,  8.54it/s]<00:04, 14.94it/s]\n",
      "100%|██████████| 186/186 [00:28<00:00,  6.53it/s]<00:05, 10.81it/s]\n",
      "propagate in video: 100%|██████████| 93/93 [00:06<00:00, 15.25it/s]\n",
      "100%|██████████| 186/186 [00:22<00:00,  8.37it/s]<00:02, 12.78it/s]\n",
      "propagate in video: 100%|██████████| 93/93 [00:02<00:00, 31.66it/s]\n",
      "propagate in video: 100%|██████████| 93/93 [00:06<00:00, 13.55it/s]\n",
      "propagate in video: 100%|██████████| 93/93 [00:06<00:00, 14.56it/s]\n",
      "propagate in video: 100%|██████████| 93/93 [00:04<00:00, 23.05it/s]\n",
      "propagate in video: 100%|██████████| 93/93 [00:06<00:00, 14.88it/s]\n",
      "propagate in video: 100%|██████████| 94/94 [00:03<00:00, 23.74it/s]\n",
      "propagate in video: 100%|██████████| 93/93 [00:04<00:00, 20.99it/s]\n",
      "propagate in video: 100%|██████████| 94/94 [00:02<00:00, 36.12it/s]\n",
      "propagate in video: 100%|██████████| 94/94 [00:02<00:00, 36.63it/s]\n",
      "propagate in video:  47%|████▋     | 44/94 [00:01<00:01, 40.97it/s]"
     ]
    },
    {
     "name": "stdout",
     "output_type": "stream",
     "text": [
      "Saving the masks and the volume\n",
      "Saving the masks and the volume\n"
     ]
    },
    {
     "name": "stderr",
     "output_type": "stream",
     "text": [
      "propagate in video:  34%|███▍      | 32/94 [00:02<00:05, 11.50it/s]"
     ]
    },
    {
     "name": "stdout",
     "output_type": "stream",
     "text": [
      "Saving the masks and the volume\n"
     ]
    },
    {
     "name": "stderr",
     "output_type": "stream",
     "text": [
      "propagate in video: 100%|██████████| 94/94 [00:02<00:00, 38.18it/s]\n",
      "propagate in video:  95%|█████████▍| 89/94 [00:03<00:00, 25.07it/s]"
     ]
    },
    {
     "name": "stdout",
     "output_type": "stream",
     "text": [
      "Saving the masks and the volume\n"
     ]
    },
    {
     "name": "stderr",
     "output_type": "stream",
     "text": [
      "propagate in video: 100%|██████████| 94/94 [00:03<00:00, 25.40it/s]\n",
      "propagate in video:  86%|████████▌ | 81/94 [00:05<00:00, 23.24it/s]"
     ]
    },
    {
     "name": "stdout",
     "output_type": "stream",
     "text": [
      "Saving the masks and the volume\n"
     ]
    },
    {
     "name": "stderr",
     "output_type": "stream",
     "text": [
      "propagate in video: 100%|██████████| 94/94 [00:05<00:00, 15.71it/s]\n",
      "propagate in video: 100%|██████████| 94/94 [00:04<00:00, 21.01it/s]\n"
     ]
    },
    {
     "name": "stdout",
     "output_type": "stream",
     "text": [
      "Saving the masks and the volume\n",
      "Saving the masks and the volume\n",
      "Using device:  5\n",
      "using device: cuda\n",
      "Getting denoised Tomogram with 10 A voxel size for the associated runID: Position_12_5_Vol\n",
      "Preprocessing the volume for Position_12_5_Vol\n",
      "Running automatic segmentation for projection\n",
      "Saving the masks\n",
      "Running automatic segmentation for volume\n"
     ]
    },
    {
     "name": "stderr",
     "output_type": "stream",
     "text": [
      " 26%|██▋       | 49/186 [00:04<00:09, 14.11it/s]"
     ]
    },
    {
     "name": "stdout",
     "output_type": "stream",
     "text": [
      "Using device:  3\n",
      "using device: cuda\n",
      "Getting denoised Tomogram with 10 A voxel size for the associated runID: Position_12_3_Vol\n",
      "Preprocessing the volume for Position_12_3_Vol\n",
      "Running automatic segmentation for projection\n",
      "Saving the masks\n",
      "Running automatic segmentation for volume\n"
     ]
    },
    {
     "name": "stderr",
     "output_type": "stream",
     "text": [
      " 30%|██▉       | 55/186 [00:04<00:10, 12.44it/s]"
     ]
    },
    {
     "name": "stdout",
     "output_type": "stream",
     "text": [
      "Using device:  6\n",
      "using device: cuda\n",
      "Getting denoised Tomogram with 10 A voxel size for the associated runID: Position_12_Vol\n",
      "Preprocessing the volume for Position_12_Vol\n",
      "Running automatic segmentation for projection\n",
      "Saving the masks\n",
      "Running automatic segmentation for volume\n"
     ]
    },
    {
     "name": "stderr",
     "output_type": "stream",
     "text": [
      " 16%|█▌        | 30/186 [00:09<00:42,  3.64it/s]]"
     ]
    },
    {
     "name": "stdout",
     "output_type": "stream",
     "text": [
      "Using device:  0\n",
      "using device: cuda\n",
      "Getting denoised Tomogram with 10 A voxel size for the associated runID: Position_11_5_Vol\n",
      "Preprocessing the volume for Position_11_5_Vol\n",
      "Running automatic segmentation for projection\n",
      "Saving the masks\n",
      "Running automatic segmentation for volume\n"
     ]
    },
    {
     "name": "stderr",
     "output_type": "stream",
     "text": [
      "100%|██████████| 186/186 [00:20<00:00,  8.98it/s]\n",
      "  0%|          | 0/186 [00:00<?, ?it/s] 5.61it/s]<00:01, 22.19it/s]"
     ]
    },
    {
     "name": "stdout",
     "output_type": "stream",
     "text": [
      "Using device:  2\n",
      "using device: cuda\n",
      "Getting denoised Tomogram with 10 A voxel size for the associated runID: Position_12_2_Vol\n",
      "Preprocessing the volume for Position_12_2_Vol\n",
      "Running automatic segmentation for projection\n",
      "Saving the masks\n",
      "Running automatic segmentation for volume\n"
     ]
    },
    {
     "name": "stderr",
     "output_type": "stream",
     "text": [
      "propagate in video: 100%|██████████| 93/93 [00:09<00:00,  9.42it/s]\n",
      " 69%|██████▉   | 129/186 [00:27<00:15,  3.73it/s]"
     ]
    },
    {
     "name": "stdout",
     "output_type": "stream",
     "text": [
      "Using device:  4\n",
      "using device: cuda\n",
      "Getting denoised Tomogram with 10 A voxel size for the associated runID: Position_12_4_Vol\n",
      "Preprocessing the volume for Position_12_4_Vol\n",
      "Running automatic segmentation for projection\n",
      "Saving the masks\n",
      "Running automatic segmentation for volume\n"
     ]
    },
    {
     "name": "stderr",
     "output_type": "stream",
     "text": [
      "100%|██████████| 186/186 [00:36<00:00,  5.09it/s]<00:00,  5.76it/s]\n",
      " 15%|█▍        | 27/186 [00:08<00:56,  2.83it/s]"
     ]
    },
    {
     "name": "stdout",
     "output_type": "stream",
     "text": [
      "Using device:  1\n",
      "using device: cuda\n",
      "Getting denoised Tomogram with 10 A voxel size for the associated runID: Position_11_Vol\n",
      "Preprocessing the volume for Position_11_Vol\n",
      "Running automatic segmentation for projection\n",
      "Saving the masks\n",
      "Running automatic segmentation for volume\n"
     ]
    },
    {
     "name": "stderr",
     "output_type": "stream",
     "text": [
      "propagate in video: 100%|██████████| 94/94 [00:08<00:00, 11.06it/s]\n",
      "  9%|▉         | 17/186 [00:05<01:02,  2.72it/s]]<00:09,  8.65it/s]"
     ]
    },
    {
     "name": "stdout",
     "output_type": "stream",
     "text": [
      "Saving the masks and the volume\n"
     ]
    },
    {
     "name": "stderr",
     "output_type": "stream",
     "text": [
      " 14%|█▍        | 26/186 [00:07<00:45,  3.54it/s]]<00:15,  4.39it/s]"
     ]
    },
    {
     "name": "stdout",
     "output_type": "stream",
     "text": [
      "Using device:  7\n",
      "using device: cuda\n",
      "Getting denoised Tomogram with 10 A voxel size for the associated runID: Position_13_2_Vol\n",
      "Preprocessing the volume for Position_13_2_Vol\n",
      "Running automatic segmentation for projection\n",
      "Saving the masks\n",
      "Running automatic segmentation for volume\n"
     ]
    },
    {
     "name": "stderr",
     "output_type": "stream",
     "text": [
      "propagate in video: 100%|██████████| 93/93 [00:14<00:00,  6.40it/s]\n",
      "100%|██████████| 186/186 [00:59<00:00,  3.12it/s]<00:11,  5.59it/s]\n",
      "100%|██████████| 186/186 [00:34<00:00,  5.42it/s]<00:11,  4.93it/s]\n",
      "100%|██████████| 186/186 [00:59<00:00,  3.13it/s]<00:13,  4.81it/s]\n",
      "propagate in video: 100%|██████████| 94/94 [00:14<00:00,  6.56it/s]\n",
      "propagate in video:  71%|███████   | 66/93 [00:08<00:04,  5.57it/s]"
     ]
    },
    {
     "name": "stdout",
     "output_type": "stream",
     "text": [
      "Saving the masks and the volume\n"
     ]
    },
    {
     "name": "stderr",
     "output_type": "stream",
     "text": [
      "100%|██████████| 186/186 [00:45<00:00,  4.12it/s]<00:05,  8.29it/s]\n",
      "100%|██████████| 186/186 [00:37<00:00,  5.02it/s]<00:00, 21.76it/s]\n",
      "propagate in video: 100%|██████████| 93/93 [00:10<00:00,  8.95it/s]\n",
      "100%|██████████| 186/186 [00:31<00:00,  6.00it/s]<00:04,  9.69it/s]\n",
      "propagate in video: 100%|██████████| 93/93 [00:09<00:00,  9.41it/s]\n",
      "propagate in video: 100%|██████████| 93/93 [00:18<00:00,  4.92it/s]\n",
      "propagate in video: 100%|██████████| 93/93 [00:05<00:00, 16.74it/s]\n",
      "propagate in video: 100%|██████████| 94/94 [00:07<00:00, 12.76it/s]\n",
      "propagate in video: 100%|██████████| 93/93 [00:07<00:00, 11.92it/s]\n",
      "propagate in video:  88%|████████▊ | 82/93 [00:05<00:00, 25.32it/s]"
     ]
    },
    {
     "name": "stdout",
     "output_type": "stream",
     "text": [
      "Saving the masks and the volume\n"
     ]
    },
    {
     "name": "stderr",
     "output_type": "stream",
     "text": [
      "propagate in video: 100%|██████████| 93/93 [00:06<00:00, 14.87it/s]\n",
      "propagate in video: 100%|██████████| 94/94 [00:04<00:00, 21.52it/s]\n",
      "propagate in video: 100%|██████████| 94/94 [00:08<00:00, 10.89it/s]\n",
      "propagate in video: 100%|██████████| 94/94 [00:07<00:00, 13.42it/s]\n"
     ]
    },
    {
     "name": "stdout",
     "output_type": "stream",
     "text": [
      "Saving the masks and the volume\n"
     ]
    },
    {
     "name": "stderr",
     "output_type": "stream",
     "text": [
      "propagate in video:  44%|████▎     | 41/94 [00:06<00:08,  6.25it/s]"
     ]
    },
    {
     "name": "stdout",
     "output_type": "stream",
     "text": [
      "Saving the masks and the volume\n",
      "Saving the masks and the volume\n"
     ]
    },
    {
     "name": "stderr",
     "output_type": "stream",
     "text": [
      "propagate in video: 100%|██████████| 94/94 [00:11<00:00,  8.12it/s]\n",
      "propagate in video: 100%|██████████| 94/94 [00:13<00:00,  6.87it/s]\n"
     ]
    },
    {
     "name": "stdout",
     "output_type": "stream",
     "text": [
      "Saving the masks and the volume\n",
      "Saving the masks and the volume\n",
      "Using device:  5\n",
      "using device: cuda\n",
      "Getting denoised Tomogram with 10 A voxel size for the associated runID: Position_14_2_Vol\n",
      "Preprocessing the volume for Position_14_2_Vol\n",
      "Running automatic segmentation for projection\n",
      "Saving the masks\n",
      "Running automatic segmentation for volume\n"
     ]
    },
    {
     "name": "stderr",
     "output_type": "stream",
     "text": [
      "  0%|          | 0/186 [00:00<?, ?it/s].37it/s]"
     ]
    },
    {
     "name": "stdout",
     "output_type": "stream",
     "text": [
      "Using device:  2\n",
      "using device: cuda\n",
      "Getting denoised Tomogram with 10 A voxel size for the associated runID: Position_13_5_Vol\n",
      "Preprocessing the volume for Position_13_5_Vol\n",
      "Running automatic segmentation for projection\n",
      "Saving the masks\n",
      "Running automatic segmentation for volume\n",
      "Using device:  1\n",
      "using device: cuda\n",
      "Getting denoised Tomogram with 10 A voxel size for the associated runID: Position_13_4_Vol\n",
      "Preprocessing the volume for Position_13_4_Vol\n",
      "Running automatic segmentation for projection\n",
      "Saving the masks\n",
      "Running automatic segmentation for volume\n"
     ]
    },
    {
     "name": "stderr",
     "output_type": "stream",
     "text": [
      "  8%|▊         | 14/186 [00:02<00:50,  3.39it/s]"
     ]
    },
    {
     "name": "stdout",
     "output_type": "stream",
     "text": [
      "Using device:  3\n",
      "using device: cuda\n",
      "Getting denoised Tomogram with 10 A voxel size for the associated runID: Position_13_6_Vol\n",
      "Preprocessing the volume for Position_13_6_Vol\n",
      "Running automatic segmentation for projection\n",
      "Saving the masks\n",
      "Running automatic segmentation for volume\n"
     ]
    },
    {
     "name": "stderr",
     "output_type": "stream",
     "text": [
      "  7%|▋         | 13/186 [00:03<00:46,  3.75it/s]"
     ]
    },
    {
     "name": "stdout",
     "output_type": "stream",
     "text": [
      "Using device:  7\n",
      "using device: cuda\n",
      "Getting denoised Tomogram with 10 A voxel size for the associated runID: Position_14_4_Vol\n",
      "Preprocessing the volume for Position_14_4_Vol\n",
      "Running automatic segmentation for projection\n",
      "Saving the masks\n",
      "Running automatic segmentation for volume\n"
     ]
    },
    {
     "name": "stderr",
     "output_type": "stream",
     "text": [
      "100%|██████████| 186/186 [00:46<00:00,  4.04it/s]\n",
      " 94%|█████████▍| 175/186 [00:45<00:03,  3.58it/s]"
     ]
    },
    {
     "name": "stdout",
     "output_type": "stream",
     "text": [
      "Using device:  6\n",
      "using device: cuda\n",
      "Getting denoised Tomogram with 10 A voxel size for the associated runID: Position_14_3_Vol\n",
      "Preprocessing the volume for Position_14_3_Vol\n",
      "Running automatic segmentation for projection\n",
      "Saving the masks\n",
      "Running automatic segmentation for volume\n"
     ]
    },
    {
     "name": "stderr",
     "output_type": "stream",
     "text": [
      "100%|██████████| 186/186 [00:48<00:00,  3.85it/s]?, ?it/s]\n",
      "100%|██████████| 186/186 [00:51<00:00,  3.58it/s]01:56,  1.28s/it]\n",
      "  4%|▍         | 7/186 [00:03<01:24,  2.11it/s]s]01:16,  1.18it/s]"
     ]
    },
    {
     "name": "stdout",
     "output_type": "stream",
     "text": [
      "Using device:  0\n",
      "using device: cuda\n",
      "Getting denoised Tomogram with 10 A voxel size for the associated runID: Position_13_3_Vol\n",
      "Preprocessing the volume for Position_13_3_Vol\n",
      "Running automatic segmentation for projection\n",
      "Saving the masks\n",
      "Running automatic segmentation for volume\n"
     ]
    },
    {
     "name": "stderr",
     "output_type": "stream",
     "text": [
      "propagate in video:   0%|          | 0/93 [00:00<?, ?it/s]9.87it/s]"
     ]
    },
    {
     "name": "stdout",
     "output_type": "stream",
     "text": [
      "Using device:  4\n",
      "using device: cuda\n",
      "Getting denoised Tomogram with 10 A voxel size for the associated runID: Position_13_Vol\n",
      "Preprocessing the volume for Position_13_Vol\n",
      "Running automatic segmentation for projection\n",
      "Saving the masks\n",
      "Running automatic segmentation for volume\n"
     ]
    },
    {
     "name": "stderr",
     "output_type": "stream",
     "text": [
      "100%|██████████| 186/186 [00:56<00:00,  3.30it/s]<00:11,  5.22it/s]\n",
      "propagate in video: 100%|██████████| 93/93 [00:17<00:00,  5.18it/s]\n",
      "propagate in video: 100%|██████████| 93/93 [00:13<00:00,  6.94it/s]\n",
      "propagate in video: 100%|██████████| 93/93 [00:18<00:00,  5.15it/s]\n",
      "propagate in video: 100%|██████████| 93/93 [00:20<00:00,  4.62it/s]\n",
      "100%|██████████| 186/186 [01:06<00:00,  2.80it/s]\n",
      "propagate in video: 100%|██████████| 94/94 [00:07<00:00, 12.98it/s]\n",
      "propagate in video:  86%|████████▌ | 81/94 [00:09<00:01,  7.37it/s]"
     ]
    },
    {
     "name": "stdout",
     "output_type": "stream",
     "text": [
      "Saving the masks and the volume\n"
     ]
    },
    {
     "name": "stderr",
     "output_type": "stream",
     "text": [
      "propagate in video: 100%|██████████| 94/94 [00:12<00:00,  7.66it/s]\n",
      "propagate in video: 100%|██████████| 94/94 [00:11<00:00,  8.27it/s]\n",
      "propagate in video:  37%|███▋      | 34/93 [00:11<00:15,  3.88it/s]"
     ]
    },
    {
     "name": "stdout",
     "output_type": "stream",
     "text": [
      "Saving the masks and the volume\n",
      "Saving the masks and the volume\n"
     ]
    },
    {
     "name": "stderr",
     "output_type": "stream",
     "text": [
      "100%|██████████| 186/186 [00:41<00:00,  4.43it/s]<00:06,  5.66it/s]\n",
      "100%|██████████| 186/186 [00:40<00:00,  4.60it/s]?, ?it/s]2.10it/s]\n",
      "100%|██████████| 186/186 [00:40<00:00,  4.54it/s]00:12,  6.78it/s]]\n",
      "propagate in video: 100%|██████████| 94/94 [00:16<00:00,  5.77it/s]\n",
      "propagate in video: 100%|██████████| 93/93 [00:23<00:00,  4.01it/s]\n",
      "propagate in video:   0%|          | 0/94 [00:00<?, ?it/s]4.11it/s]"
     ]
    },
    {
     "name": "stdout",
     "output_type": "stream",
     "text": [
      "Saving the masks and the volume\n"
     ]
    },
    {
     "name": "stderr",
     "output_type": "stream",
     "text": [
      "propagate in video: 100%|██████████| 93/93 [00:07<00:00, 12.04it/s]\n",
      "propagate in video: 100%|██████████| 93/93 [00:10<00:00,  8.65it/s]\n",
      "propagate in video: 100%|██████████| 93/93 [00:10<00:00,  8.85it/s]\n",
      "propagate in video: 100%|██████████| 94/94 [00:08<00:00, 11.14it/s]\n",
      "propagate in video:  28%|██▊       | 26/94 [00:02<00:06, 10.58it/s]"
     ]
    },
    {
     "name": "stdout",
     "output_type": "stream",
     "text": [
      "Saving the masks and the volume\n"
     ]
    },
    {
     "name": "stderr",
     "output_type": "stream",
     "text": [
      "propagate in video: 100%|██████████| 94/94 [00:07<00:00, 12.86it/s]\n",
      "propagate in video:  63%|██████▎   | 59/94 [00:04<00:02, 14.35it/s]"
     ]
    },
    {
     "name": "stdout",
     "output_type": "stream",
     "text": [
      "Saving the masks and the volume\n"
     ]
    },
    {
     "name": "stderr",
     "output_type": "stream",
     "text": [
      "propagate in video: 100%|██████████| 94/94 [00:06<00:00, 13.82it/s]\n",
      "propagate in video: 100%|██████████| 94/94 [00:08<00:00, 11.56it/s]\n"
     ]
    },
    {
     "name": "stdout",
     "output_type": "stream",
     "text": [
      "Saving the masks and the volume\n",
      "Saving the masks and the volume\n",
      "Using device:  1\n",
      "using device: cuda\n",
      "Getting denoised Tomogram with 10 A voxel size for the associated runID: Position_14_Vol\n",
      "Preprocessing the volume for Position_14_Vol\n",
      "Running automatic segmentation for projection\n",
      "Saving the masks\n",
      "Running automatic segmentation for volume\n"
     ]
    },
    {
     "name": "stderr",
     "output_type": "stream",
     "text": [
      " 23%|██▎       | 42/186 [00:06<00:05, 26.27it/s]"
     ]
    },
    {
     "name": "stdout",
     "output_type": "stream",
     "text": [
      "Using device:  3\n",
      "using device: cuda\n",
      "Getting denoised Tomogram with 10 A voxel size for the associated runID: Position_15_3_Vol\n",
      "Preprocessing the volume for Position_15_3_Vol\n",
      "Running automatic segmentation for projection\n",
      "Saving the masks\n",
      "Running automatic segmentation for volume\n"
     ]
    },
    {
     "name": "stderr",
     "output_type": "stream",
     "text": [
      " 10%|█         | 19/186 [00:03<00:26,  6.22it/s]"
     ]
    },
    {
     "name": "stdout",
     "output_type": "stream",
     "text": [
      "Using device:  2\n",
      "using device: cuda\n",
      "Getting denoised Tomogram with 10 A voxel size for the associated runID: Position_15_2_Vol\n",
      "Preprocessing the volume for Position_15_2_Vol\n",
      "Running automatic segmentation for projection\n",
      "Saving the masks\n",
      "Running automatic segmentation for volume\n"
     ]
    },
    {
     "name": "stderr",
     "output_type": "stream",
     "text": [
      " 25%|██▌       | 47/186 [00:07<00:23,  6.00it/s]]"
     ]
    },
    {
     "name": "stdout",
     "output_type": "stream",
     "text": [
      "Using device:  4\n",
      "using device: cuda\n",
      "Getting denoised Tomogram with 10 A voxel size for the associated runID: Position_15_Vol\n",
      "Preprocessing the volume for Position_15_Vol\n",
      "Running automatic segmentation for projection\n",
      "Saving the masks\n",
      "Running automatic segmentation for volume\n"
     ]
    },
    {
     "name": "stderr",
     "output_type": "stream",
     "text": [
      " 35%|███▌      | 66/186 [00:15<00:50,  2.40it/s]]"
     ]
    },
    {
     "name": "stdout",
     "output_type": "stream",
     "text": [
      "Using device:  6\n",
      "using device: cuda\n",
      "Getting denoised Tomogram with 10 A voxel size for the associated runID: Position_16_3_Vol\n",
      "Preprocessing the volume for Position_16_3_Vol\n",
      "Running automatic segmentation for projection\n",
      "Saving the masks\n",
      "Running automatic segmentation for volume\n"
     ]
    },
    {
     "name": "stderr",
     "output_type": "stream",
     "text": [
      "100%|██████████| 186/186 [00:35<00:00,  5.20it/s]\n",
      "  0%|          | 0/186 [00:00<?, ?it/s]4.14it/s]]"
     ]
    },
    {
     "name": "stdout",
     "output_type": "stream",
     "text": [
      "Using device:  0\n",
      "using device: cuda\n",
      "Getting denoised Tomogram with 10 A voxel size for the associated runID: Position_14_5_Vol\n",
      "Preprocessing the volume for Position_14_5_Vol\n",
      "Running automatic segmentation for projection\n",
      "Saving the masks\n",
      "Running automatic segmentation for volume\n"
     ]
    },
    {
     "name": "stderr",
     "output_type": "stream",
     "text": [
      " 87%|████████▋ | 161/186 [00:48<00:08,  2.81it/s]<00:12,  2.64it/s]"
     ]
    },
    {
     "name": "stdout",
     "output_type": "stream",
     "text": [
      "Using device:  7\n",
      "using device: cuda\n",
      "Getting denoised Tomogram with 10 A voxel size for the associated runID: Position_16_Vol\n",
      "Preprocessing the volume for Position_16_Vol\n",
      "Running automatic segmentation for projection\n",
      "Saving the masks\n",
      "Running automatic segmentation for volume\n"
     ]
    },
    {
     "name": "stderr",
     "output_type": "stream",
     "text": [
      "propagate in video: 100%|██████████| 93/93 [00:19<00:00,  4.71it/s]\n",
      " 63%|██████▎   | 117/186 [00:45<00:26,  2.59it/s]"
     ]
    },
    {
     "name": "stdout",
     "output_type": "stream",
     "text": [
      "Using device:  5\n",
      "using device: cuda\n",
      "Getting denoised Tomogram with 10 A voxel size for the associated runID: Position_16_2_Vol\n",
      "Preprocessing the volume for Position_16_2_Vol\n",
      "Running automatic segmentation for projection\n",
      "Saving the masks\n",
      "Running automatic segmentation for volume\n"
     ]
    },
    {
     "name": "stderr",
     "output_type": "stream",
     "text": [
      "100%|██████████| 186/186 [00:56<00:00,  3.27it/s]00:05, 16.05it/s]\n",
      "propagate in video: 100%|██████████| 94/94 [00:13<00:00,  6.97it/s]\n",
      "100%|██████████| 186/186 [01:07<00:00,  2.75it/s]<00:12,  4.35it/s]\n",
      "propagate in video: 100%|██████████| 93/93 [00:15<00:00,  5.96it/s]\n",
      " 85%|████████▍ | 158/186 [01:01<00:10,  2.57it/s]"
     ]
    },
    {
     "name": "stdout",
     "output_type": "stream",
     "text": [
      "Saving the masks and the volume\n"
     ]
    },
    {
     "name": "stderr",
     "output_type": "stream",
     "text": [
      "100%|██████████| 186/186 [01:09<00:00,  2.68it/s]03:22,  2.22s/it]\n",
      "100%|██████████| 186/186 [00:57<00:00,  3.23it/s]<00:07,  6.25it/s]\n",
      "100%|██████████| 186/186 [01:11<00:00,  2.59it/s]\n",
      "propagate in video: 100%|██████████| 93/93 [00:16<00:00,  5.68it/s]\n",
      "propagate in video:  54%|█████▍    | 50/93 [00:04<00:04,  9.75it/s]\n",
      "propagate in video: 100%|██████████| 94/94 [00:15<00:00,  6.12it/s]\n",
      " 83%|████████▎ | 154/186 [00:45<00:05,  5.90it/s]<00:07,  6.47it/s]"
     ]
    },
    {
     "name": "stdout",
     "output_type": "stream",
     "text": [
      "Saving the masks and the volume\n"
     ]
    },
    {
     "name": "stderr",
     "output_type": "stream",
     "text": [
      "propagate in video: 100%|██████████| 93/93 [00:10<00:00,  8.84it/s]\n",
      "100%|██████████| 186/186 [00:54<00:00,  3.44it/s]<00:05,  4.60it/s]\n",
      "100%|██████████| 186/186 [00:49<00:00,  3.73it/s]<00:12,  5.35it/s]\n",
      "propagate in video: 100%|██████████| 93/93 [00:14<00:00,  6.53it/s]\n",
      "propagate in video: 100%|██████████| 94/94 [00:12<00:00,  7.49it/s]\n",
      "propagate in video: 100%|██████████| 94/94 [00:09<00:00,  9.96it/s]\n",
      "propagate in video:  67%|██████▋   | 63/94 [00:03<00:02, 14.86it/s]"
     ]
    },
    {
     "name": "stdout",
     "output_type": "stream",
     "text": [
      "Saving the masks and the volume\n"
     ]
    },
    {
     "name": "stderr",
     "output_type": "stream",
     "text": [
      "propagate in video:  71%|███████▏  | 67/94 [00:04<00:01, 15.12it/s]"
     ]
    },
    {
     "name": "stdout",
     "output_type": "stream",
     "text": [
      "Saving the masks and the volume\n"
     ]
    },
    {
     "name": "stderr",
     "output_type": "stream",
     "text": [
      "propagate in video: 100%|██████████| 94/94 [00:11<00:00,  8.34it/s]\n",
      "propagate in video: 100%|██████████| 93/93 [00:07<00:00, 12.51it/s]\n",
      "propagate in video: 100%|██████████| 93/93 [00:08<00:00, 11.58it/s]\n"
     ]
    },
    {
     "name": "stdout",
     "output_type": "stream",
     "text": [
      "Saving the masks and the volume\n"
     ]
    },
    {
     "name": "stderr",
     "output_type": "stream",
     "text": [
      "propagate in video: 100%|██████████| 94/94 [00:06<00:00, 14.49it/s]\n",
      "propagate in video:  32%|███▏      | 30/94 [00:02<00:04, 14.34it/s]"
     ]
    },
    {
     "name": "stdout",
     "output_type": "stream",
     "text": [
      "Saving the masks and the volume\n"
     ]
    },
    {
     "name": "stderr",
     "output_type": "stream",
     "text": [
      "propagate in video: 100%|██████████| 94/94 [00:04<00:00, 23.43it/s]\n",
      "propagate in video:  78%|███████▊  | 73/94 [00:05<00:01, 16.39it/s]"
     ]
    },
    {
     "name": "stdout",
     "output_type": "stream",
     "text": [
      "Saving the masks and the volume\n"
     ]
    },
    {
     "name": "stderr",
     "output_type": "stream",
     "text": [
      "propagate in video: 100%|██████████| 94/94 [00:06<00:00, 14.75it/s]\n"
     ]
    },
    {
     "name": "stdout",
     "output_type": "stream",
     "text": [
      "Saving the masks and the volume\n",
      "Using device:  6\n",
      "using device: cuda\n",
      "Getting denoised Tomogram with 10 A voxel size for the associated runID: Position_19_2_Vol\n",
      "Preprocessing the volume for Position_19_2_Vol\n",
      "Running automatic segmentation for projection\n",
      "Saving the masks\n",
      "Running automatic segmentation for volume\n"
     ]
    },
    {
     "name": "stderr",
     "output_type": "stream",
     "text": [
      " 13%|█▎        | 25/186 [00:02<00:20,  8.01it/s]"
     ]
    },
    {
     "name": "stdout",
     "output_type": "stream",
     "text": [
      "Using device:  1\n",
      "using device: cuda\n",
      "Getting denoised Tomogram with 10 A voxel size for the associated runID: Position_17_3_Vol\n",
      "Preprocessing the volume for Position_17_3_Vol\n",
      "Running automatic segmentation for projection\n",
      "Saving the masks\n",
      "Running automatic segmentation for volume\n"
     ]
    },
    {
     "name": "stderr",
     "output_type": "stream",
     "text": [
      " 46%|████▌     | 86/186 [00:12<00:13,  7.27it/s]"
     ]
    },
    {
     "name": "stdout",
     "output_type": "stream",
     "text": [
      "Using device:  7\n",
      "using device: cuda\n",
      "Getting denoised Tomogram with 10 A voxel size for the associated runID: Position_19_3_Vol\n",
      "Preprocessing the volume for Position_19_3_Vol\n",
      "Running automatic segmentation for projection\n",
      "Saving the masks\n",
      "Running automatic segmentation for volume\n"
     ]
    },
    {
     "name": "stderr",
     "output_type": "stream",
     "text": [
      " 51%|█████     | 95/186 [00:14<00:21,  4.26it/s]"
     ]
    },
    {
     "name": "stdout",
     "output_type": "stream",
     "text": [
      "Using device:  4\n",
      "using device: cuda\n",
      "Getting denoised Tomogram with 10 A voxel size for the associated runID: Position_18_2_Vol\n",
      "Preprocessing the volume for Position_18_2_Vol\n",
      "Running automatic segmentation for projection\n",
      "Saving the masks\n",
      "Running automatic segmentation for volume\n"
     ]
    },
    {
     "name": "stderr",
     "output_type": "stream",
     "text": [
      " 63%|██████▎   | 118/186 [00:18<00:15,  4.43it/s]"
     ]
    },
    {
     "name": "stdout",
     "output_type": "stream",
     "text": [
      "Using device:  2\n",
      "using device: cuda\n",
      "Getting denoised Tomogram with 10 A voxel size for the associated runID: Position_17_4_Vol\n",
      "Preprocessing the volume for Position_17_4_Vol\n",
      "Running automatic segmentation for projection\n",
      "Saving the masks\n",
      "Running automatic segmentation for volume\n"
     ]
    },
    {
     "name": "stderr",
     "output_type": "stream",
     "text": [
      " 48%|████▊     | 89/186 [00:29<00:32,  3.01it/s]]"
     ]
    },
    {
     "name": "stdout",
     "output_type": "stream",
     "text": [
      "Using device:  5\n",
      "using device: cuda\n",
      "Getting denoised Tomogram with 10 A voxel size for the associated runID: Position_18_Vol\n",
      "Preprocessing the volume for Position_18_Vol\n",
      "Running automatic segmentation for projection\n",
      "Saving the masks\n",
      "Running automatic segmentation for volume\n"
     ]
    },
    {
     "name": "stderr",
     "output_type": "stream",
     "text": [
      "100%|██████████| 186/186 [00:44<00:00,  4.20it/s]\n",
      "100%|██████████| 186/186 [00:42<00:00,  4.33it/s]\n",
      "propagate in video:   0%|          | 0/93 [00:00<?, ?it/s]"
     ]
    },
    {
     "name": "stdout",
     "output_type": "stream",
     "text": [
      "Using device:  0\n",
      "using device: cuda\n",
      "Getting denoised Tomogram with 10 A voxel size for the associated runID: Position_17_2_Vol\n",
      "Preprocessing the volume for Position_17_2_Vol\n",
      "Running automatic segmentation for projection\n",
      "Saving the masks\n",
      "Running automatic segmentation for volume\n"
     ]
    },
    {
     "name": "stderr",
     "output_type": "stream",
     "text": [
      "100%|██████████| 186/186 [00:47<00:00,  3.94it/s]<00:29,  2.62it/s]\n",
      " 22%|██▏       | 41/186 [00:15<01:08,  2.11it/s]]<00:28,  2.72it/s]"
     ]
    },
    {
     "name": "stdout",
     "output_type": "stream",
     "text": [
      "Using device:  3\n",
      "using device: cuda\n",
      "Getting denoised Tomogram with 10 A voxel size for the associated runID: Position_17_Vol\n",
      "Preprocessing the volume for Position_17_Vol\n",
      "Running automatic segmentation for projection\n",
      "Saving the masks\n",
      "Running automatic segmentation for volume\n"
     ]
    },
    {
     "name": "stderr",
     "output_type": "stream",
     "text": [
      "propagate in video: 100%|██████████| 93/93 [00:21<00:00,  4.32it/s]\n",
      "propagate in video: 100%|██████████| 93/93 [00:24<00:00,  3.82it/s]\n",
      "100%|██████████| 186/186 [01:03<00:00,  2.91it/s]<00:00, 24.47it/s]\n",
      "propagate in video: 100%|██████████| 93/93 [00:17<00:00,  5.31it/s]\n",
      "100%|██████████| 186/186 [01:01<00:00,  3.00it/s]<00:03, 21.92it/s]\n",
      "propagate in video: 100%|██████████| 94/94 [00:09<00:00,  9.81it/s]\n",
      "propagate in video: 100%|██████████| 93/93 [00:08<00:00, 10.71it/s]\n",
      "propagate in video: 100%|██████████| 94/94 [00:14<00:00,  6.32it/s]\n",
      "propagate in video: 100%|██████████| 94/94 [00:17<00:00,  5.51it/s]\n",
      " 51%|█████     | 95/186 [00:33<00:26,  3.43it/s]]<00:00, 29.73it/s]"
     ]
    },
    {
     "name": "stdout",
     "output_type": "stream",
     "text": [
      "Saving the masks and the volume\n"
     ]
    },
    {
     "name": "stderr",
     "output_type": "stream",
     "text": [
      "propagate in video: 100%|██████████| 93/93 [00:10<00:00,  8.75it/s]\n",
      " 62%|██████▏   | 115/186 [00:45<00:26,  2.70it/s]<00:08,  5.43it/s]"
     ]
    },
    {
     "name": "stdout",
     "output_type": "stream",
     "text": [
      "Saving the masks and the volume\n"
     ]
    },
    {
     "name": "stderr",
     "output_type": "stream",
     "text": [
      " 59%|█████▉    | 110/186 [00:37<00:23,  3.28it/s]<00:01,  9.46it/s]"
     ]
    },
    {
     "name": "stdout",
     "output_type": "stream",
     "text": [
      "Saving the masks and the volume\n"
     ]
    },
    {
     "name": "stderr",
     "output_type": "stream",
     "text": [
      "propagate in video: 100%|██████████| 94/94 [00:10<00:00,  8.66it/s]\n",
      " 89%|████████▊ | 165/186 [00:57<00:06,  3.28it/s]<00:10,  6.33it/s]"
     ]
    },
    {
     "name": "stdout",
     "output_type": "stream",
     "text": [
      "Saving the masks and the volume\n"
     ]
    },
    {
     "name": "stderr",
     "output_type": "stream",
     "text": [
      "100%|██████████| 186/186 [01:02<00:00,  2.99it/s]<00:05,  7.81it/s]\n",
      "propagate in video: 100%|██████████| 94/94 [00:12<00:00,  7.77it/s]\n",
      "100%|██████████| 186/186 [01:01<00:00,  3.02it/s]<00:02, 26.06it/s]\n",
      "propagate in video:  49%|████▉     | 46/93 [00:02<00:01, 32.48it/s]"
     ]
    },
    {
     "name": "stdout",
     "output_type": "stream",
     "text": [
      "Saving the masks and the volume\n"
     ]
    },
    {
     "name": "stderr",
     "output_type": "stream",
     "text": [
      "100%|██████████| 186/186 [00:50<00:00,  3.65it/s]<00:01, 34.30it/s]\n",
      "propagate in video: 100%|██████████| 93/93 [00:05<00:00, 15.65it/s]\n",
      "propagate in video: 100%|██████████| 93/93 [00:06<00:00, 15.29it/s]\n",
      "propagate in video: 100%|██████████| 94/94 [00:06<00:00, 13.65it/s]\n",
      "propagate in video:  37%|███▋      | 35/94 [00:03<00:04, 12.06it/s]"
     ]
    },
    {
     "name": "stdout",
     "output_type": "stream",
     "text": [
      "Saving the masks and the volume\n"
     ]
    },
    {
     "name": "stderr",
     "output_type": "stream",
     "text": [
      "propagate in video: 100%|██████████| 93/93 [00:10<00:00,  8.83it/s]\n",
      "propagate in video: 100%|██████████| 94/94 [00:06<00:00, 13.90it/s]\n",
      "propagate in video:  67%|██████▋   | 63/94 [00:02<00:01, 29.13it/s]"
     ]
    },
    {
     "name": "stdout",
     "output_type": "stream",
     "text": [
      "Saving the masks and the volume\n"
     ]
    },
    {
     "name": "stderr",
     "output_type": "stream",
     "text": [
      "propagate in video: 100%|██████████| 94/94 [00:03<00:00, 23.73it/s]\n"
     ]
    },
    {
     "name": "stdout",
     "output_type": "stream",
     "text": [
      "Saving the masks and the volume\n"
     ]
    }
   ],
   "source": [
    "out_dir = Path(\"cryosam_daniel_study18_outputs\")\n",
    "\n",
    "n_run_ids = len(run_ids)\n",
    "n_procs = 8\n",
    "for _iz in range(0, n_run_ids, n_procs):\n",
    "    processes = []\n",
    "    for _in in range(n_procs):\n",
    "        _iz_this = _iz + _in\n",
    "        if _iz_this >= n_run_ids:\n",
    "            break\n",
    "        run_id = run_ids[_iz_this]\n",
    "        # run_id = runs_with_lysosomes[_iz_this].name\n",
    "        p = mp.Process(\n",
    "            target=run_in_separate_process,\n",
    "            args=(run_id, out_dir, _in),\n",
    "        )\n",
    "        processes.append(p)\n",
    "    for p in processes:\n",
    "        p.start()\n",
    "\n",
    "    for p in processes:\n",
    "        p.join()\n",
    "\n",
    "    for p in processes:\n",
    "        p.close()"
   ]
  },
  {
   "cell_type": "code",
   "execution_count": null,
   "metadata": {},
   "outputs": [],
   "source": []
  }
 ],
 "metadata": {
  "kernelspec": {
   "display_name": "Python SAM2",
   "language": "python",
   "name": "sam2env"
  }
 },
 "nbformat": 4,
 "nbformat_minor": 2
}
